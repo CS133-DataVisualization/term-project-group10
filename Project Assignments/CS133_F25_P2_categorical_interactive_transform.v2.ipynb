{
  "cells": [
    {
      "cell_type": "markdown",
      "source": [
        "# Project data exploration II -\n",
        "## plotting categorical plot and incorporating other data\n",
        "\n",
        "---\n",
        "\n",
        "\n",
        "We will continue to work with the dataset that your group is consider for the term project. In this notebook we will create some plot using the Seaborn module and the different categorical plots we practiced in class. Additionally, we will explore the idea of working with other datasets in addition to the one you originally selected to strengthen your argument."
      ],
      "metadata": {
        "id": "G1R_oERWiKtv"
      }
    },
    {
      "cell_type": "markdown",
      "source": [
        "Group name:  \n",
        "Created by NAMES (SJSU IDs): May Sabai (017390438), Jerry Nguyen (016437330), Anusri Nagarajan (017743700), Aldo Barrientos Calero (009890296)\n",
        "\n",
        "Last updated: 10/14/2025  "
      ],
      "metadata": {
        "id": "Ml3CVbR8iSwb"
      }
    },
    {
      "cell_type": "code",
      "source": [
        "import pandas as pd\n",
        "import seaborn as sns\n",
        "import matplotlib.pyplot as plt\n",
        "import numpy as np\n",
        "%matplotlib inline\n",
        "\n",
        "import warnings; warnings.filterwarnings(\"ignore\")\n",
        "\n",
        "# plotly library\n",
        "from plotly.offline import init_notebook_mode, iplot, plot\n",
        "import plotly as py\n",
        "init_notebook_mode(connected=True)\n",
        "import plotly.graph_objs as go\n",
        "import plotly.express as px"
      ],
      "metadata": {
        "id": "VllqDV6zb4xC",
        "colab": {
          "base_uri": "https://localhost:8080/",
          "height": 17
        },
        "outputId": "4a9a857c-3e8d-4471-fb24-d21cf77490b9"
      },
      "execution_count": null,
      "outputs": [
        {
          "output_type": "display_data",
          "data": {
            "text/html": [
              "        <script type=\"text/javascript\">\n",
              "        window.PlotlyConfig = {MathJaxConfig: 'local'};\n",
              "        if (window.MathJax && window.MathJax.Hub && window.MathJax.Hub.Config) {window.MathJax.Hub.Config({SVG: {font: \"STIX-Web\"}});}\n",
              "        if (typeof require !== 'undefined') {\n",
              "        require.undef(\"plotly\");\n",
              "        requirejs.config({\n",
              "            paths: {\n",
              "                'plotly': ['https://cdn.plot.ly/plotly-2.35.2.min']\n",
              "            }\n",
              "        });\n",
              "        require(['plotly'], function(Plotly) {\n",
              "            window._Plotly = Plotly;\n",
              "        });\n",
              "        }\n",
              "        </script>\n",
              "        "
            ]
          },
          "metadata": {}
        }
      ]
    },
    {
      "cell_type": "markdown",
      "source": [
        "### Q1: How clean is your data?  \n",
        "Do you have formatting concerns, null values, inconsistent data, etc... If so, explain what cleaning or reformating you have to do and how you plan to approach this cleaning steps."
      ],
      "metadata": {
        "id": "zmLRl47LAC6C"
      }
    },
    {
      "cell_type": "markdown",
      "source": [
        "We do have null values so we replace them with 'NaN' and drop the last empty column."
      ],
      "metadata": {
        "id": "5PUR1f_WbkY7"
      }
    },
    {
      "cell_type": "code",
      "source": [
        "from google.colab import drive\n",
        "drive.mount('/content/drive')\n",
        "\n",
        "renter_affordability = pd.read_csv('/content/drive/MyDrive/project/data/renter_affordability_data - 2023.csv')\n",
        "renter_affordability"
      ],
      "metadata": {
        "colab": {
          "base_uri": "https://localhost:8080/",
          "height": 458
        },
        "id": "yGpZMT1Pb13Y",
        "outputId": "26bf99da-2840-4103-e85c-e4c1e14dd2ec"
      },
      "execution_count": null,
      "outputs": [
        {
          "output_type": "stream",
          "name": "stdout",
          "text": [
            "Mounted at /content/drive\n"
          ]
        },
        {
          "output_type": "execute_result",
          "data": {
            "text/plain": [
              "     RegionID  SizeRank     CityName  StateName abb_StateName  \\\n",
              "0      394388        51   Birmingham    Alabama            AL   \n",
              "1      394698       114   Huntsville    Alabama            AL   \n",
              "2      394870       127       Mobile    Alabama            AL   \n",
              "3      394875       143   Montgomery    Alabama            AL   \n",
              "4      395171       188   Tuscaloosa    Alabama            AL   \n",
              "..        ...       ...          ...        ...           ...   \n",
              "384    394756       311    La Crosse  Wisconsin            WI   \n",
              "385    395089       352    Sheboygan  Wisconsin            WI   \n",
              "386    394599       381  Fond du Lac  Wisconsin            WI   \n",
              "387    394462       391     Cheyenne    Wyoming            WY   \n",
              "388    394445       454       Casper    Wyoming            WY   \n",
              "\n",
              "     Average Affordability  Population  Minimum Wage  Renter Income  \\\n",
              "0                 0.227831    196818.0          7.25    52619.50969   \n",
              "1                 0.195576    226228.0          7.25    55365.67706   \n",
              "2                 0.258713    201920.0          7.25    47740.49434   \n",
              "3                 0.237828    196107.0          7.25    49439.14181   \n",
              "4                 0.285725    113016.0          7.25    55426.68060   \n",
              "..                     ...         ...           ...            ...   \n",
              "384               0.177210     51283.0          7.25    42124.53685   \n",
              "385               0.173060     49614.0          7.25    42051.68461   \n",
              "386               0.157113     44381.0          7.25    37335.63819   \n",
              "387               0.195065     65287.0          7.25    48837.50061   \n",
              "388               0.214590     58748.0          7.25    52367.43235   \n",
              "\n",
              "     State income tax  State property tax  Median Income  \n",
              "0                 NaN              0.0036        44376.0  \n",
              "1                 NaN              0.0036        70778.0  \n",
              "2                 NaN              0.0036        51090.0  \n",
              "3                 NaN              0.0036        55687.0  \n",
              "4                 NaN              0.0036        48536.0  \n",
              "..                ...                 ...            ...  \n",
              "384               NaN              0.0125        53803.0  \n",
              "385               NaN              0.0125        62953.0  \n",
              "386               NaN              0.0125        61620.0  \n",
              "387               NaN              0.0055        77176.0  \n",
              "388               NaN              0.0055        69171.0  \n",
              "\n",
              "[389 rows x 12 columns]"
            ],
            "text/html": [
              "\n",
              "  <div id=\"df-573c075b-c0eb-4faa-a09b-38627721893c\" class=\"colab-df-container\">\n",
              "    <div>\n",
              "<style scoped>\n",
              "    .dataframe tbody tr th:only-of-type {\n",
              "        vertical-align: middle;\n",
              "    }\n",
              "\n",
              "    .dataframe tbody tr th {\n",
              "        vertical-align: top;\n",
              "    }\n",
              "\n",
              "    .dataframe thead th {\n",
              "        text-align: right;\n",
              "    }\n",
              "</style>\n",
              "<table border=\"1\" class=\"dataframe\">\n",
              "  <thead>\n",
              "    <tr style=\"text-align: right;\">\n",
              "      <th></th>\n",
              "      <th>RegionID</th>\n",
              "      <th>SizeRank</th>\n",
              "      <th>CityName</th>\n",
              "      <th>StateName</th>\n",
              "      <th>abb_StateName</th>\n",
              "      <th>Average Affordability</th>\n",
              "      <th>Population</th>\n",
              "      <th>Minimum Wage</th>\n",
              "      <th>Renter Income</th>\n",
              "      <th>State income tax</th>\n",
              "      <th>State property tax</th>\n",
              "      <th>Median Income</th>\n",
              "    </tr>\n",
              "  </thead>\n",
              "  <tbody>\n",
              "    <tr>\n",
              "      <th>0</th>\n",
              "      <td>394388</td>\n",
              "      <td>51</td>\n",
              "      <td>Birmingham</td>\n",
              "      <td>Alabama</td>\n",
              "      <td>AL</td>\n",
              "      <td>0.227831</td>\n",
              "      <td>196818.0</td>\n",
              "      <td>7.25</td>\n",
              "      <td>52619.50969</td>\n",
              "      <td>NaN</td>\n",
              "      <td>0.0036</td>\n",
              "      <td>44376.0</td>\n",
              "    </tr>\n",
              "    <tr>\n",
              "      <th>1</th>\n",
              "      <td>394698</td>\n",
              "      <td>114</td>\n",
              "      <td>Huntsville</td>\n",
              "      <td>Alabama</td>\n",
              "      <td>AL</td>\n",
              "      <td>0.195576</td>\n",
              "      <td>226228.0</td>\n",
              "      <td>7.25</td>\n",
              "      <td>55365.67706</td>\n",
              "      <td>NaN</td>\n",
              "      <td>0.0036</td>\n",
              "      <td>70778.0</td>\n",
              "    </tr>\n",
              "    <tr>\n",
              "      <th>2</th>\n",
              "      <td>394870</td>\n",
              "      <td>127</td>\n",
              "      <td>Mobile</td>\n",
              "      <td>Alabama</td>\n",
              "      <td>AL</td>\n",
              "      <td>0.258713</td>\n",
              "      <td>201920.0</td>\n",
              "      <td>7.25</td>\n",
              "      <td>47740.49434</td>\n",
              "      <td>NaN</td>\n",
              "      <td>0.0036</td>\n",
              "      <td>51090.0</td>\n",
              "    </tr>\n",
              "    <tr>\n",
              "      <th>3</th>\n",
              "      <td>394875</td>\n",
              "      <td>143</td>\n",
              "      <td>Montgomery</td>\n",
              "      <td>Alabama</td>\n",
              "      <td>AL</td>\n",
              "      <td>0.237828</td>\n",
              "      <td>196107.0</td>\n",
              "      <td>7.25</td>\n",
              "      <td>49439.14181</td>\n",
              "      <td>NaN</td>\n",
              "      <td>0.0036</td>\n",
              "      <td>55687.0</td>\n",
              "    </tr>\n",
              "    <tr>\n",
              "      <th>4</th>\n",
              "      <td>395171</td>\n",
              "      <td>188</td>\n",
              "      <td>Tuscaloosa</td>\n",
              "      <td>Alabama</td>\n",
              "      <td>AL</td>\n",
              "      <td>0.285725</td>\n",
              "      <td>113016.0</td>\n",
              "      <td>7.25</td>\n",
              "      <td>55426.68060</td>\n",
              "      <td>NaN</td>\n",
              "      <td>0.0036</td>\n",
              "      <td>48536.0</td>\n",
              "    </tr>\n",
              "    <tr>\n",
              "      <th>...</th>\n",
              "      <td>...</td>\n",
              "      <td>...</td>\n",
              "      <td>...</td>\n",
              "      <td>...</td>\n",
              "      <td>...</td>\n",
              "      <td>...</td>\n",
              "      <td>...</td>\n",
              "      <td>...</td>\n",
              "      <td>...</td>\n",
              "      <td>...</td>\n",
              "      <td>...</td>\n",
              "      <td>...</td>\n",
              "    </tr>\n",
              "    <tr>\n",
              "      <th>384</th>\n",
              "      <td>394756</td>\n",
              "      <td>311</td>\n",
              "      <td>La Crosse</td>\n",
              "      <td>Wisconsin</td>\n",
              "      <td>WI</td>\n",
              "      <td>0.177210</td>\n",
              "      <td>51283.0</td>\n",
              "      <td>7.25</td>\n",
              "      <td>42124.53685</td>\n",
              "      <td>NaN</td>\n",
              "      <td>0.0125</td>\n",
              "      <td>53803.0</td>\n",
              "    </tr>\n",
              "    <tr>\n",
              "      <th>385</th>\n",
              "      <td>395089</td>\n",
              "      <td>352</td>\n",
              "      <td>Sheboygan</td>\n",
              "      <td>Wisconsin</td>\n",
              "      <td>WI</td>\n",
              "      <td>0.173060</td>\n",
              "      <td>49614.0</td>\n",
              "      <td>7.25</td>\n",
              "      <td>42051.68461</td>\n",
              "      <td>NaN</td>\n",
              "      <td>0.0125</td>\n",
              "      <td>62953.0</td>\n",
              "    </tr>\n",
              "    <tr>\n",
              "      <th>386</th>\n",
              "      <td>394599</td>\n",
              "      <td>381</td>\n",
              "      <td>Fond du Lac</td>\n",
              "      <td>Wisconsin</td>\n",
              "      <td>WI</td>\n",
              "      <td>0.157113</td>\n",
              "      <td>44381.0</td>\n",
              "      <td>7.25</td>\n",
              "      <td>37335.63819</td>\n",
              "      <td>NaN</td>\n",
              "      <td>0.0125</td>\n",
              "      <td>61620.0</td>\n",
              "    </tr>\n",
              "    <tr>\n",
              "      <th>387</th>\n",
              "      <td>394462</td>\n",
              "      <td>391</td>\n",
              "      <td>Cheyenne</td>\n",
              "      <td>Wyoming</td>\n",
              "      <td>WY</td>\n",
              "      <td>0.195065</td>\n",
              "      <td>65287.0</td>\n",
              "      <td>7.25</td>\n",
              "      <td>48837.50061</td>\n",
              "      <td>NaN</td>\n",
              "      <td>0.0055</td>\n",
              "      <td>77176.0</td>\n",
              "    </tr>\n",
              "    <tr>\n",
              "      <th>388</th>\n",
              "      <td>394445</td>\n",
              "      <td>454</td>\n",
              "      <td>Casper</td>\n",
              "      <td>Wyoming</td>\n",
              "      <td>WY</td>\n",
              "      <td>0.214590</td>\n",
              "      <td>58748.0</td>\n",
              "      <td>7.25</td>\n",
              "      <td>52367.43235</td>\n",
              "      <td>NaN</td>\n",
              "      <td>0.0055</td>\n",
              "      <td>69171.0</td>\n",
              "    </tr>\n",
              "  </tbody>\n",
              "</table>\n",
              "<p>389 rows × 12 columns</p>\n",
              "</div>\n",
              "    <div class=\"colab-df-buttons\">\n",
              "\n",
              "  <div class=\"colab-df-container\">\n",
              "    <button class=\"colab-df-convert\" onclick=\"convertToInteractive('df-573c075b-c0eb-4faa-a09b-38627721893c')\"\n",
              "            title=\"Convert this dataframe to an interactive table.\"\n",
              "            style=\"display:none;\">\n",
              "\n",
              "  <svg xmlns=\"http://www.w3.org/2000/svg\" height=\"24px\" viewBox=\"0 -960 960 960\">\n",
              "    <path d=\"M120-120v-720h720v720H120Zm60-500h600v-160H180v160Zm220 220h160v-160H400v160Zm0 220h160v-160H400v160ZM180-400h160v-160H180v160Zm440 0h160v-160H620v160ZM180-180h160v-160H180v160Zm440 0h160v-160H620v160Z\"/>\n",
              "  </svg>\n",
              "    </button>\n",
              "\n",
              "  <style>\n",
              "    .colab-df-container {\n",
              "      display:flex;\n",
              "      gap: 12px;\n",
              "    }\n",
              "\n",
              "    .colab-df-convert {\n",
              "      background-color: #E8F0FE;\n",
              "      border: none;\n",
              "      border-radius: 50%;\n",
              "      cursor: pointer;\n",
              "      display: none;\n",
              "      fill: #1967D2;\n",
              "      height: 32px;\n",
              "      padding: 0 0 0 0;\n",
              "      width: 32px;\n",
              "    }\n",
              "\n",
              "    .colab-df-convert:hover {\n",
              "      background-color: #E2EBFA;\n",
              "      box-shadow: 0px 1px 2px rgba(60, 64, 67, 0.3), 0px 1px 3px 1px rgba(60, 64, 67, 0.15);\n",
              "      fill: #174EA6;\n",
              "    }\n",
              "\n",
              "    .colab-df-buttons div {\n",
              "      margin-bottom: 4px;\n",
              "    }\n",
              "\n",
              "    [theme=dark] .colab-df-convert {\n",
              "      background-color: #3B4455;\n",
              "      fill: #D2E3FC;\n",
              "    }\n",
              "\n",
              "    [theme=dark] .colab-df-convert:hover {\n",
              "      background-color: #434B5C;\n",
              "      box-shadow: 0px 1px 3px 1px rgba(0, 0, 0, 0.15);\n",
              "      filter: drop-shadow(0px 1px 2px rgba(0, 0, 0, 0.3));\n",
              "      fill: #FFFFFF;\n",
              "    }\n",
              "  </style>\n",
              "\n",
              "    <script>\n",
              "      const buttonEl =\n",
              "        document.querySelector('#df-573c075b-c0eb-4faa-a09b-38627721893c button.colab-df-convert');\n",
              "      buttonEl.style.display =\n",
              "        google.colab.kernel.accessAllowed ? 'block' : 'none';\n",
              "\n",
              "      async function convertToInteractive(key) {\n",
              "        const element = document.querySelector('#df-573c075b-c0eb-4faa-a09b-38627721893c');\n",
              "        const dataTable =\n",
              "          await google.colab.kernel.invokeFunction('convertToInteractive',\n",
              "                                                    [key], {});\n",
              "        if (!dataTable) return;\n",
              "\n",
              "        const docLinkHtml = 'Like what you see? Visit the ' +\n",
              "          '<a target=\"_blank\" href=https://colab.research.google.com/notebooks/data_table.ipynb>data table notebook</a>'\n",
              "          + ' to learn more about interactive tables.';\n",
              "        element.innerHTML = '';\n",
              "        dataTable['output_type'] = 'display_data';\n",
              "        await google.colab.output.renderOutput(dataTable, element);\n",
              "        const docLink = document.createElement('div');\n",
              "        docLink.innerHTML = docLinkHtml;\n",
              "        element.appendChild(docLink);\n",
              "      }\n",
              "    </script>\n",
              "  </div>\n",
              "\n",
              "\n",
              "    <div id=\"df-559f49df-bc53-4b13-95cf-48789e2929ee\">\n",
              "      <button class=\"colab-df-quickchart\" onclick=\"quickchart('df-559f49df-bc53-4b13-95cf-48789e2929ee')\"\n",
              "                title=\"Suggest charts\"\n",
              "                style=\"display:none;\">\n",
              "\n",
              "<svg xmlns=\"http://www.w3.org/2000/svg\" height=\"24px\"viewBox=\"0 0 24 24\"\n",
              "     width=\"24px\">\n",
              "    <g>\n",
              "        <path d=\"M19 3H5c-1.1 0-2 .9-2 2v14c0 1.1.9 2 2 2h14c1.1 0 2-.9 2-2V5c0-1.1-.9-2-2-2zM9 17H7v-7h2v7zm4 0h-2V7h2v10zm4 0h-2v-4h2v4z\"/>\n",
              "    </g>\n",
              "</svg>\n",
              "      </button>\n",
              "\n",
              "<style>\n",
              "  .colab-df-quickchart {\n",
              "      --bg-color: #E8F0FE;\n",
              "      --fill-color: #1967D2;\n",
              "      --hover-bg-color: #E2EBFA;\n",
              "      --hover-fill-color: #174EA6;\n",
              "      --disabled-fill-color: #AAA;\n",
              "      --disabled-bg-color: #DDD;\n",
              "  }\n",
              "\n",
              "  [theme=dark] .colab-df-quickchart {\n",
              "      --bg-color: #3B4455;\n",
              "      --fill-color: #D2E3FC;\n",
              "      --hover-bg-color: #434B5C;\n",
              "      --hover-fill-color: #FFFFFF;\n",
              "      --disabled-bg-color: #3B4455;\n",
              "      --disabled-fill-color: #666;\n",
              "  }\n",
              "\n",
              "  .colab-df-quickchart {\n",
              "    background-color: var(--bg-color);\n",
              "    border: none;\n",
              "    border-radius: 50%;\n",
              "    cursor: pointer;\n",
              "    display: none;\n",
              "    fill: var(--fill-color);\n",
              "    height: 32px;\n",
              "    padding: 0;\n",
              "    width: 32px;\n",
              "  }\n",
              "\n",
              "  .colab-df-quickchart:hover {\n",
              "    background-color: var(--hover-bg-color);\n",
              "    box-shadow: 0 1px 2px rgba(60, 64, 67, 0.3), 0 1px 3px 1px rgba(60, 64, 67, 0.15);\n",
              "    fill: var(--button-hover-fill-color);\n",
              "  }\n",
              "\n",
              "  .colab-df-quickchart-complete:disabled,\n",
              "  .colab-df-quickchart-complete:disabled:hover {\n",
              "    background-color: var(--disabled-bg-color);\n",
              "    fill: var(--disabled-fill-color);\n",
              "    box-shadow: none;\n",
              "  }\n",
              "\n",
              "  .colab-df-spinner {\n",
              "    border: 2px solid var(--fill-color);\n",
              "    border-color: transparent;\n",
              "    border-bottom-color: var(--fill-color);\n",
              "    animation:\n",
              "      spin 1s steps(1) infinite;\n",
              "  }\n",
              "\n",
              "  @keyframes spin {\n",
              "    0% {\n",
              "      border-color: transparent;\n",
              "      border-bottom-color: var(--fill-color);\n",
              "      border-left-color: var(--fill-color);\n",
              "    }\n",
              "    20% {\n",
              "      border-color: transparent;\n",
              "      border-left-color: var(--fill-color);\n",
              "      border-top-color: var(--fill-color);\n",
              "    }\n",
              "    30% {\n",
              "      border-color: transparent;\n",
              "      border-left-color: var(--fill-color);\n",
              "      border-top-color: var(--fill-color);\n",
              "      border-right-color: var(--fill-color);\n",
              "    }\n",
              "    40% {\n",
              "      border-color: transparent;\n",
              "      border-right-color: var(--fill-color);\n",
              "      border-top-color: var(--fill-color);\n",
              "    }\n",
              "    60% {\n",
              "      border-color: transparent;\n",
              "      border-right-color: var(--fill-color);\n",
              "    }\n",
              "    80% {\n",
              "      border-color: transparent;\n",
              "      border-right-color: var(--fill-color);\n",
              "      border-bottom-color: var(--fill-color);\n",
              "    }\n",
              "    90% {\n",
              "      border-color: transparent;\n",
              "      border-bottom-color: var(--fill-color);\n",
              "    }\n",
              "  }\n",
              "</style>\n",
              "\n",
              "      <script>\n",
              "        async function quickchart(key) {\n",
              "          const quickchartButtonEl =\n",
              "            document.querySelector('#' + key + ' button');\n",
              "          quickchartButtonEl.disabled = true;  // To prevent multiple clicks.\n",
              "          quickchartButtonEl.classList.add('colab-df-spinner');\n",
              "          try {\n",
              "            const charts = await google.colab.kernel.invokeFunction(\n",
              "                'suggestCharts', [key], {});\n",
              "          } catch (error) {\n",
              "            console.error('Error during call to suggestCharts:', error);\n",
              "          }\n",
              "          quickchartButtonEl.classList.remove('colab-df-spinner');\n",
              "          quickchartButtonEl.classList.add('colab-df-quickchart-complete');\n",
              "        }\n",
              "        (() => {\n",
              "          let quickchartButtonEl =\n",
              "            document.querySelector('#df-559f49df-bc53-4b13-95cf-48789e2929ee button');\n",
              "          quickchartButtonEl.style.display =\n",
              "            google.colab.kernel.accessAllowed ? 'block' : 'none';\n",
              "        })();\n",
              "      </script>\n",
              "    </div>\n",
              "\n",
              "  <div id=\"id_c4f46b3c-3b8b-465b-af27-6f7dff6fa4e1\">\n",
              "    <style>\n",
              "      .colab-df-generate {\n",
              "        background-color: #E8F0FE;\n",
              "        border: none;\n",
              "        border-radius: 50%;\n",
              "        cursor: pointer;\n",
              "        display: none;\n",
              "        fill: #1967D2;\n",
              "        height: 32px;\n",
              "        padding: 0 0 0 0;\n",
              "        width: 32px;\n",
              "      }\n",
              "\n",
              "      .colab-df-generate:hover {\n",
              "        background-color: #E2EBFA;\n",
              "        box-shadow: 0px 1px 2px rgba(60, 64, 67, 0.3), 0px 1px 3px 1px rgba(60, 64, 67, 0.15);\n",
              "        fill: #174EA6;\n",
              "      }\n",
              "\n",
              "      [theme=dark] .colab-df-generate {\n",
              "        background-color: #3B4455;\n",
              "        fill: #D2E3FC;\n",
              "      }\n",
              "\n",
              "      [theme=dark] .colab-df-generate:hover {\n",
              "        background-color: #434B5C;\n",
              "        box-shadow: 0px 1px 3px 1px rgba(0, 0, 0, 0.15);\n",
              "        filter: drop-shadow(0px 1px 2px rgba(0, 0, 0, 0.3));\n",
              "        fill: #FFFFFF;\n",
              "      }\n",
              "    </style>\n",
              "    <button class=\"colab-df-generate\" onclick=\"generateWithVariable('renter_affordability')\"\n",
              "            title=\"Generate code using this dataframe.\"\n",
              "            style=\"display:none;\">\n",
              "\n",
              "  <svg xmlns=\"http://www.w3.org/2000/svg\" height=\"24px\"viewBox=\"0 0 24 24\"\n",
              "       width=\"24px\">\n",
              "    <path d=\"M7,19H8.4L18.45,9,17,7.55,7,17.6ZM5,21V16.75L18.45,3.32a2,2,0,0,1,2.83,0l1.4,1.43a1.91,1.91,0,0,1,.58,1.4,1.91,1.91,0,0,1-.58,1.4L9.25,21ZM18.45,9,17,7.55Zm-12,3A5.31,5.31,0,0,0,4.9,8.1,5.31,5.31,0,0,0,1,6.5,5.31,5.31,0,0,0,4.9,4.9,5.31,5.31,0,0,0,6.5,1,5.31,5.31,0,0,0,8.1,4.9,5.31,5.31,0,0,0,12,6.5,5.46,5.46,0,0,0,6.5,12Z\"/>\n",
              "  </svg>\n",
              "    </button>\n",
              "    <script>\n",
              "      (() => {\n",
              "      const buttonEl =\n",
              "        document.querySelector('#id_c4f46b3c-3b8b-465b-af27-6f7dff6fa4e1 button.colab-df-generate');\n",
              "      buttonEl.style.display =\n",
              "        google.colab.kernel.accessAllowed ? 'block' : 'none';\n",
              "\n",
              "      buttonEl.onclick = () => {\n",
              "        google.colab.notebook.generateWithVariable('renter_affordability');\n",
              "      }\n",
              "      })();\n",
              "    </script>\n",
              "  </div>\n",
              "\n",
              "    </div>\n",
              "  </div>\n"
            ],
            "application/vnd.google.colaboratory.intrinsic+json": {
              "type": "dataframe",
              "variable_name": "renter_affordability",
              "summary": "{\n  \"name\": \"renter_affordability\",\n  \"rows\": 389,\n  \"fields\": [\n    {\n      \"column\": \"RegionID\",\n      \"properties\": {\n        \"dtype\": \"number\",\n        \"std\": 62642,\n        \"min\": 394299,\n        \"max\": 845160,\n        \"num_unique_values\": 389,\n        \"samples\": [\n          394998,\n          395018,\n          394361\n        ],\n        \"semantic_type\": \"\",\n        \"description\": \"\"\n      }\n    },\n    {\n      \"column\": \"SizeRank\",\n      \"properties\": {\n        \"dtype\": \"number\",\n        \"std\": 126,\n        \"min\": 1,\n        \"max\": 552,\n        \"num_unique_values\": 387,\n        \"samples\": [\n          307,\n          213,\n          158\n        ],\n        \"semantic_type\": \"\",\n        \"description\": \"\"\n      }\n    },\n    {\n      \"column\": \"CityName\",\n      \"properties\": {\n        \"dtype\": \"string\",\n        \"num_unique_values\": 363,\n        \"samples\": [\n          \"Detroit\",\n          \"Bakersfield\",\n          \"Tucson\"\n        ],\n        \"semantic_type\": \"\",\n        \"description\": \"\"\n      }\n    },\n    {\n      \"column\": \"StateName\",\n      \"properties\": {\n        \"dtype\": \"category\",\n        \"num_unique_values\": 50,\n        \"samples\": [\n          \"Indiana\",\n          \"South Carolina\",\n          \"New Mexico\"\n        ],\n        \"semantic_type\": \"\",\n        \"description\": \"\"\n      }\n    },\n    {\n      \"column\": \"abb_StateName\",\n      \"properties\": {\n        \"dtype\": \"category\",\n        \"num_unique_values\": 50,\n        \"samples\": [\n          \"IN\",\n          \"SC\",\n          \"NM\"\n        ],\n        \"semantic_type\": \"\",\n        \"description\": \"\"\n      }\n    },\n    {\n      \"column\": \"Average Affordability\",\n      \"properties\": {\n        \"dtype\": \"number\",\n        \"std\": 0.05216157202817256,\n        \"min\": 0.1351019423,\n        \"max\": 0.4554062413,\n        \"num_unique_values\": 379,\n        \"samples\": [\n          0.1988762326,\n          0.1819227037,\n          0.2598704396\n        ],\n        \"semantic_type\": \"\",\n        \"description\": \"\"\n      }\n    },\n    {\n      \"column\": \"Population\",\n      \"properties\": {\n        \"dtype\": \"number\",\n        \"std\": 545590.7242772665,\n        \"min\": 84.0,\n        \"max\": 8390888.0,\n        \"num_unique_values\": 380,\n        \"samples\": [\n          104707.0,\n          50582.0,\n          85667.0\n        ],\n        \"semantic_type\": \"\",\n        \"description\": \"\"\n      }\n    },\n    {\n      \"column\": \"Minimum Wage\",\n      \"properties\": {\n        \"dtype\": \"number\",\n        \"std\": 3.1372862464528013,\n        \"min\": 5.15,\n        \"max\": 15.74,\n        \"num_unique_values\": 26,\n        \"samples\": [\n          5.15,\n          9.95,\n          7.25\n        ],\n        \"semantic_type\": \"\",\n        \"description\": \"\"\n      }\n    },\n    {\n      \"column\": \"Renter Income\",\n      \"properties\": {\n        \"dtype\": \"number\",\n        \"std\": 18785.481427343486,\n        \"min\": 28024.10163,\n        \"max\": 136889.5837,\n        \"num_unique_values\": 379,\n        \"samples\": [\n          43819.73892,\n          47797.00269,\n          53068.36011\n        ],\n        \"semantic_type\": \"\",\n        \"description\": \"\"\n      }\n    },\n    {\n      \"column\": \"State income tax\",\n      \"properties\": {\n        \"dtype\": \"number\",\n        \"std\": null,\n        \"min\": null,\n        \"max\": null,\n        \"num_unique_values\": 0,\n        \"samples\": [],\n        \"semantic_type\": \"\",\n        \"description\": \"\"\n      }\n    },\n    {\n      \"column\": \"State property tax\",\n      \"properties\": {\n        \"dtype\": \"number\",\n        \"std\": 0.0036056565306897674,\n        \"min\": 0.0032,\n        \"max\": 0.0183,\n        \"num_unique_values\": 39,\n        \"samples\": [],\n        \"semantic_type\": \"\",\n        \"description\": \"\"\n      }\n    },\n    {\n      \"column\": \"Median Income\",\n      \"properties\": {\n        \"dtype\": \"number\",\n        \"std\": 16017.009909315206,\n        \"min\": 29670.0,\n        \"max\": 141565.0,\n        \"num_unique_values\": 381,\n        \"samples\": [],\n        \"semantic_type\": \"\",\n        \"description\": \"\"\n      }\n    }\n  ]\n}"
            }
          },
          "metadata": {},
          "execution_count": 2
        }
      ]
    },
    {
      "cell_type": "code",
      "source": [
        "!pwd\n",
        "!ls sample_data/\n"
      ],
      "metadata": {
        "colab": {
          "base_uri": "https://localhost:8080/"
        },
        "id": "p-n-l4D0rpaS",
        "outputId": "c9b76e74-057a-424b-d07d-b850147554ab"
      },
      "execution_count": null,
      "outputs": [
        {
          "output_type": "stream",
          "name": "stdout",
          "text": [
            "/content\n",
            "anscombe.json\t\t      mnist_test.csv\n",
            "california_housing_test.csv   mnist_train_small.csv\n",
            "california_housing_train.csv  README.md\n"
          ]
        }
      ]
    },
    {
      "cell_type": "code",
      "source": [
        "renter_affordability= renter_affordability.drop('State income tax', axis=1)"
      ],
      "metadata": {
        "id": "IfrVOvrNcltm"
      },
      "execution_count": null,
      "outputs": []
    },
    {
      "cell_type": "code",
      "source": [
        "renter_affordability.isnull().sum()"
      ],
      "metadata": {
        "colab": {
          "base_uri": "https://localhost:8080/",
          "height": 429
        },
        "id": "x099R-kkdbbC",
        "outputId": "23936dc9-ce17-4458-fd5f-fe80a7740ceb"
      },
      "execution_count": null,
      "outputs": [
        {
          "output_type": "execute_result",
          "data": {
            "text/plain": [
              "RegionID                  0\n",
              "SizeRank                  0\n",
              "CityName                  0\n",
              "StateName                 0\n",
              "abb_StateName             0\n",
              "Average Affordability    10\n",
              "Population                9\n",
              "Minimum Wage              0\n",
              "Renter Income            10\n",
              "State property tax        0\n",
              "Median Income             6\n",
              "dtype: int64"
            ],
            "text/html": [
              "<div>\n",
              "<style scoped>\n",
              "    .dataframe tbody tr th:only-of-type {\n",
              "        vertical-align: middle;\n",
              "    }\n",
              "\n",
              "    .dataframe tbody tr th {\n",
              "        vertical-align: top;\n",
              "    }\n",
              "\n",
              "    .dataframe thead th {\n",
              "        text-align: right;\n",
              "    }\n",
              "</style>\n",
              "<table border=\"1\" class=\"dataframe\">\n",
              "  <thead>\n",
              "    <tr style=\"text-align: right;\">\n",
              "      <th></th>\n",
              "      <th>0</th>\n",
              "    </tr>\n",
              "  </thead>\n",
              "  <tbody>\n",
              "    <tr>\n",
              "      <th>RegionID</th>\n",
              "      <td>0</td>\n",
              "    </tr>\n",
              "    <tr>\n",
              "      <th>SizeRank</th>\n",
              "      <td>0</td>\n",
              "    </tr>\n",
              "    <tr>\n",
              "      <th>CityName</th>\n",
              "      <td>0</td>\n",
              "    </tr>\n",
              "    <tr>\n",
              "      <th>StateName</th>\n",
              "      <td>0</td>\n",
              "    </tr>\n",
              "    <tr>\n",
              "      <th>abb_StateName</th>\n",
              "      <td>0</td>\n",
              "    </tr>\n",
              "    <tr>\n",
              "      <th>Average Affordability</th>\n",
              "      <td>10</td>\n",
              "    </tr>\n",
              "    <tr>\n",
              "      <th>Population</th>\n",
              "      <td>9</td>\n",
              "    </tr>\n",
              "    <tr>\n",
              "      <th>Minimum Wage</th>\n",
              "      <td>0</td>\n",
              "    </tr>\n",
              "    <tr>\n",
              "      <th>Renter Income</th>\n",
              "      <td>10</td>\n",
              "    </tr>\n",
              "    <tr>\n",
              "      <th>State property tax</th>\n",
              "      <td>0</td>\n",
              "    </tr>\n",
              "    <tr>\n",
              "      <th>Median Income</th>\n",
              "      <td>6</td>\n",
              "    </tr>\n",
              "  </tbody>\n",
              "</table>\n",
              "</div><br><label><b>dtype:</b> int64</label>"
            ]
          },
          "metadata": {},
          "execution_count": 4
        }
      ]
    },
    {
      "cell_type": "code",
      "source": [
        "renter_affordability = renter_affordability.dropna(subset=['Median Income', 'Renter Income', 'Population', 'Average Affordability'])\n",
        "renter_affordability"
      ],
      "metadata": {
        "colab": {
          "base_uri": "https://localhost:8080/",
          "height": 423
        },
        "id": "vLrWz-pbejg0",
        "outputId": "28fff0e0-c37d-45d2-a3df-e18d586d20b3"
      },
      "execution_count": null,
      "outputs": [
        {
          "output_type": "execute_result",
          "data": {
            "text/plain": [
              "     RegionID  SizeRank     CityName  StateName abb_StateName  \\\n",
              "0      394388        51   Birmingham    Alabama            AL   \n",
              "1      394698       114   Huntsville    Alabama            AL   \n",
              "2      394870       127       Mobile    Alabama            AL   \n",
              "3      394875       143   Montgomery    Alabama            AL   \n",
              "4      395171       188   Tuscaloosa    Alabama            AL   \n",
              "..        ...       ...          ...        ...           ...   \n",
              "384    394756       311    La Crosse  Wisconsin            WI   \n",
              "385    395089       352    Sheboygan  Wisconsin            WI   \n",
              "386    394599       381  Fond du Lac  Wisconsin            WI   \n",
              "387    394462       391     Cheyenne    Wyoming            WY   \n",
              "388    394445       454       Casper    Wyoming            WY   \n",
              "\n",
              "     Average Affordability  Population  Minimum Wage  Renter Income  \\\n",
              "0                 0.227831    196818.0          7.25    52619.50969   \n",
              "1                 0.195576    226228.0          7.25    55365.67706   \n",
              "2                 0.258713    201920.0          7.25    47740.49434   \n",
              "3                 0.237828    196107.0          7.25    49439.14181   \n",
              "4                 0.285725    113016.0          7.25    55426.68060   \n",
              "..                     ...         ...           ...            ...   \n",
              "384               0.177210     51283.0          7.25    42124.53685   \n",
              "385               0.173060     49614.0          7.25    42051.68461   \n",
              "386               0.157113     44381.0          7.25    37335.63819   \n",
              "387               0.195065     65287.0          7.25    48837.50061   \n",
              "388               0.214590     58748.0          7.25    52367.43235   \n",
              "\n",
              "     State property tax  Median Income  \n",
              "0                0.0036        44376.0  \n",
              "1                0.0036        70778.0  \n",
              "2                0.0036        51090.0  \n",
              "3                0.0036        55687.0  \n",
              "4                0.0036        48536.0  \n",
              "..                  ...            ...  \n",
              "384              0.0125        53803.0  \n",
              "385              0.0125        62953.0  \n",
              "386              0.0125        61620.0  \n",
              "387              0.0055        77176.0  \n",
              "388              0.0055        69171.0  \n",
              "\n",
              "[369 rows x 11 columns]"
            ],
            "text/html": [
              "\n",
              "  <div id=\"df-ed513106-c252-4173-ac50-081485d8d1e4\" class=\"colab-df-container\">\n",
              "    <div>\n",
              "<style scoped>\n",
              "    .dataframe tbody tr th:only-of-type {\n",
              "        vertical-align: middle;\n",
              "    }\n",
              "\n",
              "    .dataframe tbody tr th {\n",
              "        vertical-align: top;\n",
              "    }\n",
              "\n",
              "    .dataframe thead th {\n",
              "        text-align: right;\n",
              "    }\n",
              "</style>\n",
              "<table border=\"1\" class=\"dataframe\">\n",
              "  <thead>\n",
              "    <tr style=\"text-align: right;\">\n",
              "      <th></th>\n",
              "      <th>RegionID</th>\n",
              "      <th>SizeRank</th>\n",
              "      <th>CityName</th>\n",
              "      <th>StateName</th>\n",
              "      <th>abb_StateName</th>\n",
              "      <th>Average Affordability</th>\n",
              "      <th>Population</th>\n",
              "      <th>Minimum Wage</th>\n",
              "      <th>Renter Income</th>\n",
              "      <th>State property tax</th>\n",
              "      <th>Median Income</th>\n",
              "    </tr>\n",
              "  </thead>\n",
              "  <tbody>\n",
              "    <tr>\n",
              "      <th>0</th>\n",
              "      <td>394388</td>\n",
              "      <td>51</td>\n",
              "      <td>Birmingham</td>\n",
              "      <td>Alabama</td>\n",
              "      <td>AL</td>\n",
              "      <td>0.227831</td>\n",
              "      <td>196818.0</td>\n",
              "      <td>7.25</td>\n",
              "      <td>52619.50969</td>\n",
              "      <td>0.0036</td>\n",
              "      <td>44376.0</td>\n",
              "    </tr>\n",
              "    <tr>\n",
              "      <th>1</th>\n",
              "      <td>394698</td>\n",
              "      <td>114</td>\n",
              "      <td>Huntsville</td>\n",
              "      <td>Alabama</td>\n",
              "      <td>AL</td>\n",
              "      <td>0.195576</td>\n",
              "      <td>226228.0</td>\n",
              "      <td>7.25</td>\n",
              "      <td>55365.67706</td>\n",
              "      <td>0.0036</td>\n",
              "      <td>70778.0</td>\n",
              "    </tr>\n",
              "    <tr>\n",
              "      <th>2</th>\n",
              "      <td>394870</td>\n",
              "      <td>127</td>\n",
              "      <td>Mobile</td>\n",
              "      <td>Alabama</td>\n",
              "      <td>AL</td>\n",
              "      <td>0.258713</td>\n",
              "      <td>201920.0</td>\n",
              "      <td>7.25</td>\n",
              "      <td>47740.49434</td>\n",
              "      <td>0.0036</td>\n",
              "      <td>51090.0</td>\n",
              "    </tr>\n",
              "    <tr>\n",
              "      <th>3</th>\n",
              "      <td>394875</td>\n",
              "      <td>143</td>\n",
              "      <td>Montgomery</td>\n",
              "      <td>Alabama</td>\n",
              "      <td>AL</td>\n",
              "      <td>0.237828</td>\n",
              "      <td>196107.0</td>\n",
              "      <td>7.25</td>\n",
              "      <td>49439.14181</td>\n",
              "      <td>0.0036</td>\n",
              "      <td>55687.0</td>\n",
              "    </tr>\n",
              "    <tr>\n",
              "      <th>4</th>\n",
              "      <td>395171</td>\n",
              "      <td>188</td>\n",
              "      <td>Tuscaloosa</td>\n",
              "      <td>Alabama</td>\n",
              "      <td>AL</td>\n",
              "      <td>0.285725</td>\n",
              "      <td>113016.0</td>\n",
              "      <td>7.25</td>\n",
              "      <td>55426.68060</td>\n",
              "      <td>0.0036</td>\n",
              "      <td>48536.0</td>\n",
              "    </tr>\n",
              "    <tr>\n",
              "      <th>...</th>\n",
              "      <td>...</td>\n",
              "      <td>...</td>\n",
              "      <td>...</td>\n",
              "      <td>...</td>\n",
              "      <td>...</td>\n",
              "      <td>...</td>\n",
              "      <td>...</td>\n",
              "      <td>...</td>\n",
              "      <td>...</td>\n",
              "      <td>...</td>\n",
              "      <td>...</td>\n",
              "    </tr>\n",
              "    <tr>\n",
              "      <th>384</th>\n",
              "      <td>394756</td>\n",
              "      <td>311</td>\n",
              "      <td>La Crosse</td>\n",
              "      <td>Wisconsin</td>\n",
              "      <td>WI</td>\n",
              "      <td>0.177210</td>\n",
              "      <td>51283.0</td>\n",
              "      <td>7.25</td>\n",
              "      <td>42124.53685</td>\n",
              "      <td>0.0125</td>\n",
              "      <td>53803.0</td>\n",
              "    </tr>\n",
              "    <tr>\n",
              "      <th>385</th>\n",
              "      <td>395089</td>\n",
              "      <td>352</td>\n",
              "      <td>Sheboygan</td>\n",
              "      <td>Wisconsin</td>\n",
              "      <td>WI</td>\n",
              "      <td>0.173060</td>\n",
              "      <td>49614.0</td>\n",
              "      <td>7.25</td>\n",
              "      <td>42051.68461</td>\n",
              "      <td>0.0125</td>\n",
              "      <td>62953.0</td>\n",
              "    </tr>\n",
              "    <tr>\n",
              "      <th>386</th>\n",
              "      <td>394599</td>\n",
              "      <td>381</td>\n",
              "      <td>Fond du Lac</td>\n",
              "      <td>Wisconsin</td>\n",
              "      <td>WI</td>\n",
              "      <td>0.157113</td>\n",
              "      <td>44381.0</td>\n",
              "      <td>7.25</td>\n",
              "      <td>37335.63819</td>\n",
              "      <td>0.0125</td>\n",
              "      <td>61620.0</td>\n",
              "    </tr>\n",
              "    <tr>\n",
              "      <th>387</th>\n",
              "      <td>394462</td>\n",
              "      <td>391</td>\n",
              "      <td>Cheyenne</td>\n",
              "      <td>Wyoming</td>\n",
              "      <td>WY</td>\n",
              "      <td>0.195065</td>\n",
              "      <td>65287.0</td>\n",
              "      <td>7.25</td>\n",
              "      <td>48837.50061</td>\n",
              "      <td>0.0055</td>\n",
              "      <td>77176.0</td>\n",
              "    </tr>\n",
              "    <tr>\n",
              "      <th>388</th>\n",
              "      <td>394445</td>\n",
              "      <td>454</td>\n",
              "      <td>Casper</td>\n",
              "      <td>Wyoming</td>\n",
              "      <td>WY</td>\n",
              "      <td>0.214590</td>\n",
              "      <td>58748.0</td>\n",
              "      <td>7.25</td>\n",
              "      <td>52367.43235</td>\n",
              "      <td>0.0055</td>\n",
              "      <td>69171.0</td>\n",
              "    </tr>\n",
              "  </tbody>\n",
              "</table>\n",
              "<p>369 rows × 11 columns</p>\n",
              "</div>\n",
              "    <div class=\"colab-df-buttons\">\n",
              "\n",
              "  <div class=\"colab-df-container\">\n",
              "    <button class=\"colab-df-convert\" onclick=\"convertToInteractive('df-ed513106-c252-4173-ac50-081485d8d1e4')\"\n",
              "            title=\"Convert this dataframe to an interactive table.\"\n",
              "            style=\"display:none;\">\n",
              "\n",
              "  <svg xmlns=\"http://www.w3.org/2000/svg\" height=\"24px\" viewBox=\"0 -960 960 960\">\n",
              "    <path d=\"M120-120v-720h720v720H120Zm60-500h600v-160H180v160Zm220 220h160v-160H400v160Zm0 220h160v-160H400v160ZM180-400h160v-160H180v160Zm440 0h160v-160H620v160ZM180-180h160v-160H180v160Zm440 0h160v-160H620v160Z\"/>\n",
              "  </svg>\n",
              "    </button>\n",
              "\n",
              "  <style>\n",
              "    .colab-df-container {\n",
              "      display:flex;\n",
              "      gap: 12px;\n",
              "    }\n",
              "\n",
              "    .colab-df-convert {\n",
              "      background-color: #E8F0FE;\n",
              "      border: none;\n",
              "      border-radius: 50%;\n",
              "      cursor: pointer;\n",
              "      display: none;\n",
              "      fill: #1967D2;\n",
              "      height: 32px;\n",
              "      padding: 0 0 0 0;\n",
              "      width: 32px;\n",
              "    }\n",
              "\n",
              "    .colab-df-convert:hover {\n",
              "      background-color: #E2EBFA;\n",
              "      box-shadow: 0px 1px 2px rgba(60, 64, 67, 0.3), 0px 1px 3px 1px rgba(60, 64, 67, 0.15);\n",
              "      fill: #174EA6;\n",
              "    }\n",
              "\n",
              "    .colab-df-buttons div {\n",
              "      margin-bottom: 4px;\n",
              "    }\n",
              "\n",
              "    [theme=dark] .colab-df-convert {\n",
              "      background-color: #3B4455;\n",
              "      fill: #D2E3FC;\n",
              "    }\n",
              "\n",
              "    [theme=dark] .colab-df-convert:hover {\n",
              "      background-color: #434B5C;\n",
              "      box-shadow: 0px 1px 3px 1px rgba(0, 0, 0, 0.15);\n",
              "      filter: drop-shadow(0px 1px 2px rgba(0, 0, 0, 0.3));\n",
              "      fill: #FFFFFF;\n",
              "    }\n",
              "  </style>\n",
              "\n",
              "    <script>\n",
              "      const buttonEl =\n",
              "        document.querySelector('#df-ed513106-c252-4173-ac50-081485d8d1e4 button.colab-df-convert');\n",
              "      buttonEl.style.display =\n",
              "        google.colab.kernel.accessAllowed ? 'block' : 'none';\n",
              "\n",
              "      async function convertToInteractive(key) {\n",
              "        const element = document.querySelector('#df-ed513106-c252-4173-ac50-081485d8d1e4');\n",
              "        const dataTable =\n",
              "          await google.colab.kernel.invokeFunction('convertToInteractive',\n",
              "                                                    [key], {});\n",
              "        if (!dataTable) return;\n",
              "\n",
              "        const docLinkHtml = 'Like what you see? Visit the ' +\n",
              "          '<a target=\"_blank\" href=https://colab.research.google.com/notebooks/data_table.ipynb>data table notebook</a>'\n",
              "          + ' to learn more about interactive tables.';\n",
              "        element.innerHTML = '';\n",
              "        dataTable['output_type'] = 'display_data';\n",
              "        await google.colab.output.renderOutput(dataTable, element);\n",
              "        const docLink = document.createElement('div');\n",
              "        docLink.innerHTML = docLinkHtml;\n",
              "        element.appendChild(docLink);\n",
              "      }\n",
              "    </script>\n",
              "  </div>\n",
              "\n",
              "\n",
              "    <div id=\"df-82cc9642-48b7-4354-b94d-332359ea53f5\">\n",
              "      <button class=\"colab-df-quickchart\" onclick=\"quickchart('df-82cc9642-48b7-4354-b94d-332359ea53f5')\"\n",
              "                title=\"Suggest charts\"\n",
              "                style=\"display:none;\">\n",
              "\n",
              "<svg xmlns=\"http://www.w3.org/2000/svg\" height=\"24px\"viewBox=\"0 0 24 24\"\n",
              "     width=\"24px\">\n",
              "    <g>\n",
              "        <path d=\"M19 3H5c-1.1 0-2 .9-2 2v14c0 1.1.9 2 2 2h14c1.1 0 2-.9 2-2V5c0-1.1-.9-2-2-2zM9 17H7v-7h2v7zm4 0h-2V7h2v10zm4 0h-2v-4h2v4z\"/>\n",
              "    </g>\n",
              "</svg>\n",
              "      </button>\n",
              "\n",
              "<style>\n",
              "  .colab-df-quickchart {\n",
              "      --bg-color: #E8F0FE;\n",
              "      --fill-color: #1967D2;\n",
              "      --hover-bg-color: #E2EBFA;\n",
              "      --hover-fill-color: #174EA6;\n",
              "      --disabled-fill-color: #AAA;\n",
              "      --disabled-bg-color: #DDD;\n",
              "  }\n",
              "\n",
              "  [theme=dark] .colab-df-quickchart {\n",
              "      --bg-color: #3B4455;\n",
              "      --fill-color: #D2E3FC;\n",
              "      --hover-bg-color: #434B5C;\n",
              "      --hover-fill-color: #FFFFFF;\n",
              "      --disabled-bg-color: #3B4455;\n",
              "      --disabled-fill-color: #666;\n",
              "  }\n",
              "\n",
              "  .colab-df-quickchart {\n",
              "    background-color: var(--bg-color);\n",
              "    border: none;\n",
              "    border-radius: 50%;\n",
              "    cursor: pointer;\n",
              "    display: none;\n",
              "    fill: var(--fill-color);\n",
              "    height: 32px;\n",
              "    padding: 0;\n",
              "    width: 32px;\n",
              "  }\n",
              "\n",
              "  .colab-df-quickchart:hover {\n",
              "    background-color: var(--hover-bg-color);\n",
              "    box-shadow: 0 1px 2px rgba(60, 64, 67, 0.3), 0 1px 3px 1px rgba(60, 64, 67, 0.15);\n",
              "    fill: var(--button-hover-fill-color);\n",
              "  }\n",
              "\n",
              "  .colab-df-quickchart-complete:disabled,\n",
              "  .colab-df-quickchart-complete:disabled:hover {\n",
              "    background-color: var(--disabled-bg-color);\n",
              "    fill: var(--disabled-fill-color);\n",
              "    box-shadow: none;\n",
              "  }\n",
              "\n",
              "  .colab-df-spinner {\n",
              "    border: 2px solid var(--fill-color);\n",
              "    border-color: transparent;\n",
              "    border-bottom-color: var(--fill-color);\n",
              "    animation:\n",
              "      spin 1s steps(1) infinite;\n",
              "  }\n",
              "\n",
              "  @keyframes spin {\n",
              "    0% {\n",
              "      border-color: transparent;\n",
              "      border-bottom-color: var(--fill-color);\n",
              "      border-left-color: var(--fill-color);\n",
              "    }\n",
              "    20% {\n",
              "      border-color: transparent;\n",
              "      border-left-color: var(--fill-color);\n",
              "      border-top-color: var(--fill-color);\n",
              "    }\n",
              "    30% {\n",
              "      border-color: transparent;\n",
              "      border-left-color: var(--fill-color);\n",
              "      border-top-color: var(--fill-color);\n",
              "      border-right-color: var(--fill-color);\n",
              "    }\n",
              "    40% {\n",
              "      border-color: transparent;\n",
              "      border-right-color: var(--fill-color);\n",
              "      border-top-color: var(--fill-color);\n",
              "    }\n",
              "    60% {\n",
              "      border-color: transparent;\n",
              "      border-right-color: var(--fill-color);\n",
              "    }\n",
              "    80% {\n",
              "      border-color: transparent;\n",
              "      border-right-color: var(--fill-color);\n",
              "      border-bottom-color: var(--fill-color);\n",
              "    }\n",
              "    90% {\n",
              "      border-color: transparent;\n",
              "      border-bottom-color: var(--fill-color);\n",
              "    }\n",
              "  }\n",
              "</style>\n",
              "\n",
              "      <script>\n",
              "        async function quickchart(key) {\n",
              "          const quickchartButtonEl =\n",
              "            document.querySelector('#' + key + ' button');\n",
              "          quickchartButtonEl.disabled = true;  // To prevent multiple clicks.\n",
              "          quickchartButtonEl.classList.add('colab-df-spinner');\n",
              "          try {\n",
              "            const charts = await google.colab.kernel.invokeFunction(\n",
              "                'suggestCharts', [key], {});\n",
              "          } catch (error) {\n",
              "            console.error('Error during call to suggestCharts:', error);\n",
              "          }\n",
              "          quickchartButtonEl.classList.remove('colab-df-spinner');\n",
              "          quickchartButtonEl.classList.add('colab-df-quickchart-complete');\n",
              "        }\n",
              "        (() => {\n",
              "          let quickchartButtonEl =\n",
              "            document.querySelector('#df-82cc9642-48b7-4354-b94d-332359ea53f5 button');\n",
              "          quickchartButtonEl.style.display =\n",
              "            google.colab.kernel.accessAllowed ? 'block' : 'none';\n",
              "        })();\n",
              "      </script>\n",
              "    </div>\n",
              "\n",
              "  <div id=\"id_7a988e6b-c528-44da-a764-56ee43e22d2f\">\n",
              "    <style>\n",
              "      .colab-df-generate {\n",
              "        background-color: #E8F0FE;\n",
              "        border: none;\n",
              "        border-radius: 50%;\n",
              "        cursor: pointer;\n",
              "        display: none;\n",
              "        fill: #1967D2;\n",
              "        height: 32px;\n",
              "        padding: 0 0 0 0;\n",
              "        width: 32px;\n",
              "      }\n",
              "\n",
              "      .colab-df-generate:hover {\n",
              "        background-color: #E2EBFA;\n",
              "        box-shadow: 0px 1px 2px rgba(60, 64, 67, 0.3), 0px 1px 3px 1px rgba(60, 64, 67, 0.15);\n",
              "        fill: #174EA6;\n",
              "      }\n",
              "\n",
              "      [theme=dark] .colab-df-generate {\n",
              "        background-color: #3B4455;\n",
              "        fill: #D2E3FC;\n",
              "      }\n",
              "\n",
              "      [theme=dark] .colab-df-generate:hover {\n",
              "        background-color: #434B5C;\n",
              "        box-shadow: 0px 1px 3px 1px rgba(0, 0, 0, 0.15);\n",
              "        filter: drop-shadow(0px 1px 2px rgba(0, 0, 0, 0.3));\n",
              "        fill: #FFFFFF;\n",
              "      }\n",
              "    </style>\n",
              "    <button class=\"colab-df-generate\" onclick=\"generateWithVariable('renter_affordability')\"\n",
              "            title=\"Generate code using this dataframe.\"\n",
              "            style=\"display:none;\">\n",
              "\n",
              "  <svg xmlns=\"http://www.w3.org/2000/svg\" height=\"24px\"viewBox=\"0 0 24 24\"\n",
              "       width=\"24px\">\n",
              "    <path d=\"M7,19H8.4L18.45,9,17,7.55,7,17.6ZM5,21V16.75L18.45,3.32a2,2,0,0,1,2.83,0l1.4,1.43a1.91,1.91,0,0,1,.58,1.4,1.91,1.91,0,0,1-.58,1.4L9.25,21ZM18.45,9,17,7.55Zm-12,3A5.31,5.31,0,0,0,4.9,8.1,5.31,5.31,0,0,0,1,6.5,5.31,5.31,0,0,0,4.9,4.9,5.31,5.31,0,0,0,6.5,1,5.31,5.31,0,0,0,8.1,4.9,5.31,5.31,0,0,0,12,6.5,5.46,5.46,0,0,0,6.5,12Z\"/>\n",
              "  </svg>\n",
              "    </button>\n",
              "    <script>\n",
              "      (() => {\n",
              "      const buttonEl =\n",
              "        document.querySelector('#id_7a988e6b-c528-44da-a764-56ee43e22d2f button.colab-df-generate');\n",
              "      buttonEl.style.display =\n",
              "        google.colab.kernel.accessAllowed ? 'block' : 'none';\n",
              "\n",
              "      buttonEl.onclick = () => {\n",
              "        google.colab.notebook.generateWithVariable('renter_affordability');\n",
              "      }\n",
              "      })();\n",
              "    </script>\n",
              "  </div>\n",
              "\n",
              "    </div>\n",
              "  </div>\n"
            ],
            "application/vnd.google.colaboratory.intrinsic+json": {
              "type": "dataframe",
              "variable_name": "renter_affordability",
              "summary": "{\n  \"name\": \"renter_affordability\",\n  \"rows\": 369,\n  \"fields\": [\n    {\n      \"column\": \"RegionID\",\n      \"properties\": {\n        \"dtype\": \"number\",\n        \"std\": 61655,\n        \"min\": 394299,\n        \"max\": 845160,\n        \"num_unique_values\": 369,\n        \"samples\": [\n          395053,\n          394952,\n          845160\n        ],\n        \"semantic_type\": \"\",\n        \"description\": \"\"\n      }\n    },\n    {\n      \"column\": \"SizeRank\",\n      \"properties\": {\n        \"dtype\": \"number\",\n        \"std\": 122,\n        \"min\": 1,\n        \"max\": 551,\n        \"num_unique_values\": 368,\n        \"samples\": [\n          148,\n          71,\n          198\n        ],\n        \"semantic_type\": \"\",\n        \"description\": \"\"\n      }\n    },\n    {\n      \"column\": \"CityName\",\n      \"properties\": {\n        \"dtype\": \"string\",\n        \"num_unique_values\": 343,\n        \"samples\": [\n          \"Lawton\",\n          \"Elkhart\",\n          \"South Bend\"\n        ],\n        \"semantic_type\": \"\",\n        \"description\": \"\"\n      }\n    },\n    {\n      \"column\": \"StateName\",\n      \"properties\": {\n        \"dtype\": \"category\",\n        \"num_unique_values\": 50,\n        \"samples\": [\n          \"Indiana\",\n          \"South Carolina\",\n          \"New Mexico\"\n        ],\n        \"semantic_type\": \"\",\n        \"description\": \"\"\n      }\n    },\n    {\n      \"column\": \"abb_StateName\",\n      \"properties\": {\n        \"dtype\": \"category\",\n        \"num_unique_values\": 50,\n        \"samples\": [\n          \"IN\",\n          \"SC\",\n          \"NM\"\n        ],\n        \"semantic_type\": \"\",\n        \"description\": \"\"\n      }\n    },\n    {\n      \"column\": \"Average Affordability\",\n      \"properties\": {\n        \"dtype\": \"number\",\n        \"std\": 0.05068051603303354,\n        \"min\": 0.1351019423,\n        \"max\": 0.4125964659,\n        \"num_unique_values\": 369,\n        \"samples\": [\n          0.2096731431,\n          0.318484372,\n          0.3198163276\n        ],\n        \"semantic_type\": \"\",\n        \"description\": \"\"\n      }\n    },\n    {\n      \"column\": \"Population\",\n      \"properties\": {\n        \"dtype\": \"number\",\n        \"std\": 552704.6999721159,\n        \"min\": 8607.0,\n        \"max\": 8390888.0,\n        \"num_unique_values\": 369,\n        \"samples\": [\n          211833.0,\n          199764.0,\n          50156.0\n        ],\n        \"semantic_type\": \"\",\n        \"description\": \"\"\n      }\n    },\n    {\n      \"column\": \"Minimum Wage\",\n      \"properties\": {\n        \"dtype\": \"number\",\n        \"std\": 3.1755201580410533,\n        \"min\": 5.15,\n        \"max\": 15.74,\n        \"num_unique_values\": 26,\n        \"samples\": [\n          5.15,\n          9.95,\n          7.25\n        ],\n        \"semantic_type\": \"\",\n        \"description\": \"\"\n      }\n    },\n    {\n      \"column\": \"Renter Income\",\n      \"properties\": {\n        \"dtype\": \"number\",\n        \"std\": 18447.42227209248,\n        \"min\": 28024.10163,\n        \"max\": 136889.5837,\n        \"num_unique_values\": 369,\n        \"samples\": [\n          65974.47565,\n          114300.0376,\n          71679.12281\n        ],\n        \"semantic_type\": \"\",\n        \"description\": \"\"\n      }\n    },\n    {\n      \"column\": \"State property tax\",\n      \"properties\": {\n        \"dtype\": \"number\",\n        \"std\": 0.0035401022161731964,\n        \"min\": 0.0032,\n        \"max\": 0.0183,\n        \"num_unique_values\": 39,\n        \"samples\": [\n          0.0105,\n          0.0142,\n          0.007\n        ],\n        \"semantic_type\": \"\",\n        \"description\": \"\"\n      }\n    },\n    {\n      \"column\": \"Median Income\",\n      \"properties\": {\n        \"dtype\": \"number\",\n        \"std\": 15691.391081456013,\n        \"min\": 29670.0,\n        \"max\": 141565.0,\n        \"num_unique_values\": 367,\n        \"samples\": [\n          71855.0,\n          93372.0,\n          69151.0\n        ],\n        \"semantic_type\": \"\",\n        \"description\": \"\"\n      }\n    }\n  ]\n}"
            }
          },
          "metadata": {},
          "execution_count": 5
        }
      ]
    },
    {
      "cell_type": "code",
      "source": [
        "renter_affordability.isnull().sum()"
      ],
      "metadata": {
        "colab": {
          "base_uri": "https://localhost:8080/",
          "height": 429
        },
        "id": "v87JJEDTemsI",
        "outputId": "2745fb31-5e45-4958-ae97-f97d42a20900"
      },
      "execution_count": null,
      "outputs": [
        {
          "output_type": "execute_result",
          "data": {
            "text/plain": [
              "RegionID                 0\n",
              "SizeRank                 0\n",
              "CityName                 0\n",
              "StateName                0\n",
              "abb_StateName            0\n",
              "Average Affordability    0\n",
              "Population               0\n",
              "Minimum Wage             0\n",
              "Renter Income            0\n",
              "State property tax       0\n",
              "Median Income            0\n",
              "dtype: int64"
            ],
            "text/html": [
              "<div>\n",
              "<style scoped>\n",
              "    .dataframe tbody tr th:only-of-type {\n",
              "        vertical-align: middle;\n",
              "    }\n",
              "\n",
              "    .dataframe tbody tr th {\n",
              "        vertical-align: top;\n",
              "    }\n",
              "\n",
              "    .dataframe thead th {\n",
              "        text-align: right;\n",
              "    }\n",
              "</style>\n",
              "<table border=\"1\" class=\"dataframe\">\n",
              "  <thead>\n",
              "    <tr style=\"text-align: right;\">\n",
              "      <th></th>\n",
              "      <th>0</th>\n",
              "    </tr>\n",
              "  </thead>\n",
              "  <tbody>\n",
              "    <tr>\n",
              "      <th>RegionID</th>\n",
              "      <td>0</td>\n",
              "    </tr>\n",
              "    <tr>\n",
              "      <th>SizeRank</th>\n",
              "      <td>0</td>\n",
              "    </tr>\n",
              "    <tr>\n",
              "      <th>CityName</th>\n",
              "      <td>0</td>\n",
              "    </tr>\n",
              "    <tr>\n",
              "      <th>StateName</th>\n",
              "      <td>0</td>\n",
              "    </tr>\n",
              "    <tr>\n",
              "      <th>abb_StateName</th>\n",
              "      <td>0</td>\n",
              "    </tr>\n",
              "    <tr>\n",
              "      <th>Average Affordability</th>\n",
              "      <td>0</td>\n",
              "    </tr>\n",
              "    <tr>\n",
              "      <th>Population</th>\n",
              "      <td>0</td>\n",
              "    </tr>\n",
              "    <tr>\n",
              "      <th>Minimum Wage</th>\n",
              "      <td>0</td>\n",
              "    </tr>\n",
              "    <tr>\n",
              "      <th>Renter Income</th>\n",
              "      <td>0</td>\n",
              "    </tr>\n",
              "    <tr>\n",
              "      <th>State property tax</th>\n",
              "      <td>0</td>\n",
              "    </tr>\n",
              "    <tr>\n",
              "      <th>Median Income</th>\n",
              "      <td>0</td>\n",
              "    </tr>\n",
              "  </tbody>\n",
              "</table>\n",
              "</div><br><label><b>dtype:</b> int64</label>"
            ]
          },
          "metadata": {},
          "execution_count": 7
        }
      ]
    },
    {
      "cell_type": "markdown",
      "metadata": {
        "id": "o67baSkq4odS"
      },
      "source": [
        "### Q2: Create a categorical plot\n",
        "Come up with a unique question that can be answer using a categorical plot from the sns module"
      ]
    },
    {
      "cell_type": "code",
      "source": [
        "renter_affordability_copy = renter_affordability.copy()\n",
        "\n",
        "renter_affordability_copy['Income difference'] = renter_affordability_copy['Renter Income'] - renter_affordability_copy['Median Income']\n",
        "\n",
        "renter_affordability_copy"
      ],
      "metadata": {
        "id": "xQrjGTZb4rZE",
        "colab": {
          "base_uri": "https://localhost:8080/",
          "height": 441
        },
        "outputId": "8ca614d8-499c-40ad-8e56-f6c812766247"
      },
      "execution_count": null,
      "outputs": [
        {
          "output_type": "execute_result",
          "data": {
            "text/plain": [
              "     RegionID  SizeRank     CityName  StateName abb_StateName  \\\n",
              "0      394388        51   Birmingham    Alabama            AL   \n",
              "1      394698       114   Huntsville    Alabama            AL   \n",
              "2      394870       127       Mobile    Alabama            AL   \n",
              "3      394875       143   Montgomery    Alabama            AL   \n",
              "4      395171       188   Tuscaloosa    Alabama            AL   \n",
              "..        ...       ...          ...        ...           ...   \n",
              "384    394756       311    La Crosse  Wisconsin            WI   \n",
              "385    395089       352    Sheboygan  Wisconsin            WI   \n",
              "386    394599       381  Fond du Lac  Wisconsin            WI   \n",
              "387    394462       391     Cheyenne    Wyoming            WY   \n",
              "388    394445       454       Casper    Wyoming            WY   \n",
              "\n",
              "     Average Affordability  Population  Minimum Wage  Renter Income  \\\n",
              "0                 0.227831    196818.0          7.25    52619.50969   \n",
              "1                 0.195576    226228.0          7.25    55365.67706   \n",
              "2                 0.258713    201920.0          7.25    47740.49434   \n",
              "3                 0.237828    196107.0          7.25    49439.14181   \n",
              "4                 0.285725    113016.0          7.25    55426.68060   \n",
              "..                     ...         ...           ...            ...   \n",
              "384               0.177210     51283.0          7.25    42124.53685   \n",
              "385               0.173060     49614.0          7.25    42051.68461   \n",
              "386               0.157113     44381.0          7.25    37335.63819   \n",
              "387               0.195065     65287.0          7.25    48837.50061   \n",
              "388               0.214590     58748.0          7.25    52367.43235   \n",
              "\n",
              "     State property tax  Median Income  Income difference  \n",
              "0                0.0036        44376.0         8243.50969  \n",
              "1                0.0036        70778.0       -15412.32294  \n",
              "2                0.0036        51090.0        -3349.50566  \n",
              "3                0.0036        55687.0        -6247.85819  \n",
              "4                0.0036        48536.0         6890.68060  \n",
              "..                  ...            ...                ...  \n",
              "384              0.0125        53803.0       -11678.46315  \n",
              "385              0.0125        62953.0       -20901.31539  \n",
              "386              0.0125        61620.0       -24284.36181  \n",
              "387              0.0055        77176.0       -28338.49939  \n",
              "388              0.0055        69171.0       -16803.56765  \n",
              "\n",
              "[369 rows x 12 columns]"
            ],
            "text/html": [
              "\n",
              "  <div id=\"df-036c02df-dea0-4be3-bb41-3404b9bb6572\" class=\"colab-df-container\">\n",
              "    <div>\n",
              "<style scoped>\n",
              "    .dataframe tbody tr th:only-of-type {\n",
              "        vertical-align: middle;\n",
              "    }\n",
              "\n",
              "    .dataframe tbody tr th {\n",
              "        vertical-align: top;\n",
              "    }\n",
              "\n",
              "    .dataframe thead th {\n",
              "        text-align: right;\n",
              "    }\n",
              "</style>\n",
              "<table border=\"1\" class=\"dataframe\">\n",
              "  <thead>\n",
              "    <tr style=\"text-align: right;\">\n",
              "      <th></th>\n",
              "      <th>RegionID</th>\n",
              "      <th>SizeRank</th>\n",
              "      <th>CityName</th>\n",
              "      <th>StateName</th>\n",
              "      <th>abb_StateName</th>\n",
              "      <th>Average Affordability</th>\n",
              "      <th>Population</th>\n",
              "      <th>Minimum Wage</th>\n",
              "      <th>Renter Income</th>\n",
              "      <th>State property tax</th>\n",
              "      <th>Median Income</th>\n",
              "      <th>Income difference</th>\n",
              "    </tr>\n",
              "  </thead>\n",
              "  <tbody>\n",
              "    <tr>\n",
              "      <th>0</th>\n",
              "      <td>394388</td>\n",
              "      <td>51</td>\n",
              "      <td>Birmingham</td>\n",
              "      <td>Alabama</td>\n",
              "      <td>AL</td>\n",
              "      <td>0.227831</td>\n",
              "      <td>196818.0</td>\n",
              "      <td>7.25</td>\n",
              "      <td>52619.50969</td>\n",
              "      <td>0.0036</td>\n",
              "      <td>44376.0</td>\n",
              "      <td>8243.50969</td>\n",
              "    </tr>\n",
              "    <tr>\n",
              "      <th>1</th>\n",
              "      <td>394698</td>\n",
              "      <td>114</td>\n",
              "      <td>Huntsville</td>\n",
              "      <td>Alabama</td>\n",
              "      <td>AL</td>\n",
              "      <td>0.195576</td>\n",
              "      <td>226228.0</td>\n",
              "      <td>7.25</td>\n",
              "      <td>55365.67706</td>\n",
              "      <td>0.0036</td>\n",
              "      <td>70778.0</td>\n",
              "      <td>-15412.32294</td>\n",
              "    </tr>\n",
              "    <tr>\n",
              "      <th>2</th>\n",
              "      <td>394870</td>\n",
              "      <td>127</td>\n",
              "      <td>Mobile</td>\n",
              "      <td>Alabama</td>\n",
              "      <td>AL</td>\n",
              "      <td>0.258713</td>\n",
              "      <td>201920.0</td>\n",
              "      <td>7.25</td>\n",
              "      <td>47740.49434</td>\n",
              "      <td>0.0036</td>\n",
              "      <td>51090.0</td>\n",
              "      <td>-3349.50566</td>\n",
              "    </tr>\n",
              "    <tr>\n",
              "      <th>3</th>\n",
              "      <td>394875</td>\n",
              "      <td>143</td>\n",
              "      <td>Montgomery</td>\n",
              "      <td>Alabama</td>\n",
              "      <td>AL</td>\n",
              "      <td>0.237828</td>\n",
              "      <td>196107.0</td>\n",
              "      <td>7.25</td>\n",
              "      <td>49439.14181</td>\n",
              "      <td>0.0036</td>\n",
              "      <td>55687.0</td>\n",
              "      <td>-6247.85819</td>\n",
              "    </tr>\n",
              "    <tr>\n",
              "      <th>4</th>\n",
              "      <td>395171</td>\n",
              "      <td>188</td>\n",
              "      <td>Tuscaloosa</td>\n",
              "      <td>Alabama</td>\n",
              "      <td>AL</td>\n",
              "      <td>0.285725</td>\n",
              "      <td>113016.0</td>\n",
              "      <td>7.25</td>\n",
              "      <td>55426.68060</td>\n",
              "      <td>0.0036</td>\n",
              "      <td>48536.0</td>\n",
              "      <td>6890.68060</td>\n",
              "    </tr>\n",
              "    <tr>\n",
              "      <th>...</th>\n",
              "      <td>...</td>\n",
              "      <td>...</td>\n",
              "      <td>...</td>\n",
              "      <td>...</td>\n",
              "      <td>...</td>\n",
              "      <td>...</td>\n",
              "      <td>...</td>\n",
              "      <td>...</td>\n",
              "      <td>...</td>\n",
              "      <td>...</td>\n",
              "      <td>...</td>\n",
              "      <td>...</td>\n",
              "    </tr>\n",
              "    <tr>\n",
              "      <th>384</th>\n",
              "      <td>394756</td>\n",
              "      <td>311</td>\n",
              "      <td>La Crosse</td>\n",
              "      <td>Wisconsin</td>\n",
              "      <td>WI</td>\n",
              "      <td>0.177210</td>\n",
              "      <td>51283.0</td>\n",
              "      <td>7.25</td>\n",
              "      <td>42124.53685</td>\n",
              "      <td>0.0125</td>\n",
              "      <td>53803.0</td>\n",
              "      <td>-11678.46315</td>\n",
              "    </tr>\n",
              "    <tr>\n",
              "      <th>385</th>\n",
              "      <td>395089</td>\n",
              "      <td>352</td>\n",
              "      <td>Sheboygan</td>\n",
              "      <td>Wisconsin</td>\n",
              "      <td>WI</td>\n",
              "      <td>0.173060</td>\n",
              "      <td>49614.0</td>\n",
              "      <td>7.25</td>\n",
              "      <td>42051.68461</td>\n",
              "      <td>0.0125</td>\n",
              "      <td>62953.0</td>\n",
              "      <td>-20901.31539</td>\n",
              "    </tr>\n",
              "    <tr>\n",
              "      <th>386</th>\n",
              "      <td>394599</td>\n",
              "      <td>381</td>\n",
              "      <td>Fond du Lac</td>\n",
              "      <td>Wisconsin</td>\n",
              "      <td>WI</td>\n",
              "      <td>0.157113</td>\n",
              "      <td>44381.0</td>\n",
              "      <td>7.25</td>\n",
              "      <td>37335.63819</td>\n",
              "      <td>0.0125</td>\n",
              "      <td>61620.0</td>\n",
              "      <td>-24284.36181</td>\n",
              "    </tr>\n",
              "    <tr>\n",
              "      <th>387</th>\n",
              "      <td>394462</td>\n",
              "      <td>391</td>\n",
              "      <td>Cheyenne</td>\n",
              "      <td>Wyoming</td>\n",
              "      <td>WY</td>\n",
              "      <td>0.195065</td>\n",
              "      <td>65287.0</td>\n",
              "      <td>7.25</td>\n",
              "      <td>48837.50061</td>\n",
              "      <td>0.0055</td>\n",
              "      <td>77176.0</td>\n",
              "      <td>-28338.49939</td>\n",
              "    </tr>\n",
              "    <tr>\n",
              "      <th>388</th>\n",
              "      <td>394445</td>\n",
              "      <td>454</td>\n",
              "      <td>Casper</td>\n",
              "      <td>Wyoming</td>\n",
              "      <td>WY</td>\n",
              "      <td>0.214590</td>\n",
              "      <td>58748.0</td>\n",
              "      <td>7.25</td>\n",
              "      <td>52367.43235</td>\n",
              "      <td>0.0055</td>\n",
              "      <td>69171.0</td>\n",
              "      <td>-16803.56765</td>\n",
              "    </tr>\n",
              "  </tbody>\n",
              "</table>\n",
              "<p>369 rows × 12 columns</p>\n",
              "</div>\n",
              "    <div class=\"colab-df-buttons\">\n",
              "\n",
              "  <div class=\"colab-df-container\">\n",
              "    <button class=\"colab-df-convert\" onclick=\"convertToInteractive('df-036c02df-dea0-4be3-bb41-3404b9bb6572')\"\n",
              "            title=\"Convert this dataframe to an interactive table.\"\n",
              "            style=\"display:none;\">\n",
              "\n",
              "  <svg xmlns=\"http://www.w3.org/2000/svg\" height=\"24px\" viewBox=\"0 -960 960 960\">\n",
              "    <path d=\"M120-120v-720h720v720H120Zm60-500h600v-160H180v160Zm220 220h160v-160H400v160Zm0 220h160v-160H400v160ZM180-400h160v-160H180v160Zm440 0h160v-160H620v160ZM180-180h160v-160H180v160Zm440 0h160v-160H620v160Z\"/>\n",
              "  </svg>\n",
              "    </button>\n",
              "\n",
              "  <style>\n",
              "    .colab-df-container {\n",
              "      display:flex;\n",
              "      gap: 12px;\n",
              "    }\n",
              "\n",
              "    .colab-df-convert {\n",
              "      background-color: #E8F0FE;\n",
              "      border: none;\n",
              "      border-radius: 50%;\n",
              "      cursor: pointer;\n",
              "      display: none;\n",
              "      fill: #1967D2;\n",
              "      height: 32px;\n",
              "      padding: 0 0 0 0;\n",
              "      width: 32px;\n",
              "    }\n",
              "\n",
              "    .colab-df-convert:hover {\n",
              "      background-color: #E2EBFA;\n",
              "      box-shadow: 0px 1px 2px rgba(60, 64, 67, 0.3), 0px 1px 3px 1px rgba(60, 64, 67, 0.15);\n",
              "      fill: #174EA6;\n",
              "    }\n",
              "\n",
              "    .colab-df-buttons div {\n",
              "      margin-bottom: 4px;\n",
              "    }\n",
              "\n",
              "    [theme=dark] .colab-df-convert {\n",
              "      background-color: #3B4455;\n",
              "      fill: #D2E3FC;\n",
              "    }\n",
              "\n",
              "    [theme=dark] .colab-df-convert:hover {\n",
              "      background-color: #434B5C;\n",
              "      box-shadow: 0px 1px 3px 1px rgba(0, 0, 0, 0.15);\n",
              "      filter: drop-shadow(0px 1px 2px rgba(0, 0, 0, 0.3));\n",
              "      fill: #FFFFFF;\n",
              "    }\n",
              "  </style>\n",
              "\n",
              "    <script>\n",
              "      const buttonEl =\n",
              "        document.querySelector('#df-036c02df-dea0-4be3-bb41-3404b9bb6572 button.colab-df-convert');\n",
              "      buttonEl.style.display =\n",
              "        google.colab.kernel.accessAllowed ? 'block' : 'none';\n",
              "\n",
              "      async function convertToInteractive(key) {\n",
              "        const element = document.querySelector('#df-036c02df-dea0-4be3-bb41-3404b9bb6572');\n",
              "        const dataTable =\n",
              "          await google.colab.kernel.invokeFunction('convertToInteractive',\n",
              "                                                    [key], {});\n",
              "        if (!dataTable) return;\n",
              "\n",
              "        const docLinkHtml = 'Like what you see? Visit the ' +\n",
              "          '<a target=\"_blank\" href=https://colab.research.google.com/notebooks/data_table.ipynb>data table notebook</a>'\n",
              "          + ' to learn more about interactive tables.';\n",
              "        element.innerHTML = '';\n",
              "        dataTable['output_type'] = 'display_data';\n",
              "        await google.colab.output.renderOutput(dataTable, element);\n",
              "        const docLink = document.createElement('div');\n",
              "        docLink.innerHTML = docLinkHtml;\n",
              "        element.appendChild(docLink);\n",
              "      }\n",
              "    </script>\n",
              "  </div>\n",
              "\n",
              "\n",
              "    <div id=\"df-91f1321c-c086-48e6-8de6-df77c67dd0e4\">\n",
              "      <button class=\"colab-df-quickchart\" onclick=\"quickchart('df-91f1321c-c086-48e6-8de6-df77c67dd0e4')\"\n",
              "                title=\"Suggest charts\"\n",
              "                style=\"display:none;\">\n",
              "\n",
              "<svg xmlns=\"http://www.w3.org/2000/svg\" height=\"24px\"viewBox=\"0 0 24 24\"\n",
              "     width=\"24px\">\n",
              "    <g>\n",
              "        <path d=\"M19 3H5c-1.1 0-2 .9-2 2v14c0 1.1.9 2 2 2h14c1.1 0 2-.9 2-2V5c0-1.1-.9-2-2-2zM9 17H7v-7h2v7zm4 0h-2V7h2v10zm4 0h-2v-4h2v4z\"/>\n",
              "    </g>\n",
              "</svg>\n",
              "      </button>\n",
              "\n",
              "<style>\n",
              "  .colab-df-quickchart {\n",
              "      --bg-color: #E8F0FE;\n",
              "      --fill-color: #1967D2;\n",
              "      --hover-bg-color: #E2EBFA;\n",
              "      --hover-fill-color: #174EA6;\n",
              "      --disabled-fill-color: #AAA;\n",
              "      --disabled-bg-color: #DDD;\n",
              "  }\n",
              "\n",
              "  [theme=dark] .colab-df-quickchart {\n",
              "      --bg-color: #3B4455;\n",
              "      --fill-color: #D2E3FC;\n",
              "      --hover-bg-color: #434B5C;\n",
              "      --hover-fill-color: #FFFFFF;\n",
              "      --disabled-bg-color: #3B4455;\n",
              "      --disabled-fill-color: #666;\n",
              "  }\n",
              "\n",
              "  .colab-df-quickchart {\n",
              "    background-color: var(--bg-color);\n",
              "    border: none;\n",
              "    border-radius: 50%;\n",
              "    cursor: pointer;\n",
              "    display: none;\n",
              "    fill: var(--fill-color);\n",
              "    height: 32px;\n",
              "    padding: 0;\n",
              "    width: 32px;\n",
              "  }\n",
              "\n",
              "  .colab-df-quickchart:hover {\n",
              "    background-color: var(--hover-bg-color);\n",
              "    box-shadow: 0 1px 2px rgba(60, 64, 67, 0.3), 0 1px 3px 1px rgba(60, 64, 67, 0.15);\n",
              "    fill: var(--button-hover-fill-color);\n",
              "  }\n",
              "\n",
              "  .colab-df-quickchart-complete:disabled,\n",
              "  .colab-df-quickchart-complete:disabled:hover {\n",
              "    background-color: var(--disabled-bg-color);\n",
              "    fill: var(--disabled-fill-color);\n",
              "    box-shadow: none;\n",
              "  }\n",
              "\n",
              "  .colab-df-spinner {\n",
              "    border: 2px solid var(--fill-color);\n",
              "    border-color: transparent;\n",
              "    border-bottom-color: var(--fill-color);\n",
              "    animation:\n",
              "      spin 1s steps(1) infinite;\n",
              "  }\n",
              "\n",
              "  @keyframes spin {\n",
              "    0% {\n",
              "      border-color: transparent;\n",
              "      border-bottom-color: var(--fill-color);\n",
              "      border-left-color: var(--fill-color);\n",
              "    }\n",
              "    20% {\n",
              "      border-color: transparent;\n",
              "      border-left-color: var(--fill-color);\n",
              "      border-top-color: var(--fill-color);\n",
              "    }\n",
              "    30% {\n",
              "      border-color: transparent;\n",
              "      border-left-color: var(--fill-color);\n",
              "      border-top-color: var(--fill-color);\n",
              "      border-right-color: var(--fill-color);\n",
              "    }\n",
              "    40% {\n",
              "      border-color: transparent;\n",
              "      border-right-color: var(--fill-color);\n",
              "      border-top-color: var(--fill-color);\n",
              "    }\n",
              "    60% {\n",
              "      border-color: transparent;\n",
              "      border-right-color: var(--fill-color);\n",
              "    }\n",
              "    80% {\n",
              "      border-color: transparent;\n",
              "      border-right-color: var(--fill-color);\n",
              "      border-bottom-color: var(--fill-color);\n",
              "    }\n",
              "    90% {\n",
              "      border-color: transparent;\n",
              "      border-bottom-color: var(--fill-color);\n",
              "    }\n",
              "  }\n",
              "</style>\n",
              "\n",
              "      <script>\n",
              "        async function quickchart(key) {\n",
              "          const quickchartButtonEl =\n",
              "            document.querySelector('#' + key + ' button');\n",
              "          quickchartButtonEl.disabled = true;  // To prevent multiple clicks.\n",
              "          quickchartButtonEl.classList.add('colab-df-spinner');\n",
              "          try {\n",
              "            const charts = await google.colab.kernel.invokeFunction(\n",
              "                'suggestCharts', [key], {});\n",
              "          } catch (error) {\n",
              "            console.error('Error during call to suggestCharts:', error);\n",
              "          }\n",
              "          quickchartButtonEl.classList.remove('colab-df-spinner');\n",
              "          quickchartButtonEl.classList.add('colab-df-quickchart-complete');\n",
              "        }\n",
              "        (() => {\n",
              "          let quickchartButtonEl =\n",
              "            document.querySelector('#df-91f1321c-c086-48e6-8de6-df77c67dd0e4 button');\n",
              "          quickchartButtonEl.style.display =\n",
              "            google.colab.kernel.accessAllowed ? 'block' : 'none';\n",
              "        })();\n",
              "      </script>\n",
              "    </div>\n",
              "\n",
              "  <div id=\"id_ecdaee24-4f25-4eb9-8a9e-7dd0fc601ce6\">\n",
              "    <style>\n",
              "      .colab-df-generate {\n",
              "        background-color: #E8F0FE;\n",
              "        border: none;\n",
              "        border-radius: 50%;\n",
              "        cursor: pointer;\n",
              "        display: none;\n",
              "        fill: #1967D2;\n",
              "        height: 32px;\n",
              "        padding: 0 0 0 0;\n",
              "        width: 32px;\n",
              "      }\n",
              "\n",
              "      .colab-df-generate:hover {\n",
              "        background-color: #E2EBFA;\n",
              "        box-shadow: 0px 1px 2px rgba(60, 64, 67, 0.3), 0px 1px 3px 1px rgba(60, 64, 67, 0.15);\n",
              "        fill: #174EA6;\n",
              "      }\n",
              "\n",
              "      [theme=dark] .colab-df-generate {\n",
              "        background-color: #3B4455;\n",
              "        fill: #D2E3FC;\n",
              "      }\n",
              "\n",
              "      [theme=dark] .colab-df-generate:hover {\n",
              "        background-color: #434B5C;\n",
              "        box-shadow: 0px 1px 3px 1px rgba(0, 0, 0, 0.15);\n",
              "        filter: drop-shadow(0px 1px 2px rgba(0, 0, 0, 0.3));\n",
              "        fill: #FFFFFF;\n",
              "      }\n",
              "    </style>\n",
              "    <button class=\"colab-df-generate\" onclick=\"generateWithVariable('renter_affordability_copy')\"\n",
              "            title=\"Generate code using this dataframe.\"\n",
              "            style=\"display:none;\">\n",
              "\n",
              "  <svg xmlns=\"http://www.w3.org/2000/svg\" height=\"24px\"viewBox=\"0 0 24 24\"\n",
              "       width=\"24px\">\n",
              "    <path d=\"M7,19H8.4L18.45,9,17,7.55,7,17.6ZM5,21V16.75L18.45,3.32a2,2,0,0,1,2.83,0l1.4,1.43a1.91,1.91,0,0,1,.58,1.4,1.91,1.91,0,0,1-.58,1.4L9.25,21ZM18.45,9,17,7.55Zm-12,3A5.31,5.31,0,0,0,4.9,8.1,5.31,5.31,0,0,0,1,6.5,5.31,5.31,0,0,0,4.9,4.9,5.31,5.31,0,0,0,6.5,1,5.31,5.31,0,0,0,8.1,4.9,5.31,5.31,0,0,0,12,6.5,5.46,5.46,0,0,0,6.5,12Z\"/>\n",
              "  </svg>\n",
              "    </button>\n",
              "    <script>\n",
              "      (() => {\n",
              "      const buttonEl =\n",
              "        document.querySelector('#id_ecdaee24-4f25-4eb9-8a9e-7dd0fc601ce6 button.colab-df-generate');\n",
              "      buttonEl.style.display =\n",
              "        google.colab.kernel.accessAllowed ? 'block' : 'none';\n",
              "\n",
              "      buttonEl.onclick = () => {\n",
              "        google.colab.notebook.generateWithVariable('renter_affordability_copy');\n",
              "      }\n",
              "      })();\n",
              "    </script>\n",
              "  </div>\n",
              "\n",
              "    </div>\n",
              "  </div>\n"
            ],
            "application/vnd.google.colaboratory.intrinsic+json": {
              "type": "dataframe",
              "variable_name": "renter_affordability_copy",
              "summary": "{\n  \"name\": \"renter_affordability_copy\",\n  \"rows\": 369,\n  \"fields\": [\n    {\n      \"column\": \"RegionID\",\n      \"properties\": {\n        \"dtype\": \"number\",\n        \"std\": 61655,\n        \"min\": 394299,\n        \"max\": 845160,\n        \"num_unique_values\": 369,\n        \"samples\": [\n          395053,\n          394952,\n          845160\n        ],\n        \"semantic_type\": \"\",\n        \"description\": \"\"\n      }\n    },\n    {\n      \"column\": \"SizeRank\",\n      \"properties\": {\n        \"dtype\": \"number\",\n        \"std\": 122,\n        \"min\": 1,\n        \"max\": 551,\n        \"num_unique_values\": 368,\n        \"samples\": [\n          148,\n          71,\n          198\n        ],\n        \"semantic_type\": \"\",\n        \"description\": \"\"\n      }\n    },\n    {\n      \"column\": \"CityName\",\n      \"properties\": {\n        \"dtype\": \"string\",\n        \"num_unique_values\": 343,\n        \"samples\": [\n          \"Lawton\",\n          \"Elkhart\",\n          \"South Bend\"\n        ],\n        \"semantic_type\": \"\",\n        \"description\": \"\"\n      }\n    },\n    {\n      \"column\": \"StateName\",\n      \"properties\": {\n        \"dtype\": \"category\",\n        \"num_unique_values\": 50,\n        \"samples\": [\n          \"Indiana\",\n          \"South Carolina\",\n          \"New Mexico\"\n        ],\n        \"semantic_type\": \"\",\n        \"description\": \"\"\n      }\n    },\n    {\n      \"column\": \"abb_StateName\",\n      \"properties\": {\n        \"dtype\": \"category\",\n        \"num_unique_values\": 50,\n        \"samples\": [\n          \"IN\",\n          \"SC\",\n          \"NM\"\n        ],\n        \"semantic_type\": \"\",\n        \"description\": \"\"\n      }\n    },\n    {\n      \"column\": \"Average Affordability\",\n      \"properties\": {\n        \"dtype\": \"number\",\n        \"std\": 0.05068051603303354,\n        \"min\": 0.1351019423,\n        \"max\": 0.4125964659,\n        \"num_unique_values\": 369,\n        \"samples\": [\n          0.2096731431,\n          0.318484372,\n          0.3198163276\n        ],\n        \"semantic_type\": \"\",\n        \"description\": \"\"\n      }\n    },\n    {\n      \"column\": \"Population\",\n      \"properties\": {\n        \"dtype\": \"number\",\n        \"std\": 552704.6999721159,\n        \"min\": 8607.0,\n        \"max\": 8390888.0,\n        \"num_unique_values\": 369,\n        \"samples\": [\n          211833.0,\n          199764.0,\n          50156.0\n        ],\n        \"semantic_type\": \"\",\n        \"description\": \"\"\n      }\n    },\n    {\n      \"column\": \"Minimum Wage\",\n      \"properties\": {\n        \"dtype\": \"number\",\n        \"std\": 3.1755201580410533,\n        \"min\": 5.15,\n        \"max\": 15.74,\n        \"num_unique_values\": 26,\n        \"samples\": [\n          5.15,\n          9.95,\n          7.25\n        ],\n        \"semantic_type\": \"\",\n        \"description\": \"\"\n      }\n    },\n    {\n      \"column\": \"Renter Income\",\n      \"properties\": {\n        \"dtype\": \"number\",\n        \"std\": 18447.42227209248,\n        \"min\": 28024.10163,\n        \"max\": 136889.5837,\n        \"num_unique_values\": 369,\n        \"samples\": [\n          65974.47565,\n          114300.0376,\n          71679.12281\n        ],\n        \"semantic_type\": \"\",\n        \"description\": \"\"\n      }\n    },\n    {\n      \"column\": \"State property tax\",\n      \"properties\": {\n        \"dtype\": \"number\",\n        \"std\": 0.0035401022161731964,\n        \"min\": 0.0032,\n        \"max\": 0.0183,\n        \"num_unique_values\": 39,\n        \"samples\": [\n          0.0105,\n          0.0142,\n          0.007\n        ],\n        \"semantic_type\": \"\",\n        \"description\": \"\"\n      }\n    },\n    {\n      \"column\": \"Median Income\",\n      \"properties\": {\n        \"dtype\": \"number\",\n        \"std\": 15691.391081456013,\n        \"min\": 29670.0,\n        \"max\": 141565.0,\n        \"num_unique_values\": 367,\n        \"samples\": [\n          71855.0,\n          93372.0,\n          69151.0\n        ],\n        \"semantic_type\": \"\",\n        \"description\": \"\"\n      }\n    },\n    {\n      \"column\": \"Income difference\",\n      \"properties\": {\n        \"dtype\": \"number\",\n        \"std\": 14051.18096899456,\n        \"min\": -38351.28733,\n        \"max\": 51241.78690000001,\n        \"num_unique_values\": 369,\n        \"samples\": [\n          -8950.524350000007,\n          20928.037599999996,\n          2528.1228100000008\n        ],\n        \"semantic_type\": \"\",\n        \"description\": \"\"\n      }\n    }\n  ]\n}"
            }
          },
          "metadata": {},
          "execution_count": 6
        }
      ]
    },
    {
      "cell_type": "code",
      "source": [
        "plt.figure(figsize=(10,6))\n",
        "\n",
        "sns.catplot(\n",
        "    data=renter_affordability_copy,\n",
        "    x=renter_affordability_copy['Population']/100000,\n",
        "    y='Average Affordability',\n",
        "    hue=np.where(renter_affordability_copy['Income difference'] >= 0, 'Positive', 'Negative'),\n",
        "    alpha=0.7,\n",
        "    native_scale=True,\n",
        ")\n",
        "\n",
        "plt.title('Affordability vs Population (by Income Difference Sign)')\n",
        "plt.xlabel('Population in (100k)')\n",
        "plt.ylabel('Average Affordability')\n",
        "plt.legend(title='Income Difference')\n",
        "plt.show()"
      ],
      "metadata": {
        "colab": {
          "base_uri": "https://localhost:8080/",
          "height": 546
        },
        "id": "zo0_ivo4kMv5",
        "outputId": "d59ab24f-8532-4202-8cad-f85dbe363307"
      },
      "execution_count": null,
      "outputs": [
        {
          "output_type": "display_data",
          "data": {
            "text/plain": [
              "<Figure size 1000x600 with 0 Axes>"
            ]
          },
          "metadata": {}
        },
        {
          "output_type": "display_data",
          "data": {
            "text/plain": [
              "<Figure size 612.5x500 with 1 Axes>"
            ],
            "image/png": "[encoded data removed]"
          },
          "metadata": {}
        }
      ]
    },
    {
      "cell_type": "code",
      "source": [
        "g = sns.catplot(\n",
        "    data=renter_affordability_copy,\n",
        "    x=renter_affordability_copy['Population']/100000,\n",
        "    y='Average Affordability',\n",
        "    hue=np.where(renter_affordability_copy['Income difference'] >= 0, 'Positive', 'Negative'),\n",
        "    alpha=0.7,\n",
        "    native_scale=True,\n",
        "    height=6,\n",
        "    aspect=1.67\n",
        ")\n",
        "\n",
        "g.set(xlim=(0, 20))  # Set x-axis range from 0 to 20\n",
        "g.set_axis_labels('Population in (100k)', 'Average Affordability')\n",
        "g.fig.suptitle('Affordability vs Population (by Income Difference Sign)')\n",
        "\n",
        "plt.show()"
      ],
      "metadata": {
        "colab": {
          "base_uri": "https://localhost:8080/",
          "height": 609
        },
        "id": "sJo-sP8XNH_9",
        "outputId": "8fde9abb-3fb4-43e5-b3e6-1009f6a06032"
      },
      "execution_count": null,
      "outputs": [
        {
          "output_type": "display_data",
          "data": {
            "text/plain": [
              "<Figure size 1114.5x600 with 1 Axes>"
            ],
            "image/png": "[encoded data removed]"
          },
          "metadata": {}
        }
      ]
    },
    {
      "cell_type": "code",
      "source": [
        "plt.figure(figsize=(10,6))\n",
        "\n",
        "sns.scatterplot(\n",
        "    data=renter_affordability_copy,\n",
        "    x='Population',\n",
        "    y='Average Affordability',\n",
        "    hue=np.where(renter_affordability_copy['Income difference'] >= 0, 'Positive', 'Negative'),\n",
        "    alpha=0.7\n",
        ")\n",
        "\n",
        "plt.xscale('log')  # Set x-axis to logarithmic scale\n",
        "plt.title('Affordability vs Population (by Income Difference Sign)')\n",
        "plt.xlabel('Population (log scale)')\n",
        "plt.ylabel('Average Affordability')\n",
        "plt.legend(title='Income Difference')\n",
        "plt.show()"
      ],
      "metadata": {
        "colab": {
          "base_uri": "https://localhost:8080/",
          "height": 569
        },
        "id": "H0KZT49zKs1A",
        "outputId": "3e210186-f8ed-4051-ff96-bcd95c567b39"
      },
      "execution_count": null,
      "outputs": [
        {
          "output_type": "display_data",
          "data": {
            "text/plain": [
              "<Figure size 1000x600 with 1 Axes>"
            ],
            "image/png": "[encoded data removed]"
          },
          "metadata": {}
        }
      ]
    },
    {
      "cell_type": "markdown",
      "source": [
        "The plot shows no clear relationship between population size and affordability.\n",
        "\n",
        "Positive income difference means renters earn more than the median household income, while negative means they earn less.\n",
        "\n",
        "The key finding is that areas with higher affordability (above 30% of income) **need renters to earn above the median income**. This suggests that even when renters earn more than average, they still face high housing costs. In contrast, areas with lower affordability burdens show a more even mix of income levels."
      ],
      "metadata": {
        "id": "qk7g3cS4llT3"
      }
    },
    {
      "cell_type": "markdown",
      "metadata": {
        "id": "2gBQnPbS4odT"
      },
      "source": [
        "### Q3: Come up with a another unique question. This question must use map() or apply()"
      ]
    },
    {
      "cell_type": "code",
      "source": [
        "# Your code here . . .\n",
        "median_affordability = renter_affordability_copy['Average Affordability'].median()\n",
        "\n",
        "renter_affordability_copy['Income Difference Percentage'] = renter_affordability_copy.apply(\n",
        "    lambda row: ((row['Renter Income'] - row['Median Income']) / row['Median Income']) * 100 if row['Median Income'] != 0 else 0,\n",
        "    axis=1\n",
        ")\n",
        "\n",
        "renter_affordability_copy['Combined Category'] = renter_affordability_copy.apply(\n",
        "    lambda row: f\"{'Above Median Affordability' if row['Average Affordability'] >= median_affordability else 'Below Median Affordability'} and {'Positive Income Difference' if row['Income Difference Percentage'] >= 0 else 'Negative Income Difference'}\",\n",
        "    axis=1\n",
        ")\n",
        "\n",
        "display(renter_affordability_copy[['Average Affordability', 'Income Difference Percentage', 'Combined Category']].head(5))\n",
        "print(\"\\nValue counts for the Combined Category:\")\n",
        "display(renter_affordability_copy['Combined Category'].value_counts())"
      ],
      "metadata": {
        "id": "iBBfjifl4tWD",
        "outputId": "9f57844e-5823-4ca7-b760-d0a993edde20",
        "colab": {
          "base_uri": "https://localhost:8080/",
          "height": 464
        }
      },
      "execution_count": null,
      "outputs": [
        {
          "output_type": "display_data",
          "data": {
            "text/plain": [
              "   Average Affordability  Income Difference Percentage  \\\n",
              "0               0.227831                     18.576505   \n",
              "1               0.195576                    -21.775584   \n",
              "2               0.258713                     -6.556089   \n",
              "3               0.237828                    -11.219599   \n",
              "4               0.285725                     14.197051   \n",
              "\n",
              "                                   Combined Category  \n",
              "0  Below Median Affordability and Positive Income...  \n",
              "1  Below Median Affordability and Negative Income...  \n",
              "2  Above Median Affordability and Negative Income...  \n",
              "3  Below Median Affordability and Negative Income...  \n",
              "4  Above Median Affordability and Positive Income...  "
            ],
            "text/html": [
              "\n",
              "  <div id=\"df-afe2f365-d27b-4d76-9b5d-cb1c9fe8d3ff\" class=\"colab-df-container\">\n",
              "    <div>\n",
              "<style scoped>\n",
              "    .dataframe tbody tr th:only-of-type {\n",
              "        vertical-align: middle;\n",
              "    }\n",
              "\n",
              "    .dataframe tbody tr th {\n",
              "        vertical-align: top;\n",
              "    }\n",
              "\n",
              "    .dataframe thead th {\n",
              "        text-align: right;\n",
              "    }\n",
              "</style>\n",
              "<table border=\"1\" class=\"dataframe\">\n",
              "  <thead>\n",
              "    <tr style=\"text-align: right;\">\n",
              "      <th></th>\n",
              "      <th>Average Affordability</th>\n",
              "      <th>Income Difference Percentage</th>\n",
              "      <th>Combined Category</th>\n",
              "    </tr>\n",
              "  </thead>\n",
              "  <tbody>\n",
              "    <tr>\n",
              "      <th>0</th>\n",
              "      <td>0.227831</td>\n",
              "      <td>18.576505</td>\n",
              "      <td>Below Median Affordability and Positive Income...</td>\n",
              "    </tr>\n",
              "    <tr>\n",
              "      <th>1</th>\n",
              "      <td>0.195576</td>\n",
              "      <td>-21.775584</td>\n",
              "      <td>Below Median Affordability and Negative Income...</td>\n",
              "    </tr>\n",
              "    <tr>\n",
              "      <th>2</th>\n",
              "      <td>0.258713</td>\n",
              "      <td>-6.556089</td>\n",
              "      <td>Above Median Affordability and Negative Income...</td>\n",
              "    </tr>\n",
              "    <tr>\n",
              "      <th>3</th>\n",
              "      <td>0.237828</td>\n",
              "      <td>-11.219599</td>\n",
              "      <td>Below Median Affordability and Negative Income...</td>\n",
              "    </tr>\n",
              "    <tr>\n",
              "      <th>4</th>\n",
              "      <td>0.285725</td>\n",
              "      <td>14.197051</td>\n",
              "      <td>Above Median Affordability and Positive Income...</td>\n",
              "    </tr>\n",
              "  </tbody>\n",
              "</table>\n",
              "</div>\n",
              "    <div class=\"colab-df-buttons\">\n",
              "\n",
              "  <div class=\"colab-df-container\">\n",
              "    <button class=\"colab-df-convert\" onclick=\"convertToInteractive('df-afe2f365-d27b-4d76-9b5d-cb1c9fe8d3ff')\"\n",
              "            title=\"Convert this dataframe to an interactive table.\"\n",
              "            style=\"display:none;\">\n",
              "\n",
              "  <svg xmlns=\"http://www.w3.org/2000/svg\" height=\"24px\" viewBox=\"0 -960 960 960\">\n",
              "    <path d=\"M120-120v-720h720v720H120Zm60-500h600v-160H180v160Zm220 220h160v-160H400v160Zm0 220h160v-160H400v160ZM180-400h160v-160H180v160Zm440 0h160v-160H620v160ZM180-180h160v-160H180v160Zm440 0h160v-160H620v160Z\"/>\n",
              "  </svg>\n",
              "    </button>\n",
              "\n",
              "  <style>\n",
              "    .colab-df-container {\n",
              "      display:flex;\n",
              "      gap: 12px;\n",
              "    }\n",
              "\n",
              "    .colab-df-convert {\n",
              "      background-color: #E8F0FE;\n",
              "      border: none;\n",
              "      border-radius: 50%;\n",
              "      cursor: pointer;\n",
              "      display: none;\n",
              "      fill: #1967D2;\n",
              "      height: 32px;\n",
              "      padding: 0 0 0 0;\n",
              "      width: 32px;\n",
              "    }\n",
              "\n",
              "    .colab-df-convert:hover {\n",
              "      background-color: #E2EBFA;\n",
              "      box-shadow: 0px 1px 2px rgba(60, 64, 67, 0.3), 0px 1px 3px 1px rgba(60, 64, 67, 0.15);\n",
              "      fill: #174EA6;\n",
              "    }\n",
              "\n",
              "    .colab-df-buttons div {\n",
              "      margin-bottom: 4px;\n",
              "    }\n",
              "\n",
              "    [theme=dark] .colab-df-convert {\n",
              "      background-color: #3B4455;\n",
              "      fill: #D2E3FC;\n",
              "    }\n",
              "\n",
              "    [theme=dark] .colab-df-convert:hover {\n",
              "      background-color: #434B5C;\n",
              "      box-shadow: 0px 1px 3px 1px rgba(0, 0, 0, 0.15);\n",
              "      filter: drop-shadow(0px 1px 2px rgba(0, 0, 0, 0.3));\n",
              "      fill: #FFFFFF;\n",
              "    }\n",
              "  </style>\n",
              "\n",
              "    <script>\n",
              "      const buttonEl =\n",
              "        document.querySelector('#df-afe2f365-d27b-4d76-9b5d-cb1c9fe8d3ff button.colab-df-convert');\n",
              "      buttonEl.style.display =\n",
              "        google.colab.kernel.accessAllowed ? 'block' : 'none';\n",
              "\n",
              "      async function convertToInteractive(key) {\n",
              "        const element = document.querySelector('#df-afe2f365-d27b-4d76-9b5d-cb1c9fe8d3ff');\n",
              "        const dataTable =\n",
              "          await google.colab.kernel.invokeFunction('convertToInteractive',\n",
              "                                                    [key], {});\n",
              "        if (!dataTable) return;\n",
              "\n",
              "        const docLinkHtml = 'Like what you see? Visit the ' +\n",
              "          '<a target=\"_blank\" href=https://colab.research.google.com/notebooks/data_table.ipynb>data table notebook</a>'\n",
              "          + ' to learn more about interactive tables.';\n",
              "        element.innerHTML = '';\n",
              "        dataTable['output_type'] = 'display_data';\n",
              "        await google.colab.output.renderOutput(dataTable, element);\n",
              "        const docLink = document.createElement('div');\n",
              "        docLink.innerHTML = docLinkHtml;\n",
              "        element.appendChild(docLink);\n",
              "      }\n",
              "    </script>\n",
              "  </div>\n",
              "\n",
              "\n",
              "    <div id=\"df-59eabe1b-d7b8-4eea-8a77-4cd13f90046e\">\n",
              "      <button class=\"colab-df-quickchart\" onclick=\"quickchart('df-59eabe1b-d7b8-4eea-8a77-4cd13f90046e')\"\n",
              "                title=\"Suggest charts\"\n",
              "                style=\"display:none;\">\n",
              "\n",
              "<svg xmlns=\"http://www.w3.org/2000/svg\" height=\"24px\"viewBox=\"0 0 24 24\"\n",
              "     width=\"24px\">\n",
              "    <g>\n",
              "        <path d=\"M19 3H5c-1.1 0-2 .9-2 2v14c0 1.1.9 2 2 2h14c1.1 0 2-.9 2-2V5c0-1.1-.9-2-2-2zM9 17H7v-7h2v7zm4 0h-2V7h2v10zm4 0h-2v-4h2v4z\"/>\n",
              "    </g>\n",
              "</svg>\n",
              "      </button>\n",
              "\n",
              "<style>\n",
              "  .colab-df-quickchart {\n",
              "      --bg-color: #E8F0FE;\n",
              "      --fill-color: #1967D2;\n",
              "      --hover-bg-color: #E2EBFA;\n",
              "      --hover-fill-color: #174EA6;\n",
              "      --disabled-fill-color: #AAA;\n",
              "      --disabled-bg-color: #DDD;\n",
              "  }\n",
              "\n",
              "  [theme=dark] .colab-df-quickchart {\n",
              "      --bg-color: #3B4455;\n",
              "      --fill-color: #D2E3FC;\n",
              "      --hover-bg-color: #434B5C;\n",
              "      --hover-fill-color: #FFFFFF;\n",
              "      --disabled-bg-color: #3B4455;\n",
              "      --disabled-fill-color: #666;\n",
              "  }\n",
              "\n",
              "  .colab-df-quickchart {\n",
              "    background-color: var(--bg-color);\n",
              "    border: none;\n",
              "    border-radius: 50%;\n",
              "    cursor: pointer;\n",
              "    display: none;\n",
              "    fill: var(--fill-color);\n",
              "    height: 32px;\n",
              "    padding: 0;\n",
              "    width: 32px;\n",
              "  }\n",
              "\n",
              "  .colab-df-quickchart:hover {\n",
              "    background-color: var(--hover-bg-color);\n",
              "    box-shadow: 0 1px 2px rgba(60, 64, 67, 0.3), 0 1px 3px 1px rgba(60, 64, 67, 0.15);\n",
              "    fill: var(--button-hover-fill-color);\n",
              "  }\n",
              "\n",
              "  .colab-df-quickchart-complete:disabled,\n",
              "  .colab-df-quickchart-complete:disabled:hover {\n",
              "    background-color: var(--disabled-bg-color);\n",
              "    fill: var(--disabled-fill-color);\n",
              "    box-shadow: none;\n",
              "  }\n",
              "\n",
              "  .colab-df-spinner {\n",
              "    border: 2px solid var(--fill-color);\n",
              "    border-color: transparent;\n",
              "    border-bottom-color: var(--fill-color);\n",
              "    animation:\n",
              "      spin 1s steps(1) infinite;\n",
              "  }\n",
              "\n",
              "  @keyframes spin {\n",
              "    0% {\n",
              "      border-color: transparent;\n",
              "      border-bottom-color: var(--fill-color);\n",
              "      border-left-color: var(--fill-color);\n",
              "    }\n",
              "    20% {\n",
              "      border-color: transparent;\n",
              "      border-left-color: var(--fill-color);\n",
              "      border-top-color: var(--fill-color);\n",
              "    }\n",
              "    30% {\n",
              "      border-color: transparent;\n",
              "      border-left-color: var(--fill-color);\n",
              "      border-top-color: var(--fill-color);\n",
              "      border-right-color: var(--fill-color);\n",
              "    }\n",
              "    40% {\n",
              "      border-color: transparent;\n",
              "      border-right-color: var(--fill-color);\n",
              "      border-top-color: var(--fill-color);\n",
              "    }\n",
              "    60% {\n",
              "      border-color: transparent;\n",
              "      border-right-color: var(--fill-color);\n",
              "    }\n",
              "    80% {\n",
              "      border-color: transparent;\n",
              "      border-right-color: var(--fill-color);\n",
              "      border-bottom-color: var(--fill-color);\n",
              "    }\n",
              "    90% {\n",
              "      border-color: transparent;\n",
              "      border-bottom-color: var(--fill-color);\n",
              "    }\n",
              "  }\n",
              "</style>\n",
              "\n",
              "      <script>\n",
              "        async function quickchart(key) {\n",
              "          const quickchartButtonEl =\n",
              "            document.querySelector('#' + key + ' button');\n",
              "          quickchartButtonEl.disabled = true;  // To prevent multiple clicks.\n",
              "          quickchartButtonEl.classList.add('colab-df-spinner');\n",
              "          try {\n",
              "            const charts = await google.colab.kernel.invokeFunction(\n",
              "                'suggestCharts', [key], {});\n",
              "          } catch (error) {\n",
              "            console.error('Error during call to suggestCharts:', error);\n",
              "          }\n",
              "          quickchartButtonEl.classList.remove('colab-df-spinner');\n",
              "          quickchartButtonEl.classList.add('colab-df-quickchart-complete');\n",
              "        }\n",
              "        (() => {\n",
              "          let quickchartButtonEl =\n",
              "            document.querySelector('#df-59eabe1b-d7b8-4eea-8a77-4cd13f90046e button');\n",
              "          quickchartButtonEl.style.display =\n",
              "            google.colab.kernel.accessAllowed ? 'block' : 'none';\n",
              "        })();\n",
              "      </script>\n",
              "    </div>\n",
              "\n",
              "    </div>\n",
              "  </div>\n"
            ],
            "application/vnd.google.colaboratory.intrinsic+json": {
              "type": "dataframe",
              "summary": "{\n  \"name\": \"display(renter_affordability_copy['Combined Category']\",\n  \"rows\": 5,\n  \"fields\": [\n    {\n      \"column\": \"Average Affordability\",\n      \"properties\": {\n        \"dtype\": \"number\",\n        \"std\": 0.03376705108148245,\n        \"min\": 0.1955756618,\n        \"max\": 0.2857250772,\n        \"num_unique_values\": 5,\n        \"samples\": [\n          0.1955756618,\n          0.2857250772,\n          0.2587133121\n        ],\n        \"semantic_type\": \"\",\n        \"description\": \"\"\n      }\n    },\n    {\n      \"column\": \"Income Difference Percentage\",\n      \"properties\": {\n        \"dtype\": \"number\",\n        \"std\": 17.17915201850507,\n        \"min\": -21.77558413631354,\n        \"max\": 18.576504619614205,\n        \"num_unique_values\": 5,\n        \"samples\": [\n          -21.77558413631354,\n          14.19705084885446,\n          -6.55608858876493\n        ],\n        \"semantic_type\": \"\",\n        \"description\": \"\"\n      }\n    },\n    {\n      \"column\": \"Combined Category\",\n      \"properties\": {\n        \"dtype\": \"string\",\n        \"num_unique_values\": 4,\n        \"samples\": [\n          \"Below Median Affordability and Negative Income Difference\",\n          \"Above Median Affordability and Positive Income Difference\",\n          \"Below Median Affordability and Positive Income Difference\"\n        ],\n        \"semantic_type\": \"\",\n        \"description\": \"\"\n      }\n    }\n  ]\n}"
            }
          },
          "metadata": {}
        },
        {
          "output_type": "stream",
          "name": "stdout",
          "text": [
            "\n",
            "Value counts for the Combined Category:\n"
          ]
        },
        {
          "output_type": "display_data",
          "data": {
            "text/plain": [
              "Combined Category\n",
              "Below Median Affordability and Negative Income Difference    154\n",
              "Above Median Affordability and Positive Income Difference    110\n",
              "Above Median Affordability and Negative Income Difference     75\n",
              "Below Median Affordability and Positive Income Difference     30\n",
              "Name: count, dtype: int64"
            ],
            "text/html": [
              "<div>\n",
              "<style scoped>\n",
              "    .dataframe tbody tr th:only-of-type {\n",
              "        vertical-align: middle;\n",
              "    }\n",
              "\n",
              "    .dataframe tbody tr th {\n",
              "        vertical-align: top;\n",
              "    }\n",
              "\n",
              "    .dataframe thead th {\n",
              "        text-align: right;\n",
              "    }\n",
              "</style>\n",
              "<table border=\"1\" class=\"dataframe\">\n",
              "  <thead>\n",
              "    <tr style=\"text-align: right;\">\n",
              "      <th></th>\n",
              "      <th>count</th>\n",
              "    </tr>\n",
              "    <tr>\n",
              "      <th>Combined Category</th>\n",
              "      <th></th>\n",
              "    </tr>\n",
              "  </thead>\n",
              "  <tbody>\n",
              "    <tr>\n",
              "      <th>Below Median Affordability and Negative Income Difference</th>\n",
              "      <td>154</td>\n",
              "    </tr>\n",
              "    <tr>\n",
              "      <th>Above Median Affordability and Positive Income Difference</th>\n",
              "      <td>110</td>\n",
              "    </tr>\n",
              "    <tr>\n",
              "      <th>Above Median Affordability and Negative Income Difference</th>\n",
              "      <td>75</td>\n",
              "    </tr>\n",
              "    <tr>\n",
              "      <th>Below Median Affordability and Positive Income Difference</th>\n",
              "      <td>30</td>\n",
              "    </tr>\n",
              "  </tbody>\n",
              "</table>\n",
              "</div><br><label><b>dtype:</b> int64</label>"
            ]
          },
          "metadata": {}
        }
      ]
    },
    {
      "cell_type": "markdown",
      "source": [
        "Cities can be categorized by comparing their Average Affordability to the overall median, splitting them into above and below median. A lower average affordability percentage indicates that a city is more affordable and a higher percentage indicates it's less affordable. Then, calculating how each city's Renter Income differs from its Median Income as a percentage, we can create four unique groups based on whether affordability is above or below the median and whether the income percentage is positive or negative.\n",
        "\n",
        "The cities are distributed as such (in order of best to worst):\n",
        "*   \"Below Median Affordability and Positive Income Difference\" with 30 cities. Housing is more affordable than the median and renters on average earn more than the median household income in the city.\n",
        "*   \"Below Median Affordability and Negative Income Difference\" with 154 cities. Housing is more affordable than the median but renters on average earn less than the median household income in the city.\n",
        "*   \"Above Median Affordability and Positive Income Difference\" with 110 cities. Renters on average earn more than the median household income but housing is less affordable than the median.\n",
        "*   \"Above Median Affordability and Negative Income Difference\" with 75 cities. Housing is less affordable than the median and renters on average earn less than the median household income in the city.\n",
        "\n",
        "\n",
        "This distribution shows that cities with higher affordability are more likely to have renters that earn below the median income. On the other hand, cities with lower affordability have a higher conecntration of renters that earn above the median income. There are still a significant number of cities where renters actually earn below the median, conveying the issue of affordability in many cities, even for ones with higher incomes."
      ],
      "metadata": {
        "id": "JxG8GQ74gT_i"
      }
    },
    {
      "cell_type": "markdown",
      "source": [
        "### Q4: Create an interactive plot\n",
        "Create an interactive plot using plotly. Your plot can be a previously asked question or a new question, however explain how this interaction strengthen what you want to communicate with your audience."
      ],
      "metadata": {
        "id": "2QajJFw5j_Oe"
      }
    },
    {
      "cell_type": "code",
      "source": [
        "# If running plotly in Google colab, you will need to run this custom initalization function\n",
        "# in each offline plotting cell\n",
        "def configure_plotly_browser_state():\n",
        "  import IPython\n",
        "  display(IPython.core.display.HTML('''\n",
        "        <script src=\"/static/components/requirejs/require.js\"></script>\n",
        "        <script>\n",
        "          requirejs.config({\n",
        "            paths: {\n",
        "              base: '/static/base',\n",
        "              plotly: 'https://cdn.plot.ly/plotly-latest.min.js?noext',\n",
        "            },\n",
        "          });\n",
        "        </script>\n",
        "        '''))"
      ],
      "metadata": {
        "id": "kMQsv7uwXYoO"
      },
      "execution_count": null,
      "outputs": []
    },
    {
      "cell_type": "code",
      "source": [
        "# Your code here . . .\n",
        "configure_plotly_browser_state()\n",
        "\n",
        "df = renter_affordability_copy.copy()\n",
        "df[\"IncomeSign\"] = np.where(df[\"Income difference\"] >= 0, \"Positive\", \"Negative\")\n",
        "\n",
        "df_pos = df[df[\"IncomeSign\"] == \"Positive\"]\n",
        "df_neg = df[df[\"IncomeSign\"] == \"Negative\"]\n",
        "\n",
        "# Positive trace\n",
        "trace_pos = go.Scatter(\n",
        "    x=df_pos[\"Population\"],\n",
        "    y=df_pos[\"Average Affordability\"],\n",
        "    mode=\"markers\",\n",
        "    name=\"Positive\",\n",
        "    marker=dict(color='rgba(31, 237, 108, 0.8)', size=9),\n",
        "    opacity=0.7,\n",
        "    # Pack fields for hover\n",
        "    customdata=np.stack(\n",
        "        [df_pos[\"CityName\"], df_pos[\"StateName\"], df_pos[\"Average Affordability\"], df_pos[\"Population\"]], axis=-1\n",
        "    ),\n",
        "    hovertemplate=(\n",
        "            \"<b>%{customdata[0]}, %{customdata[1]}</b><br>\"\n",
        "            \"Affordability: %{customdata[2]:.2f}<br>\"\n",
        "            \"Population: %{customdata[3]:,}<br>\"\n",
        "            \"<extra></extra>\"\n",
        "        ),\n",
        ")\n",
        "\n",
        "# Negative trace\n",
        "trace_neg = go.Scatter(\n",
        "    x=df_neg[\"Population\"],\n",
        "    y=df_neg[\"Average Affordability\"],\n",
        "    mode=\"markers\",\n",
        "    name=\"Negative\",\n",
        "    marker=dict(color='rgba(245, 73, 197, 0.8)', size=9),\n",
        "    opacity=0.7,\n",
        "    customdata=np.stack(\n",
        "        [df_neg[\"CityName\"], df_neg[\"StateName\"], df_neg[\"Average Affordability\"], df_neg[\"Population\"]], axis=-1\n",
        "    ),\n",
        "    hovertemplate=(\n",
        "            \"<b>%{customdata[0]}, %{customdata[1]}</b><br>\"\n",
        "            \"Affordability: %{customdata[2]:.2f}<br>\"\n",
        "            \"Population: %{customdata[3]:,}<br>\"\n",
        "            \"<extra></extra>\"\n",
        "        ),\n",
        "\n",
        ")\n",
        "\n",
        "data = [trace_pos, trace_neg]\n",
        "\n",
        "layout = dict(\n",
        "    title=\"Affordability vs Population (by Income Difference Sign)\",\n",
        "    xaxis=dict(title=\"Population (log)\", type = 'log', ticklen=10, zeroline=False),\n",
        "    yaxis=dict(title=\"Average Affordability\", ticklen=5, zeroline=False),\n",
        "    legend=dict(title=\"Income Difference\")\n",
        ")\n",
        "\n",
        "fig = dict(data=data, layout=layout)\n",
        "iplot(fig)\n"
      ],
      "metadata": {
        "id": "7jPqoJJdj-M7",
        "colab": {
          "resources": {
            "http://localhost:8080/static/components/requirejs/require.js": {
              "data": "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",
              "ok": true,
              "headers": [
                [
                  "content-length",
                  "86578"
                ],
                [
                  "content-type",
                  "application/javascript"
                ]
              ],
              "status": 200,
              "status_text": ""
            }
          },
          "base_uri": "https://localhost:8080/",
          "height": 542
        },
        "outputId": "f674978b-a8d8-4166-ce58-74a454e9a315"
      },
      "execution_count": null,
      "outputs": [
        {
          "output_type": "display_data",
          "data": {
            "text/plain": [
              "<IPython.core.display.HTML object>"
            ],
            "text/html": [
              "\n",
              "        <script src=\"/static/components/requirejs/require.js\"></script>\n",
              "        <script>\n",
              "          requirejs.config({\n",
              "            paths: {\n",
              "              base: '/static/base',\n",
              "              plotly: 'https://cdn.plot.ly/plotly-latest.min.js?noext',\n",
              "            },\n",
              "          });\n",
              "        </script>\n",
              "        "
            ]
          },
          "metadata": {}
        },
        {
          "output_type": "display_data",
          "data": {
            "application/vnd.plotly.v1+json": {
              "data": [
                {
                  "customdata": [
                    [
                      "Birmingham",
                      "Alabama",
                      0.2278312076,
                      196818
                    ],
                    [
                      "Tuscaloosa",
                      "Alabama",
                      0.2857250772,
                      113016
                    ],
                    [
                      "Tucson",
                      "Arizona",
                      0.25665728,
                      549932
                    ],
                    [
                      "Prescott Valley",
                      "Arizona",
                      0.3198163276,
                      50156
                    ],
                    [
                      "Flagstaff",
                      "Arizona",
                      0.3588439512,
                      76819
                    ],
                    [
                      "Los Angeles",
                      "California",
                      0.3671763918,
                      3847428
                    ],
                    [
                      "Riverside",
                      "California",
                      0.3283894869,
                      321560
                    ],
                    [
                      "San Diego",
                      "California",
                      0.3395727961,
                      1394555
                    ],
                    [
                      "Sacramento",
                      "California",
                      0.2756229248,
                      529792
                    ],
                    [
                      "Fresno",
                      "California",
                      0.3235736326,
                      547260
                    ],
                    [
                      "Oxnard",
                      "California",
                      0.318484372,
                      199764
                    ],
                    [
                      "Stockton",
                      "California",
                      0.3194362629,
                      322581
                    ],
                    [
                      "Santa Rosa",
                      "California",
                      0.302835871,
                      176440
                    ],
                    [
                      "Vallejo",
                      "California",
                      0.2844633463,
                      123292
                    ],
                    [
                      "Santa Maria",
                      "California",
                      0.4007922683,
                      110641
                    ],
                    [
                      "Salinas",
                      "California",
                      0.3435701438,
                      160548
                    ],
                    [
                      "San Luis Obispo",
                      "California",
                      0.3348625172,
                      49110
                    ],
                    [
                      "Merced",
                      "California",
                      0.3817176734,
                      94190
                    ],
                    [
                      "Santa Cruz",
                      "California",
                      0.3888062475,
                      62857
                    ],
                    [
                      "El Centro",
                      "California",
                      0.2930216046,
                      44160
                    ],
                    [
                      "Yuba City",
                      "California",
                      0.2975406323,
                      69116
                    ],
                    [
                      "Madera",
                      "California",
                      0.3379844443,
                      68399
                    ],
                    [
                      "Napa",
                      "California",
                      0.329572817,
                      77542
                    ],
                    [
                      "Boulder",
                      "Colorado",
                      0.2798842186,
                      106634
                    ],
                    [
                      "Greeley",
                      "Colorado",
                      0.2327818375,
                      112647
                    ],
                    [
                      "Hartford",
                      "Connecticut",
                      0.2276804877,
                      121332
                    ],
                    [
                      "Bridgeport",
                      "Connecticut",
                      0.2799039374,
                      149810
                    ],
                    [
                      "New Haven",
                      "Connecticut",
                      0.2736969555,
                      136144
                    ],
                    [
                      "Norwich",
                      "Connecticut",
                      0.243343739,
                      39908
                    ],
                    [
                      "Dover",
                      "Delaware",
                      0.2657265611,
                      40049
                    ],
                    [
                      "Miami",
                      "Florida",
                      0.4102786374,
                      470677
                    ],
                    [
                      "Tampa",
                      "Florida",
                      0.3289131801,
                      409742
                    ],
                    [
                      "Orlando",
                      "Florida",
                      0.3068044523,
                      327390
                    ],
                    [
                      "Jacksonville",
                      "Florida",
                      0.2629202038,
                      993468
                    ],
                    [
                      "North Port",
                      "Florida",
                      0.3354170948,
                      89452
                    ],
                    [
                      "Cape Coral",
                      "Florida",
                      0.3451115897,
                      227022
                    ],
                    [
                      "Lakeland",
                      "Florida",
                      0.3318786696,
                      123046
                    ],
                    [
                      "Palm Bay",
                      "Florida",
                      0.289481242,
                      136084
                    ],
                    [
                      "Port St. Lucie",
                      "Florida",
                      0.4008562734,
                      246695
                    ],
                    [
                      "Tallahassee",
                      "Florida",
                      0.2630860969,
                      203665
                    ],
                    [
                      "Ocala",
                      "Florida",
                      0.324658952,
                      68829
                    ],
                    [
                      "Gainesville",
                      "Florida",
                      0.3183111114,
                      147524
                    ],
                    [
                      "Crestview",
                      "Florida",
                      0.2843289155,
                      29453
                    ],
                    [
                      "Punta Gorda",
                      "Florida",
                      0.3362281867,
                      20441
                    ],
                    [
                      "Panama City",
                      "Florida",
                      0.3126967466,
                      35969
                    ],
                    [
                      "Sebastian",
                      "Florida",
                      0.3452410514,
                      26953
                    ],
                    [
                      "Sebring",
                      "Florida",
                      0.3423595117,
                      11621
                    ],
                    [
                      "Augusta",
                      "Georgia",
                      0.2388066416,
                      201108
                    ],
                    [
                      "Savannah",
                      "Georgia",
                      0.2791774763,
                      148333
                    ],
                    [
                      "Athens",
                      "Georgia",
                      0.2805753035,
                      129026
                    ],
                    [
                      "Gainesville",
                      "Georgia",
                      0.2595182081,
                      47149
                    ],
                    [
                      "Valdosta",
                      "Georgia",
                      0.2694082332,
                      54989
                    ],
                    [
                      "Brunswick",
                      "Georgia",
                      0.2754054705,
                      15431
                    ],
                    [
                      "Hinesville",
                      "Georgia",
                      0.3011740784,
                      36331
                    ],
                    [
                      "Urban Honolulu",
                      "Hawaii",
                      0.3047282845,
                      343531
                    ],
                    [
                      "Chicago",
                      "Illinois",
                      0.2655652052,
                      2699144
                    ],
                    [
                      "Kankakee",
                      "Illinois",
                      0.2084589155,
                      23571
                    ],
                    [
                      "Bloomington",
                      "Indiana",
                      0.2993625805,
                      80262
                    ],
                    [
                      "Bowling Green",
                      "Kentucky",
                      0.2549507023,
                      77069
                    ],
                    [
                      "New Orleans",
                      "Louisiana",
                      0.3090488576,
                      365167
                    ],
                    [
                      "Baton Rouge",
                      "Louisiana",
                      0.2455086278,
                      220773
                    ],
                    [
                      "Shreveport",
                      "Louisiana",
                      0.2728371942,
                      178017
                    ],
                    [
                      "Monroe",
                      "Louisiana",
                      0.2194667322,
                      46670
                    ],
                    [
                      "Hammond",
                      "Louisiana",
                      0.2766562039,
                      22515
                    ],
                    [
                      "Portland",
                      "Maine",
                      0.2838996712,
                      69367
                    ],
                    [
                      "Baltimore",
                      "Maryland",
                      0.2316566694,
                      567517
                    ],
                    [
                      "Hagerstown",
                      "Maryland",
                      0.2301449549,
                      43637
                    ],
                    [
                      "Boston",
                      "Massachusetts",
                      0.3070416082,
                      664603
                    ],
                    [
                      "Worcester",
                      "Massachusetts",
                      0.2419433688,
                      209211
                    ],
                    [
                      "Springfield",
                      "Massachusetts",
                      0.295037869,
                      154220
                    ],
                    [
                      "Detroit",
                      "Michigan",
                      0.2317273657,
                      638914
                    ],
                    [
                      "Flint",
                      "Michigan",
                      0.1957965402,
                      79669
                    ],
                    [
                      "Niles",
                      "Michigan",
                      0.2872069817,
                      11691
                    ],
                    [
                      "Traverse City",
                      "Michigan",
                      0.2965238351,
                      15718
                    ],
                    [
                      "Jackson",
                      "Mississippi",
                      0.2760478333,
                      143485
                    ],
                    [
                      "Gulfport",
                      "Mississippi",
                      0.2545486523,
                      73095
                    ],
                    [
                      "Hattiesburg",
                      "Mississippi",
                      0.2652240293,
                      48601
                    ],
                    [
                      "Bozeman",
                      "Montana",
                      0.2879715732,
                      57106
                    ],
                    [
                      "Carson City",
                      "Nevada",
                      0.3101182689,
                      58226
                    ],
                    [
                      "Manchester",
                      "New Hampshire",
                      0.2327672583,
                      115692
                    ],
                    [
                      "Trenton",
                      "New Jersey",
                      0.2965357238,
                      90383
                    ],
                    [
                      "Atlantic City",
                      "New Jersey",
                      0.2572818207,
                      38701
                    ],
                    [
                      "Santa Fe",
                      "New Mexico",
                      0.2948949757,
                      89506
                    ],
                    [
                      "New York",
                      "New York",
                      0.4125964659,
                      8390888
                    ],
                    [
                      "Buffalo",
                      "New York",
                      0.2185629851,
                      276376
                    ],
                    [
                      "Rochester",
                      "New York",
                      0.2205935737,
                      207235
                    ],
                    [
                      "Syracuse",
                      "New York",
                      0.2337910662,
                      146067
                    ],
                    [
                      "Utica",
                      "New York",
                      0.2557331596,
                      63676
                    ],
                    [
                      "Binghamton",
                      "New York",
                      0.2750122947,
                      46765
                    ],
                    [
                      "Kingston",
                      "New York",
                      0.2657294896,
                      23816
                    ],
                    [
                      "Watertown",
                      "New York",
                      0.2539903883,
                      24196
                    ],
                    [
                      "Ithaca",
                      "New York",
                      0.3549130777,
                      33630
                    ],
                    [
                      "Winston",
                      "North Carolina",
                      0.2735173339,
                      253332
                    ],
                    [
                      "Fayetteville",
                      "North Carolina",
                      0.2764923182,
                      209873
                    ],
                    [
                      "Asheville",
                      "North Carolina",
                      0.3104172667,
                      95235
                    ],
                    [
                      "Wilmington",
                      "North Carolina",
                      0.2708001246,
                      123599
                    ],
                    [
                      "Jacksonville",
                      "North Carolina",
                      0.2525632159,
                      71126
                    ],
                    [
                      "Greenville",
                      "North Carolina",
                      0.2838217045,
                      93793
                    ],
                    [
                      "Goldsboro",
                      "North Carolina",
                      0.272727343,
                      34505
                    ],
                    [
                      "Cincinnati",
                      "Ohio",
                      0.2169957965,
                      312703
                    ],
                    [
                      "Cleveland",
                      "Ohio",
                      0.2262562633,
                      364276
                    ],
                    [
                      "Dayton",
                      "Ohio",
                      0.2211808182,
                      135936
                    ],
                    [
                      "Youngstown",
                      "Ohio",
                      0.2100853851,
                      59195
                    ],
                    [
                      "Canton",
                      "Ohio",
                      0.188127096,
                      69230
                    ],
                    [
                      "Eugene",
                      "Oregon",
                      0.2885473416,
                      178686
                    ],
                    [
                      "Corvallis",
                      "Oregon",
                      0.2803398329,
                      61627
                    ],
                    [
                      "Grants Pass",
                      "Oregon",
                      0.3062221994,
                      39325
                    ],
                    [
                      "Philadelphia",
                      "Pennsylvania",
                      0.2432089352,
                      1563349
                    ],
                    [
                      "Allentown",
                      "Pennsylvania",
                      0.2499254294,
                      125919
                    ],
                    [
                      "Harrisburg",
                      "Pennsylvania",
                      0.2117322191,
                      50292
                    ],
                    [
                      "York",
                      "Pennsylvania",
                      0.1826374976,
                      45009
                    ],
                    [
                      "Reading",
                      "Pennsylvania",
                      0.2075296329,
                      95353
                    ],
                    [
                      "East Stroudsburg",
                      "Pennsylvania",
                      0.2954195234,
                      9461
                    ],
                    [
                      "State College",
                      "Pennsylvania",
                      0.282600763,
                      41267
                    ],
                    [
                      "Lebanon",
                      "Pennsylvania",
                      0.1819227037,
                      26421
                    ],
                    [
                      "Providence",
                      "Rhode Island",
                      0.2796118518,
                      192606
                    ],
                    [
                      "Myrtle Beach",
                      "South Carolina",
                      0.292984952,
                      39779
                    ],
                    [
                      "Spartanburg",
                      "South Carolina",
                      0.2663534615,
                      39280
                    ],
                    [
                      "Memphis",
                      "Tennessee",
                      0.2627771003,
                      614587
                    ],
                    [
                      "Knoxville",
                      "Tennessee",
                      0.2819297425,
                      197463
                    ],
                    [
                      "Morristown",
                      "Tennessee",
                      0.2933096542,
                      32222
                    ],
                    [
                      "Dallas",
                      "Texas",
                      0.2380278258,
                      1317163
                    ],
                    [
                      "Houston",
                      "Texas",
                      0.247132188,
                      2346908
                    ],
                    [
                      "Brownsville",
                      "Texas",
                      0.3167154822,
                      190572
                    ],
                    [
                      "Waco",
                      "Texas",
                      0.2844600009,
                      144943
                    ],
                    [
                      "College Station",
                      "Texas",
                      0.3018371782,
                      126838
                    ],
                    [
                      "Provo",
                      "Utah",
                      0.2110644155,
                      114276
                    ],
                    [
                      "Burlington",
                      "Vermont",
                      0.2629385888,
                      44666
                    ],
                    [
                      "Richmond",
                      "Virginia",
                      0.2233639381,
                      230383
                    ],
                    [
                      "Charlottesville",
                      "Virginia",
                      0.2403720764,
                      45047
                    ],
                    [
                      "Blacksburg",
                      "Virginia",
                      0.2878987451,
                      45663
                    ],
                    [
                      "Winchester",
                      "Virginia",
                      0.2499403762,
                      27754
                    ],
                    [
                      "Harrisonburg",
                      "Virginia",
                      0.243433374,
                      51378
                    ],
                    [
                      "Olympia",
                      "Washington",
                      0.2560564383,
                      55907
                    ],
                    [
                      "Bremerton",
                      "Washington",
                      0.2258162669,
                      44827
                    ],
                    [
                      "Bellingham",
                      "Washington",
                      0.296562469,
                      95026
                    ],
                    [
                      "Mount Vernon",
                      "Washington",
                      0.2730257334,
                      35294
                    ],
                    [
                      "Wenatchee",
                      "Washington",
                      0.285519921,
                      35328
                    ],
                    [
                      "Morgantown",
                      "West Virginia",
                      0.2789323262,
                      30315
                    ],
                    [
                      "Milwaukee",
                      "Wisconsin",
                      0.2100156488,
                      563052
                    ]
                  ],
                  "hovertemplate": "<b>%{customdata[0]}, %{customdata[1]}</b><br>Affordability: %{customdata[2]:.2f}<br>Population: %{customdata[3]:,}<br><extra></extra>",
                  "marker": {
                    "color": "rgba(31, 237, 108, 0.8)",
                    "size": 9
                  },
                  "mode": "markers",
                  "name": "Positive",
                  "opacity": 0.7,
                  "x": [
                    196818,
                    113016,
                    549932,
                    50156,
                    76819,
                    3847428,
                    321560,
                    1394555,
                    529792,
                    547260,
                    199764,
                    322581,
                    176440,
                    123292,
                    110641,
                    160548,
                    49110,
                    94190,
                    62857,
                    44160,
                    69116,
                    68399,
                    77542,
                    106634,
                    112647,
                    121332,
                    149810,
                    136144,
                    39908,
                    40049,
                    470677,
                    409742,
                    327390,
                    993468,
                    89452,
                    227022,
                    123046,
                    136084,
                    246695,
                    203665,
                    68829,
                    147524,
                    29453,
                    20441,
                    35969,
                    26953,
                    11621,
                    201108,
                    148333,
                    129026,
                    47149,
                    54989,
                    15431,
                    36331,
                    343531,
                    2699144,
                    23571,
                    80262,
                    77069,
                    365167,
                    220773,
                    178017,
                    46670,
                    22515,
                    69367,
                    567517,
                    43637,
                    664603,
                    209211,
                    154220,
                    638914,
                    79669,
                    11691,
                    15718,
                    143485,
                    73095,
                    48601,
                    57106,
                    58226,
                    115692,
                    90383,
                    38701,
                    89506,
                    8390888,
                    276376,
                    207235,
                    146067,
                    63676,
                    46765,
                    23816,
                    24196,
                    33630,
                    253332,
                    209873,
                    95235,
                    123599,
                    71126,
                    93793,
                    34505,
                    312703,
                    364276,
                    135936,
                    59195,
                    69230,
                    178686,
                    61627,
                    39325,
                    1563349,
                    125919,
                    50292,
                    45009,
                    95353,
                    9461,
                    41267,
                    26421,
                    192606,
                    39779,
                    39280,
                    614587,
                    197463,
                    32222,
                    1317163,
                    2346908,
                    190572,
                    144943,
                    126838,
                    114276,
                    44666,
                    230383,
                    45047,
                    45663,
                    27754,
                    51378,
                    55907,
                    44827,
                    95026,
                    35294,
                    35328,
                    30315,
                    563052
                  ],
                  "y": [
                    0.2278312076,
                    0.2857250772,
                    0.25665728,
                    0.3198163276,
                    0.3588439512,
                    0.3671763918,
                    0.3283894869,
                    0.3395727961,
                    0.2756229248,
                    0.3235736326,
                    0.318484372,
                    0.3194362629,
                    0.302835871,
                    0.2844633463,
                    0.4007922683,
                    0.3435701438,
                    0.3348625172,
                    0.3817176734,
                    0.3888062475,
                    0.2930216046,
                    0.2975406323,
                    0.3379844443,
                    0.329572817,
                    0.2798842186,
                    0.2327818375,
                    0.2276804877,
                    0.2799039374,
                    0.2736969555,
                    0.243343739,
                    0.2657265611,
                    0.4102786374,
                    0.3289131801,
                    0.3068044523,
                    0.2629202038,
                    0.3354170948,
                    0.3451115897,
                    0.3318786696,
                    0.289481242,
                    0.4008562734,
                    0.2630860969,
                    0.324658952,
                    0.3183111114,
                    0.2843289155,
                    0.3362281867,
                    0.3126967466,
                    0.3452410514,
                    0.3423595117,
                    0.2388066416,
                    0.2791774763,
                    0.2805753035,
                    0.2595182081,
                    0.2694082332,
                    0.2754054705,
                    0.3011740784,
                    0.3047282845,
                    0.2655652052,
                    0.2084589155,
                    0.2993625805,
                    0.2549507023,
                    0.3090488576,
                    0.2455086278,
                    0.2728371942,
                    0.2194667322,
                    0.2766562039,
                    0.2838996712,
                    0.2316566694,
                    0.2301449549,
                    0.3070416082,
                    0.2419433688,
                    0.295037869,
                    0.2317273657,
                    0.1957965402,
                    0.2872069817,
                    0.2965238351,
                    0.2760478333,
                    0.2545486523,
                    0.2652240293,
                    0.2879715732,
                    0.3101182689,
                    0.2327672583,
                    0.2965357238,
                    0.2572818207,
                    0.2948949757,
                    0.4125964659,
                    0.2185629851,
                    0.2205935737,
                    0.2337910662,
                    0.2557331596,
                    0.2750122947,
                    0.2657294896,
                    0.2539903883,
                    0.3549130777,
                    0.2735173339,
                    0.2764923182,
                    0.3104172667,
                    0.2708001246,
                    0.2525632159,
                    0.2838217045,
                    0.272727343,
                    0.2169957965,
                    0.2262562633,
                    0.2211808182,
                    0.2100853851,
                    0.188127096,
                    0.2885473416,
                    0.2803398329,
                    0.3062221994,
                    0.2432089352,
                    0.2499254294,
                    0.2117322191,
                    0.1826374976,
                    0.2075296329,
                    0.2954195234,
                    0.282600763,
                    0.1819227037,
                    0.2796118518,
                    0.292984952,
                    0.2663534615,
                    0.2627771003,
                    0.2819297425,
                    0.2933096542,
                    0.2380278258,
                    0.247132188,
                    0.3167154822,
                    0.2844600009,
                    0.3018371782,
                    0.2110644155,
                    0.2629385888,
                    0.2233639381,
                    0.2403720764,
                    0.2878987451,
                    0.2499403762,
                    0.243433374,
                    0.2560564383,
                    0.2258162669,
                    0.296562469,
                    0.2730257334,
                    0.285519921,
                    0.2789323262,
                    0.2100156488
                  ],
                  "type": "scatter"
                },
                {
                  "customdata": [
                    [
                      "Huntsville",
                      "Alabama",
                      0.1955756618,
                      226228
                    ],
                    [
                      "Mobile",
                      "Alabama",
                      0.2587133121,
                      201920
                    ],
                    [
                      "Montgomery",
                      "Alabama",
                      0.2378276256,
                      196107
                    ],
                    [
                      "Daphne",
                      "Alabama",
                      0.2675923535,
                      30391
                    ],
                    [
                      "Auburn",
                      "Alabama",
                      0.3245176327,
                      82447
                    ],
                    [
                      "Decatur",
                      "Alabama",
                      0.1943700495,
                      57776
                    ],
                    [
                      "Florence",
                      "Alabama",
                      0.1968572529,
                      42442
                    ],
                    [
                      "Dothan",
                      "Alabama",
                      0.2426074536,
                      71317
                    ],
                    [
                      "Anniston",
                      "Alabama",
                      0.213341745,
                      21182
                    ],
                    [
                      "Anchorage",
                      "Alaska",
                      0.2064164939,
                      287932
                    ],
                    [
                      "Fairbanks",
                      "Alaska",
                      0.2239117731,
                      32007
                    ],
                    [
                      "Phoenix",
                      "Arizona",
                      0.2508242241,
                      1656231
                    ],
                    [
                      "Lake Havasu City",
                      "Arizona",
                      0.314900202,
                      58802
                    ],
                    [
                      "Yuma",
                      "Arizona",
                      0.2578235427,
                      101635
                    ],
                    [
                      "Sierra Vista",
                      "Arizona",
                      0.2920729519,
                      44575
                    ],
                    [
                      "Little Rock",
                      "Arkansas",
                      0.2090205138,
                      204235
                    ],
                    [
                      "Fayetteville",
                      "Arkansas",
                      0.2259753461,
                      101511
                    ],
                    [
                      "Fort Smith",
                      "Arkansas",
                      0.2018204685,
                      89859
                    ],
                    [
                      "Jonesboro",
                      "Arkansas",
                      0.236965638,
                      80976
                    ],
                    [
                      "Hot Springs",
                      "Arkansas",
                      0.2548975967,
                      37906
                    ],
                    [
                      "San Francisco",
                      "California",
                      0.2767569818,
                      819151
                    ],
                    [
                      "San Jose",
                      "California",
                      0.2591314953,
                      983734
                    ],
                    [
                      "Bakersfield",
                      "California",
                      0.2953706167,
                      414626
                    ],
                    [
                      "Modesto",
                      "California",
                      0.2770151864,
                      219432
                    ],
                    [
                      "Visalia",
                      "California",
                      0.2709072214,
                      145111
                    ],
                    [
                      "Chico",
                      "California",
                      0.2811357899,
                      102146
                    ],
                    [
                      "Redding",
                      "California",
                      0.2294106092,
                      93013
                    ],
                    [
                      "Hanford",
                      "California",
                      0.3225327324,
                      60006
                    ],
                    [
                      "Denver",
                      "Colorado",
                      0.2299716953,
                      721367
                    ],
                    [
                      "Colorado Springs",
                      "Colorado",
                      0.2376694464,
                      491301
                    ],
                    [
                      "Fort Collins",
                      "Colorado",
                      0.2525293313,
                      170730
                    ],
                    [
                      "Pueblo",
                      "Colorado",
                      0.2426519523,
                      111295
                    ],
                    [
                      "Grand Junction",
                      "Colorado",
                      0.2772832043,
                      69448
                    ],
                    [
                      "Deltona",
                      "Florida",
                      0.3230655436,
                      99157
                    ],
                    [
                      "Pensacola",
                      "Florida",
                      0.2601319298,
                      53840
                    ],
                    [
                      "Naples",
                      "Florida",
                      0.3686043095,
                      19987
                    ],
                    [
                      "Atlanta",
                      "Georgia",
                      0.2540930563,
                      513184
                    ],
                    [
                      "Columbus",
                      "Georgia",
                      0.2654701993,
                      201959
                    ],
                    [
                      "Macon",
                      "Georgia",
                      0.2333411128,
                      156676
                    ],
                    [
                      "Warner Robins",
                      "Georgia",
                      0.2370126292,
                      84645
                    ],
                    [
                      "Albany",
                      "Georgia",
                      0.2396375827,
                      66871
                    ],
                    [
                      "Dalton",
                      "Georgia",
                      0.24708051,
                      34655
                    ],
                    [
                      "Rome",
                      "Georgia",
                      0.2286674223,
                      38411
                    ],
                    [
                      "Boise City",
                      "Idaho",
                      0.2489570278,
                      236433
                    ],
                    [
                      "Coeur d'Alene",
                      "Idaho",
                      0.2847994082,
                      56984
                    ],
                    [
                      "Idaho Falls",
                      "Idaho",
                      0.2110682885,
                      68072
                    ],
                    [
                      "Twin Falls",
                      "Idaho",
                      0.2587946601,
                      55114
                    ],
                    [
                      "Pocatello",
                      "Idaho",
                      0.1781617667,
                      58176
                    ],
                    [
                      "Peoria",
                      "Illinois",
                      0.1766161904,
                      111195
                    ],
                    [
                      "Rockford",
                      "Illinois",
                      0.1966801127,
                      146799
                    ],
                    [
                      "Champaign",
                      "Illinois",
                      0.2132898043,
                      90730
                    ],
                    [
                      "Springfield",
                      "Illinois",
                      0.1713571224,
                      113003
                    ],
                    [
                      "Bloomington",
                      "Illinois",
                      0.1888506763,
                      78952
                    ],
                    [
                      "Carbondale",
                      "Illinois",
                      0.1597581334,
                      22102
                    ],
                    [
                      "Decatur",
                      "Illinois",
                      0.1889577648,
                      68824
                    ],
                    [
                      "Danville",
                      "Illinois",
                      0.182248052,
                      28161
                    ],
                    [
                      "Indianapolis",
                      "Indiana",
                      0.215274294,
                      885839
                    ],
                    [
                      "Fort Wayne",
                      "Indiana",
                      0.1992908904,
                      270408
                    ],
                    [
                      "South Bend",
                      "Indiana",
                      0.2327063926,
                      103713
                    ],
                    [
                      "Evansville",
                      "Indiana",
                      0.1792618065,
                      115421
                    ],
                    [
                      "Lafayette",
                      "Indiana",
                      0.2507191954,
                      71926
                    ],
                    [
                      "Elkhart",
                      "Indiana",
                      0.1674434904,
                      53673
                    ],
                    [
                      "Terre Haute",
                      "Indiana",
                      0.2066209477,
                      58455
                    ],
                    [
                      "Muncie",
                      "Indiana",
                      0.1735868695,
                      65145
                    ],
                    [
                      "Michigan City",
                      "Indiana",
                      0.2192919531,
                      31630
                    ],
                    [
                      "Kokomo",
                      "Indiana",
                      0.1736929299,
                      59899
                    ],
                    [
                      "Columbus",
                      "Indiana",
                      0.1889330599,
                      51682
                    ],
                    [
                      "Des Moines",
                      "Iowa",
                      0.1791310987,
                      211088
                    ],
                    [
                      "Cedar Rapids",
                      "Iowa",
                      0.1612755932,
                      136637
                    ],
                    [
                      "Iowa City",
                      "Iowa",
                      0.2050345791,
                      76111
                    ],
                    [
                      "Waterloo",
                      "Iowa",
                      0.1661172996,
                      66856
                    ],
                    [
                      "Sioux City",
                      "Iowa",
                      0.1734236403,
                      86284
                    ],
                    [
                      "Ames",
                      "Iowa",
                      0.1604834556,
                      68428
                    ],
                    [
                      "Dubuque",
                      "Iowa",
                      0.1485309761,
                      58941
                    ],
                    [
                      "Wichita",
                      "Kansas",
                      0.187935107,
                      397656
                    ],
                    [
                      "Topeka",
                      "Kansas",
                      0.2052098265,
                      125354
                    ],
                    [
                      "Manhattan",
                      "Kansas",
                      0.2039139716,
                      54016
                    ],
                    [
                      "Lawrence",
                      "Kansas",
                      0.2076159975,
                      96708
                    ],
                    [
                      "Louisville",
                      "Kentucky",
                      0.2168985716,
                      632162
                    ],
                    [
                      "Lexington",
                      "Kentucky",
                      0.2295198786,
                      324624
                    ],
                    [
                      "Elizabethtown",
                      "Kentucky",
                      0.2279873347,
                      33061
                    ],
                    [
                      "Owensboro",
                      "Kentucky",
                      0.2052662902,
                      60394
                    ],
                    [
                      "Lafayette",
                      "Louisiana",
                      0.2683435727,
                      121767
                    ],
                    [
                      "Lake Charles",
                      "Louisiana",
                      0.1845178653,
                      79937
                    ],
                    [
                      "Houma",
                      "Louisiana",
                      0.250582142,
                      31797
                    ],
                    [
                      "Alexandria",
                      "Louisiana",
                      0.2082341869,
                      43551
                    ],
                    [
                      "Bangor",
                      "Maine",
                      0.2548150547,
                      32400
                    ],
                    [
                      "Lewiston",
                      "Maine",
                      0.2630975245,
                      38709
                    ],
                    [
                      "Cumberland",
                      "Maryland",
                      0.1681137873,
                      18730
                    ],
                    [
                      "Barnstable Town",
                      "Massachusetts",
                      0.3168894728,
                      49958
                    ],
                    [
                      "Pittsfield",
                      "Massachusetts",
                      0.2330324039,
                      43193
                    ],
                    [
                      "Grand Rapids",
                      "Michigan",
                      0.2274860799,
                      198270
                    ],
                    [
                      "Lansing",
                      "Michigan",
                      0.2173826138,
                      113224
                    ],
                    [
                      "Ann Arbor",
                      "Michigan",
                      0.2820668326,
                      122645
                    ],
                    [
                      "Kalamazoo",
                      "Michigan",
                      0.2096241192,
                      73384
                    ],
                    [
                      "Saginaw",
                      "Michigan",
                      0.1879915441,
                      43172
                    ],
                    [
                      "Muskegon",
                      "Michigan",
                      0.2143355912,
                      37168
                    ],
                    [
                      "Jackson",
                      "Michigan",
                      0.1703060975,
                      30930
                    ],
                    [
                      "Monroe",
                      "Michigan",
                      0.2029431199,
                      20189
                    ],
                    [
                      "Battle Creek",
                      "Michigan",
                      0.2131890582,
                      52264
                    ],
                    [
                      "Bay City",
                      "Michigan",
                      0.1982260968,
                      32179
                    ],
                    [
                      "Midland",
                      "Michigan",
                      0.2178819164,
                      42783
                    ],
                    [
                      "Minneapolis",
                      "Minnesota",
                      0.1999469733,
                      426569
                    ],
                    [
                      "Duluth",
                      "Minnesota",
                      0.2019158887,
                      87733
                    ],
                    [
                      "Rochester",
                      "Minnesota",
                      0.2151936982,
                      122658
                    ],
                    [
                      "St. Cloud",
                      "Minnesota",
                      0.2001506069,
                      71441
                    ],
                    [
                      "Grand Forks",
                      "Minnesota",
                      0.1634380119,
                      8941
                    ],
                    [
                      "Mankato",
                      "Minnesota",
                      0.1786015478,
                      46076
                    ],
                    [
                      "St. Louis",
                      "Missouri",
                      0.1986501912,
                      282772
                    ],
                    [
                      "Kansas City",
                      "Missouri",
                      0.207224097,
                      511300
                    ],
                    [
                      "Springfield",
                      "Missouri",
                      0.2180622002,
                      170446
                    ],
                    [
                      "Columbia",
                      "Missouri",
                      0.1973610057,
                      129780
                    ],
                    [
                      "Joplin",
                      "Missouri",
                      0.2266750143,
                      53131
                    ],
                    [
                      "Jefferson City",
                      "Missouri",
                      0.1351019423,
                      42573
                    ],
                    [
                      "St. Joseph",
                      "Missouri",
                      0.157323114,
                      70853
                    ],
                    [
                      "Cape Girardeau",
                      "Missouri",
                      0.1552864684,
                      40579
                    ],
                    [
                      "Billings",
                      "Montana",
                      0.2197846817,
                      120797
                    ],
                    [
                      "Missoula",
                      "Montana",
                      0.2347286763,
                      77647
                    ],
                    [
                      "Great Falls",
                      "Montana",
                      0.2106443256,
                      60243
                    ],
                    [
                      "Helena",
                      "Montana",
                      0.2266845633,
                      34369
                    ],
                    [
                      "Omaha",
                      "Nebraska",
                      0.193435559,
                      486780
                    ],
                    [
                      "Lincoln",
                      "Nebraska",
                      0.1973899786,
                      296810
                    ],
                    [
                      "Las Vegas",
                      "Nevada",
                      0.2761218873,
                      666630
                    ],
                    [
                      "Reno",
                      "Nevada",
                      0.2639860126,
                      276078
                    ],
                    [
                      "Vineland",
                      "New Jersey",
                      0.2892962945,
                      61212
                    ],
                    [
                      "Albuquerque",
                      "New Mexico",
                      0.2627439648,
                      561094
                    ],
                    [
                      "Las Cruces",
                      "New Mexico",
                      0.2846408741,
                      115489
                    ],
                    [
                      "Farmington",
                      "New Mexico",
                      0.2249609274,
                      46307
                    ],
                    [
                      "Albany",
                      "New York",
                      0.2137692766,
                      101297
                    ],
                    [
                      "Charlotte",
                      "North Carolina",
                      0.2560437117,
                      920053
                    ],
                    [
                      "Raleigh",
                      "North Carolina",
                      0.2148776445,
                      491078
                    ],
                    [
                      "Greensboro",
                      "North Carolina",
                      0.2571360589,
                      303889
                    ],
                    [
                      "Durham",
                      "North Carolina",
                      0.2366921329,
                      296382
                    ],
                    [
                      "Hickory",
                      "North Carolina",
                      0.2933713047,
                      44560
                    ],
                    [
                      "Burlington",
                      "North Carolina",
                      0.244097948,
                      60350
                    ],
                    [
                      "Rocky Mount",
                      "North Carolina",
                      0.2055332945,
                      54388
                    ],
                    [
                      "New Bern",
                      "North Carolina",
                      0.2632509643,
                      33789
                    ],
                    [
                      "Pinehurst",
                      "North Carolina",
                      0.2756797624,
                      18477
                    ],
                    [
                      "Fargo",
                      "North Dakota",
                      0.1750298864,
                      134360
                    ],
                    [
                      "Bismarck",
                      "North Dakota",
                      0.1831005864,
                      76389
                    ],
                    [
                      "Minot",
                      "North Dakota",
                      0.1627000794,
                      47420
                    ],
                    [
                      "Columbus",
                      "Ohio",
                      0.2226392146,
                      920569
                    ],
                    [
                      "Akron",
                      "Ohio",
                      0.2061164982,
                      189142
                    ],
                    [
                      "Toledo",
                      "Ohio",
                      0.2079974852,
                      265798
                    ],
                    [
                      "Springfield",
                      "Ohio",
                      0.1884606549,
                      58041
                    ],
                    [
                      "Mansfield",
                      "Ohio",
                      0.1683728789,
                      47676
                    ],
                    [
                      "Oklahoma City",
                      "Oklahoma",
                      0.2202565348,
                      704567
                    ],
                    [
                      "Tulsa",
                      "Oklahoma",
                      0.2361764912,
                      414035
                    ],
                    [
                      "Lawton",
                      "Oklahoma",
                      0.2096935205,
                      90451
                    ],
                    [
                      "Enid",
                      "Oklahoma",
                      0.1833586541,
                      50582
                    ],
                    [
                      "Portland",
                      "Oregon",
                      0.228822247,
                      634314
                    ],
                    [
                      "Salem",
                      "Oregon",
                      0.2546972638,
                      179519
                    ],
                    [
                      "Medford",
                      "Oregon",
                      0.2836772463,
                      85667
                    ],
                    [
                      "Bend",
                      "Oregon",
                      0.290399527,
                      104707
                    ],
                    [
                      "Albany",
                      "Oregon",
                      0.2618275217,
                      56974
                    ],
                    [
                      "Pittsburgh",
                      "Pennsylvania",
                      0.2249114209,
                      304766
                    ],
                    [
                      "Scranton",
                      "Pennsylvania",
                      0.2411001613,
                      75940
                    ],
                    [
                      "Lancaster",
                      "Pennsylvania",
                      0.2030837576,
                      57304
                    ],
                    [
                      "Erie",
                      "Pennsylvania",
                      0.1941706888,
                      93236
                    ],
                    [
                      "Chambersburg",
                      "Pennsylvania",
                      0.1769908151,
                      22315
                    ],
                    [
                      "Johnstown",
                      "Pennsylvania",
                      0.1723432966,
                      17959
                    ],
                    [
                      "Altoona",
                      "Pennsylvania",
                      0.1879429165,
                      42852
                    ],
                    [
                      "Williamsport",
                      "Pennsylvania",
                      0.1887239157,
                      27671
                    ],
                    [
                      "Gettysburg",
                      "Pennsylvania",
                      0.1810228701,
                      8607
                    ],
                    [
                      "Bloomsburg",
                      "Pennsylvania",
                      0.1988762326,
                      13271
                    ],
                    [
                      "Greenville",
                      "South Carolina",
                      0.2568654372,
                      73368
                    ],
                    [
                      "Columbia",
                      "South Carolina",
                      0.2588751067,
                      142173
                    ],
                    [
                      "Charleston",
                      "South Carolina",
                      0.2701571223,
                      156263
                    ],
                    [
                      "Hilton Head Island",
                      "South Carolina",
                      0.3078851004,
                      38163
                    ],
                    [
                      "Florence",
                      "South Carolina",
                      0.2993762431,
                      40675
                    ],
                    [
                      "Sumter",
                      "South Carolina",
                      0.2808199916,
                      42877
                    ],
                    [
                      "Sioux Falls",
                      "South Dakota",
                      0.1944863255,
                      205968
                    ],
                    [
                      "Rapid City",
                      "South Dakota",
                      0.2078228875,
                      79376
                    ],
                    [
                      "Nashville",
                      "Tennessee",
                      0.2564853368,
                      694294
                    ],
                    [
                      "Chattanooga",
                      "Tennessee",
                      0.2524456879,
                      188080
                    ],
                    [
                      "Clarksville",
                      "Tennessee",
                      0.2318587088,
                      181142
                    ],
                    [
                      "Kingsport",
                      "Tennessee",
                      0.2699287335,
                      56761
                    ],
                    [
                      "Johnson City",
                      "Tennessee",
                      0.2726815455,
                      73447
                    ],
                    [
                      "Jackson",
                      "Tennessee",
                      0.2458803455,
                      68391
                    ],
                    [
                      "Cleveland",
                      "Tennessee",
                      0.2705023189,
                      49328
                    ],
                    [
                      "San Antonio",
                      "Texas",
                      0.245261173,
                      1502711
                    ],
                    [
                      "Austin",
                      "Texas",
                      0.2155354347,
                      989583
                    ],
                    [
                      "McAllen",
                      "Texas",
                      0.2525582063,
                      147264
                    ],
                    [
                      "El Paso",
                      "Texas",
                      0.2964601558,
                      681573
                    ],
                    [
                      "Killeen",
                      "Texas",
                      0.2254522789,
                      159953
                    ],
                    [
                      "Corpus Christi",
                      "Texas",
                      0.2607159385,
                      316978
                    ],
                    [
                      "Beaumont",
                      "Texas",
                      0.219394163,
                      112616
                    ],
                    [
                      "Lubbock",
                      "Texas",
                      0.2744009503,
                      268053
                    ],
                    [
                      "Longview",
                      "Texas",
                      0.2111108284,
                      83521
                    ],
                    [
                      "Amarillo",
                      "Texas",
                      0.2214227466,
                      202734
                    ],
                    [
                      "Laredo",
                      "Texas",
                      0.2401080308,
                      258922
                    ],
                    [
                      "Tyler",
                      "Texas",
                      0.2309462389,
                      110731
                    ],
                    [
                      "Abilene",
                      "Texas",
                      0.2598704396,
                      129443
                    ],
                    [
                      "Midland",
                      "Texas",
                      0.205949667,
                      139488
                    ],
                    [
                      "Odessa",
                      "Texas",
                      0.2662565924,
                      116402
                    ],
                    [
                      "Wichita Falls",
                      "Texas",
                      0.2292038864,
                      102633
                    ],
                    [
                      "Texarkana",
                      "Texas",
                      0.2382596093,
                      35757
                    ],
                    [
                      "Sherman",
                      "Texas",
                      0.2594223765,
                      47452
                    ],
                    [
                      "San Angelo",
                      "Texas",
                      0.2720649311,
                      99513
                    ],
                    [
                      "Victoria",
                      "Texas",
                      0.202202654,
                      65920
                    ],
                    [
                      "Salt Lake City",
                      "Utah",
                      0.2096731431,
                      211833
                    ],
                    [
                      "Ogden",
                      "Utah",
                      0.1948115705,
                      87525
                    ],
                    [
                      "St. George",
                      "Utah",
                      0.2741497495,
                      104732
                    ],
                    [
                      "Logan",
                      "Utah",
                      0.1966491029,
                      55588
                    ],
                    [
                      "Virginia Beach",
                      "Virginia",
                      0.2523994576,
                      453779
                    ],
                    [
                      "Roanoke",
                      "Virginia",
                      0.2366788138,
                      97503
                    ],
                    [
                      "Lynchburg",
                      "Virginia",
                      0.2238131425,
                      79775
                    ],
                    [
                      "Staunton",
                      "Virginia",
                      0.254973163,
                      25936
                    ],
                    [
                      "Seattle",
                      "Washington",
                      0.2312879853,
                      764182
                    ],
                    [
                      "Spokane",
                      "Washington",
                      0.2384736575,
                      230193
                    ],
                    [
                      "Kennewick",
                      "Washington",
                      0.2488047551,
                      85915
                    ],
                    [
                      "Yakima",
                      "Washington",
                      0.2299004437,
                      96904
                    ],
                    [
                      "Longview",
                      "Washington",
                      0.2159354135,
                      38172
                    ],
                    [
                      "Walla Walla",
                      "Washington",
                      0.2256185731,
                      33749
                    ],
                    [
                      "Charleston",
                      "West Virginia",
                      0.2132059691,
                      46787
                    ],
                    [
                      "Parkersburg",
                      "West Virginia",
                      0.176590173,
                      28991
                    ],
                    [
                      "Madison",
                      "Wisconsin",
                      0.216902129,
                      281162
                    ],
                    [
                      "Green Bay",
                      "Wisconsin",
                      0.1588196506,
                      106210
                    ],
                    [
                      "Appleton",
                      "Wisconsin",
                      0.1549338191,
                      75102
                    ],
                    [
                      "Racine",
                      "Wisconsin",
                      0.2028166211,
                      77379
                    ],
                    [
                      "Oshkosh",
                      "Wisconsin",
                      0.1814057461,
                      66866
                    ],
                    [
                      "Eau Claire",
                      "Wisconsin",
                      0.158169132,
                      71469
                    ],
                    [
                      "Wausau",
                      "Wisconsin",
                      0.1429978894,
                      40148
                    ],
                    [
                      "Janesville",
                      "Wisconsin",
                      0.1732350521,
                      66130
                    ],
                    [
                      "La Crosse",
                      "Wisconsin",
                      0.1772103504,
                      51283
                    ],
                    [
                      "Sheboygan",
                      "Wisconsin",
                      0.17305975,
                      49614
                    ],
                    [
                      "Fond du Lac",
                      "Wisconsin",
                      0.1571134876,
                      44381
                    ],
                    [
                      "Cheyenne",
                      "Wyoming",
                      0.1950650687,
                      65287
                    ],
                    [
                      "Casper",
                      "Wyoming",
                      0.214590089,
                      58748
                    ]
                  ],
                  "hovertemplate": "<b>%{customdata[0]}, %{customdata[1]}</b><br>Affordability: %{customdata[2]:.2f}<br>Population: %{customdata[3]:,}<br><extra></extra>",
                  "marker": {
                    "color": "rgba(245, 73, 197, 0.8)",
                    "size": 9
                  },
                  "mode": "markers",
                  "name": "Negative",
                  "opacity": 0.7,
                  "x": [
                    226228,
                    201920,
                    196107,
                    30391,
                    82447,
                    57776,
                    42442,
                    71317,
                    21182,
                    287932,
                    32007,
                    1656231,
                    58802,
                    101635,
                    44575,
                    204235,
                    101511,
                    89859,
                    80976,
                    37906,
                    819151,
                    983734,
                    414626,
                    219432,
                    145111,
                    102146,
                    93013,
                    60006,
                    721367,
                    491301,
                    170730,
                    111295,
                    69448,
                    99157,
                    53840,
                    19987,
                    513184,
                    201959,
                    156676,
                    84645,
                    66871,
                    34655,
                    38411,
                    236433,
                    56984,
                    68072,
                    55114,
                    58176,
                    111195,
                    146799,
                    90730,
                    113003,
                    78952,
                    22102,
                    68824,
                    28161,
                    885839,
                    270408,
                    103713,
                    115421,
                    71926,
                    53673,
                    58455,
                    65145,
                    31630,
                    59899,
                    51682,
                    211088,
                    136637,
                    76111,
                    66856,
                    86284,
                    68428,
                    58941,
                    397656,
                    125354,
                    54016,
                    96708,
                    632162,
                    324624,
                    33061,
                    60394,
                    121767,
                    79937,
                    31797,
                    43551,
                    32400,
                    38709,
                    18730,
                    49958,
                    43193,
                    198270,
                    113224,
                    122645,
                    73384,
                    43172,
                    37168,
                    30930,
                    20189,
                    52264,
                    32179,
                    42783,
                    426569,
                    87733,
                    122658,
                    71441,
                    8941,
                    46076,
                    282772,
                    511300,
                    170446,
                    129780,
                    53131,
                    42573,
                    70853,
                    40579,
                    120797,
                    77647,
                    60243,
                    34369,
                    486780,
                    296810,
                    666630,
                    276078,
                    61212,
                    561094,
                    115489,
                    46307,
                    101297,
                    920053,
                    491078,
                    303889,
                    296382,
                    44560,
                    60350,
                    54388,
                    33789,
                    18477,
                    134360,
                    76389,
                    47420,
                    920569,
                    189142,
                    265798,
                    58041,
                    47676,
                    704567,
                    414035,
                    90451,
                    50582,
                    634314,
                    179519,
                    85667,
                    104707,
                    56974,
                    304766,
                    75940,
                    57304,
                    93236,
                    22315,
                    17959,
                    42852,
                    27671,
                    8607,
                    13271,
                    73368,
                    142173,
                    156263,
                    38163,
                    40675,
                    42877,
                    205968,
                    79376,
                    694294,
                    188080,
                    181142,
                    56761,
                    73447,
                    68391,
                    49328,
                    1502711,
                    989583,
                    147264,
                    681573,
                    159953,
                    316978,
                    112616,
                    268053,
                    83521,
                    202734,
                    258922,
                    110731,
                    129443,
                    139488,
                    116402,
                    102633,
                    35757,
                    47452,
                    99513,
                    65920,
                    211833,
                    87525,
                    104732,
                    55588,
                    453779,
                    97503,
                    79775,
                    25936,
                    764182,
                    230193,
                    85915,
                    96904,
                    38172,
                    33749,
                    46787,
                    28991,
                    281162,
                    106210,
                    75102,
                    77379,
                    66866,
                    71469,
                    40148,
                    66130,
                    51283,
                    49614,
                    44381,
                    65287,
                    58748
                  ],
                  "y": [
                    0.1955756618,
                    0.2587133121,
                    0.2378276256,
                    0.2675923535,
                    0.3245176327,
                    0.1943700495,
                    0.1968572529,
                    0.2426074536,
                    0.213341745,
                    0.2064164939,
                    0.2239117731,
                    0.2508242241,
                    0.314900202,
                    0.2578235427,
                    0.2920729519,
                    0.2090205138,
                    0.2259753461,
                    0.2018204685,
                    0.236965638,
                    0.2548975967,
                    0.2767569818,
                    0.2591314953,
                    0.2953706167,
                    0.2770151864,
                    0.2709072214,
                    0.2811357899,
                    0.2294106092,
                    0.3225327324,
                    0.2299716953,
                    0.2376694464,
                    0.2525293313,
                    0.2426519523,
                    0.2772832043,
                    0.3230655436,
                    0.2601319298,
                    0.3686043095,
                    0.2540930563,
                    0.2654701993,
                    0.2333411128,
                    0.2370126292,
                    0.2396375827,
                    0.24708051,
                    0.2286674223,
                    0.2489570278,
                    0.2847994082,
                    0.2110682885,
                    0.2587946601,
                    0.1781617667,
                    0.1766161904,
                    0.1966801127,
                    0.2132898043,
                    0.1713571224,
                    0.1888506763,
                    0.1597581334,
                    0.1889577648,
                    0.182248052,
                    0.215274294,
                    0.1992908904,
                    0.2327063926,
                    0.1792618065,
                    0.2507191954,
                    0.1674434904,
                    0.2066209477,
                    0.1735868695,
                    0.2192919531,
                    0.1736929299,
                    0.1889330599,
                    0.1791310987,
                    0.1612755932,
                    0.2050345791,
                    0.1661172996,
                    0.1734236403,
                    0.1604834556,
                    0.1485309761,
                    0.187935107,
                    0.2052098265,
                    0.2039139716,
                    0.2076159975,
                    0.2168985716,
                    0.2295198786,
                    0.2279873347,
                    0.2052662902,
                    0.2683435727,
                    0.1845178653,
                    0.250582142,
                    0.2082341869,
                    0.2548150547,
                    0.2630975245,
                    0.1681137873,
                    0.3168894728,
                    0.2330324039,
                    0.2274860799,
                    0.2173826138,
                    0.2820668326,
                    0.2096241192,
                    0.1879915441,
                    0.2143355912,
                    0.1703060975,
                    0.2029431199,
                    0.2131890582,
                    0.1982260968,
                    0.2178819164,
                    0.1999469733,
                    0.2019158887,
                    0.2151936982,
                    0.2001506069,
                    0.1634380119,
                    0.1786015478,
                    0.1986501912,
                    0.207224097,
                    0.2180622002,
                    0.1973610057,
                    0.2266750143,
                    0.1351019423,
                    0.157323114,
                    0.1552864684,
                    0.2197846817,
                    0.2347286763,
                    0.2106443256,
                    0.2266845633,
                    0.193435559,
                    0.1973899786,
                    0.2761218873,
                    0.2639860126,
                    0.2892962945,
                    0.2627439648,
                    0.2846408741,
                    0.2249609274,
                    0.2137692766,
                    0.2560437117,
                    0.2148776445,
                    0.2571360589,
                    0.2366921329,
                    0.2933713047,
                    0.244097948,
                    0.2055332945,
                    0.2632509643,
                    0.2756797624,
                    0.1750298864,
                    0.1831005864,
                    0.1627000794,
                    0.2226392146,
                    0.2061164982,
                    0.2079974852,
                    0.1884606549,
                    0.1683728789,
                    0.2202565348,
                    0.2361764912,
                    0.2096935205,
                    0.1833586541,
                    0.228822247,
                    0.2546972638,
                    0.2836772463,
                    0.290399527,
                    0.2618275217,
                    0.2249114209,
                    0.2411001613,
                    0.2030837576,
                    0.1941706888,
                    0.1769908151,
                    0.1723432966,
                    0.1879429165,
                    0.1887239157,
                    0.1810228701,
                    0.1988762326,
                    0.2568654372,
                    0.2588751067,
                    0.2701571223,
                    0.3078851004,
                    0.2993762431,
                    0.2808199916,
                    0.1944863255,
                    0.2078228875,
                    0.2564853368,
                    0.2524456879,
                    0.2318587088,
                    0.2699287335,
                    0.2726815455,
                    0.2458803455,
                    0.2705023189,
                    0.245261173,
                    0.2155354347,
                    0.2525582063,
                    0.2964601558,
                    0.2254522789,
                    0.2607159385,
                    0.219394163,
                    0.2744009503,
                    0.2111108284,
                    0.2214227466,
                    0.2401080308,
                    0.2309462389,
                    0.2598704396,
                    0.205949667,
                    0.2662565924,
                    0.2292038864,
                    0.2382596093,
                    0.2594223765,
                    0.2720649311,
                    0.202202654,
                    0.2096731431,
                    0.1948115705,
                    0.2741497495,
                    0.1966491029,
                    0.2523994576,
                    0.2366788138,
                    0.2238131425,
                    0.254973163,
                    0.2312879853,
                    0.2384736575,
                    0.2488047551,
                    0.2299004437,
                    0.2159354135,
                    0.2256185731,
                    0.2132059691,
                    0.176590173,
                    0.216902129,
                    0.1588196506,
                    0.1549338191,
                    0.2028166211,
                    0.1814057461,
                    0.158169132,
                    0.1429978894,
                    0.1732350521,
                    0.1772103504,
                    0.17305975,
                    0.1571134876,
                    0.1950650687,
                    0.214590089
                  ],
                  "type": "scatter"
                }
              ],
              "layout": {
                "legend": {
                  "title": {
                    "text": "Income Difference"
                  }
                },
                "template": {
                  "data": {
                    "barpolar": [
                      {
                        "marker": {
                          "line": {
                            "color": "#E5ECF6",
                            "width": 0.5
                          },
                          "pattern": {
                            "fillmode": "overlay",
                            "size": 10,
                            "solidity": 0.2
                          }
                        },
                        "type": "barpolar"
                      }
                    ],
                    "bar": [
                      {
                        "error_x": {
                          "color": "#2a3f5f"
                        },
                        "error_y": {
                          "color": "#2a3f5f"
                        },
                        "marker": {
                          "line": {
                            "color": "#E5ECF6",
                            "width": 0.5
                          },
                          "pattern": {
                            "fillmode": "overlay",
                            "size": 10,
                            "solidity": 0.2
                          }
                        },
                        "type": "bar"
                      }
                    ],
                    "carpet": [
                      {
                        "aaxis": {
                          "endlinecolor": "#2a3f5f",
                          "gridcolor": "white",
                          "linecolor": "white",
                          "minorgridcolor": "white",
                          "startlinecolor": "#2a3f5f"
                        },
                        "baxis": {
                          "endlinecolor": "#2a3f5f",
                          "gridcolor": "white",
                          "linecolor": "white",
                          "minorgridcolor": "white",
                          "startlinecolor": "#2a3f5f"
                        },
                        "type": "carpet"
                      }
                    ],
                    "choropleth": [
                      {
                        "colorbar": {
                          "outlinewidth": 0,
                          "ticks": ""
                        },
                        "type": "choropleth"
                      }
                    ],
                    "contourcarpet": [
                      {
                        "colorbar": {
                          "outlinewidth": 0,
                          "ticks": ""
                        },
                        "type": "contourcarpet"
                      }
                    ],
                    "contour": [
                      {
                        "colorbar": {
                          "outlinewidth": 0,
                          "ticks": ""
                        },
                        "colorscale": [
                          [
                            0,
                            "#0d0887"
                          ],
                          [
                            0.1111111111111111,
                            "#46039f"
                          ],
                          [
                            0.2222222222222222,
                            "#7201a8"
                          ],
                          [
                            0.3333333333333333,
                            "#9c179e"
                          ],
                          [
                            0.4444444444444444,
                            "#bd3786"
                          ],
                          [
                            0.5555555555555556,
                            "#d8576b"
                          ],
                          [
                            0.6666666666666666,
                            "#ed7953"
                          ],
                          [
                            0.7777777777777778,
                            "#fb9f3a"
                          ],
                          [
                            0.8888888888888888,
                            "#fdca26"
                          ],
                          [
                            1,
                            "#f0f921"
                          ]
                        ],
                        "type": "contour"
                      }
                    ],
                    "heatmapgl": [
                      {
                        "colorbar": {
                          "outlinewidth": 0,
                          "ticks": ""
                        },
                        "colorscale": [
                          [
                            0,
                            "#0d0887"
                          ],
                          [
                            0.1111111111111111,
                            "#46039f"
                          ],
                          [
                            0.2222222222222222,
                            "#7201a8"
                          ],
                          [
                            0.3333333333333333,
                            "#9c179e"
                          ],
                          [
                            0.4444444444444444,
                            "#bd3786"
                          ],
                          [
                            0.5555555555555556,
                            "#d8576b"
                          ],
                          [
                            0.6666666666666666,
                            "#ed7953"
                          ],
                          [
                            0.7777777777777778,
                            "#fb9f3a"
                          ],
                          [
                            0.8888888888888888,
                            "#fdca26"
                          ],
                          [
                            1,
                            "#f0f921"
                          ]
                        ],
                        "type": "heatmapgl"
                      }
                    ],
                    "heatmap": [
                      {
                        "colorbar": {
                          "outlinewidth": 0,
                          "ticks": ""
                        },
                        "colorscale": [
                          [
                            0,
                            "#0d0887"
                          ],
                          [
                            0.1111111111111111,
                            "#46039f"
                          ],
                          [
                            0.2222222222222222,
                            "#7201a8"
                          ],
                          [
                            0.3333333333333333,
                            "#9c179e"
                          ],
                          [
                            0.4444444444444444,
                            "#bd3786"
                          ],
                          [
                            0.5555555555555556,
                            "#d8576b"
                          ],
                          [
                            0.6666666666666666,
                            "#ed7953"
                          ],
                          [
                            0.7777777777777778,
                            "#fb9f3a"
                          ],
                          [
                            0.8888888888888888,
                            "#fdca26"
                          ],
                          [
                            1,
                            "#f0f921"
                          ]
                        ],
                        "type": "heatmap"
                      }
                    ],
                    "histogram2dcontour": [
                      {
                        "colorbar": {
                          "outlinewidth": 0,
                          "ticks": ""
                        },
                        "colorscale": [
                          [
                            0,
                            "#0d0887"
                          ],
                          [
                            0.1111111111111111,
                            "#46039f"
                          ],
                          [
                            0.2222222222222222,
                            "#7201a8"
                          ],
                          [
                            0.3333333333333333,
                            "#9c179e"
                          ],
                          [
                            0.4444444444444444,
                            "#bd3786"
                          ],
                          [
                            0.5555555555555556,
                            "#d8576b"
                          ],
                          [
                            0.6666666666666666,
                            "#ed7953"
                          ],
                          [
                            0.7777777777777778,
                            "#fb9f3a"
                          ],
                          [
                            0.8888888888888888,
                            "#fdca26"
                          ],
                          [
                            1,
                            "#f0f921"
                          ]
                        ],
                        "type": "histogram2dcontour"
                      }
                    ],
                    "histogram2d": [
                      {
                        "colorbar": {
                          "outlinewidth": 0,
                          "ticks": ""
                        },
                        "colorscale": [
                          [
                            0,
                            "#0d0887"
                          ],
                          [
                            0.1111111111111111,
                            "#46039f"
                          ],
                          [
                            0.2222222222222222,
                            "#7201a8"
                          ],
                          [
                            0.3333333333333333,
                            "#9c179e"
                          ],
                          [
                            0.4444444444444444,
                            "#bd3786"
                          ],
                          [
                            0.5555555555555556,
                            "#d8576b"
                          ],
                          [
                            0.6666666666666666,
                            "#ed7953"
                          ],
                          [
                            0.7777777777777778,
                            "#fb9f3a"
                          ],
                          [
                            0.8888888888888888,
                            "#fdca26"
                          ],
                          [
                            1,
                            "#f0f921"
                          ]
                        ],
                        "type": "histogram2d"
                      }
                    ],
                    "histogram": [
                      {
                        "marker": {
                          "pattern": {
                            "fillmode": "overlay",
                            "size": 10,
                            "solidity": 0.2
                          }
                        },
                        "type": "histogram"
                      }
                    ],
                    "mesh3d": [
                      {
                        "colorbar": {
                          "outlinewidth": 0,
                          "ticks": ""
                        },
                        "type": "mesh3d"
                      }
                    ],
                    "parcoords": [
                      {
                        "line": {
                          "colorbar": {
                            "outlinewidth": 0,
                            "ticks": ""
                          }
                        },
                        "type": "parcoords"
                      }
                    ],
                    "pie": [
                      {
                        "automargin": true,
                        "type": "pie"
                      }
                    ],
                    "scatter3d": [
                      {
                        "line": {
                          "colorbar": {
                            "outlinewidth": 0,
                            "ticks": ""
                          }
                        },
                        "marker": {
                          "colorbar": {
                            "outlinewidth": 0,
                            "ticks": ""
                          }
                        },
                        "type": "scatter3d"
                      }
                    ],
                    "scattercarpet": [
                      {
                        "marker": {
                          "colorbar": {
                            "outlinewidth": 0,
                            "ticks": ""
                          }
                        },
                        "type": "scattercarpet"
                      }
                    ],
                    "scattergeo": [
                      {
                        "marker": {
                          "colorbar": {
                            "outlinewidth": 0,
                            "ticks": ""
                          }
                        },
                        "type": "scattergeo"
                      }
                    ],
                    "scattergl": [
                      {
                        "marker": {
                          "colorbar": {
                            "outlinewidth": 0,
                            "ticks": ""
                          }
                        },
                        "type": "scattergl"
                      }
                    ],
                    "scattermapbox": [
                      {
                        "marker": {
                          "colorbar": {
                            "outlinewidth": 0,
                            "ticks": ""
                          }
                        },
                        "type": "scattermapbox"
                      }
                    ],
                    "scatterpolargl": [
                      {
                        "marker": {
                          "colorbar": {
                            "outlinewidth": 0,
                            "ticks": ""
                          }
                        },
                        "type": "scatterpolargl"
                      }
                    ],
                    "scatterpolar": [
                      {
                        "marker": {
                          "colorbar": {
                            "outlinewidth": 0,
                            "ticks": ""
                          }
                        },
                        "type": "scatterpolar"
                      }
                    ],
                    "scatter": [
                      {
                        "fillpattern": {
                          "fillmode": "overlay",
                          "size": 10,
                          "solidity": 0.2
                        },
                        "type": "scatter"
                      }
                    ],
                    "scatterternary": [
                      {
                        "marker": {
                          "colorbar": {
                            "outlinewidth": 0,
                            "ticks": ""
                          }
                        },
                        "type": "scatterternary"
                      }
                    ],
                    "surface": [
                      {
                        "colorbar": {
                          "outlinewidth": 0,
                          "ticks": ""
                        },
                        "colorscale": [
                          [
                            0,
                            "#0d0887"
                          ],
                          [
                            0.1111111111111111,
                            "#46039f"
                          ],
                          [
                            0.2222222222222222,
                            "#7201a8"
                          ],
                          [
                            0.3333333333333333,
                            "#9c179e"
                          ],
                          [
                            0.4444444444444444,
                            "#bd3786"
                          ],
                          [
                            0.5555555555555556,
                            "#d8576b"
                          ],
                          [
                            0.6666666666666666,
                            "#ed7953"
                          ],
                          [
                            0.7777777777777778,
                            "#fb9f3a"
                          ],
                          [
                            0.8888888888888888,
                            "#fdca26"
                          ],
                          [
                            1,
                            "#f0f921"
                          ]
                        ],
                        "type": "surface"
                      }
                    ],
                    "table": [
                      {
                        "cells": {
                          "fill": {
                            "color": "#EBF0F8"
                          },
                          "line": {
                            "color": "white"
                          }
                        },
                        "header": {
                          "fill": {
                            "color": "#C8D4E3"
                          },
                          "line": {
                            "color": "white"
                          }
                        },
                        "type": "table"
                      }
                    ]
                  },
                  "layout": {
                    "annotationdefaults": {
                      "arrowcolor": "#2a3f5f",
                      "arrowhead": 0,
                      "arrowwidth": 1
                    },
                    "autotypenumbers": "strict",
                    "coloraxis": {
                      "colorbar": {
                        "outlinewidth": 0,
                        "ticks": ""
                      }
                    },
                    "colorscale": {
                      "diverging": [
                        [
                          0,
                          "#8e0152"
                        ],
                        [
                          0.1,
                          "#c51b7d"
                        ],
                        [
                          0.2,
                          "#de77ae"
                        ],
                        [
                          0.3,
                          "#f1b6da"
                        ],
                        [
                          0.4,
                          "#fde0ef"
                        ],
                        [
                          0.5,
                          "#f7f7f7"
                        ],
                        [
                          0.6,
                          "#e6f5d0"
                        ],
                        [
                          0.7,
                          "#b8e186"
                        ],
                        [
                          0.8,
                          "#7fbc41"
                        ],
                        [
                          0.9,
                          "#4d9221"
                        ],
                        [
                          1,
                          "#276419"
                        ]
                      ],
                      "sequential": [
                        [
                          0,
                          "#0d0887"
                        ],
                        [
                          0.1111111111111111,
                          "#46039f"
                        ],
                        [
                          0.2222222222222222,
                          "#7201a8"
                        ],
                        [
                          0.3333333333333333,
                          "#9c179e"
                        ],
                        [
                          0.4444444444444444,
                          "#bd3786"
                        ],
                        [
                          0.5555555555555556,
                          "#d8576b"
                        ],
                        [
                          0.6666666666666666,
                          "#ed7953"
                        ],
                        [
                          0.7777777777777778,
                          "#fb9f3a"
                        ],
                        [
                          0.8888888888888888,
                          "#fdca26"
                        ],
                        [
                          1,
                          "#f0f921"
                        ]
                      ],
                      "sequentialminus": [
                        [
                          0,
                          "#0d0887"
                        ],
                        [
                          0.1111111111111111,
                          "#46039f"
                        ],
                        [
                          0.2222222222222222,
                          "#7201a8"
                        ],
                        [
                          0.3333333333333333,
                          "#9c179e"
                        ],
                        [
                          0.4444444444444444,
                          "#bd3786"
                        ],
                        [
                          0.5555555555555556,
                          "#d8576b"
                        ],
                        [
                          0.6666666666666666,
                          "#ed7953"
                        ],
                        [
                          0.7777777777777778,
                          "#fb9f3a"
                        ],
                        [
                          0.8888888888888888,
                          "#fdca26"
                        ],
                        [
                          1,
                          "#f0f921"
                        ]
                      ]
                    },
                    "colorway": [
                      "#636efa",
                      "#EF553B",
                      "#00cc96",
                      "#ab63fa",
                      "#FFA15A",
                      "#19d3f3",
                      "#FF6692",
                      "#B6E880",
                      "#FF97FF",
                      "#FECB52"
                    ],
                    "font": {
                      "color": "#2a3f5f"
                    },
                    "geo": {
                      "bgcolor": "white",
                      "lakecolor": "white",
                      "landcolor": "#E5ECF6",
                      "showlakes": true,
                      "showland": true,
                      "subunitcolor": "white"
                    },
                    "hoverlabel": {
                      "align": "left"
                    },
                    "hovermode": "closest",
                    "mapbox": {
                      "style": "light"
                    },
                    "paper_bgcolor": "white",
                    "plot_bgcolor": "#E5ECF6",
                    "polar": {
                      "angularaxis": {
                        "gridcolor": "white",
                        "linecolor": "white",
                        "ticks": ""
                      },
                      "bgcolor": "#E5ECF6",
                      "radialaxis": {
                        "gridcolor": "white",
                        "linecolor": "white",
                        "ticks": ""
                      }
                    },
                    "scene": {
                      "xaxis": {
                        "backgroundcolor": "#E5ECF6",
                        "gridcolor": "white",
                        "gridwidth": 2,
                        "linecolor": "white",
                        "showbackground": true,
                        "ticks": "",
                        "zerolinecolor": "white"
                      },
                      "yaxis": {
                        "backgroundcolor": "#E5ECF6",
                        "gridcolor": "white",
                        "gridwidth": 2,
                        "linecolor": "white",
                        "showbackground": true,
                        "ticks": "",
                        "zerolinecolor": "white"
                      },
                      "zaxis": {
                        "backgroundcolor": "#E5ECF6",
                        "gridcolor": "white",
                        "gridwidth": 2,
                        "linecolor": "white",
                        "showbackground": true,
                        "ticks": "",
                        "zerolinecolor": "white"
                      }
                    },
                    "shapedefaults": {
                      "line": {
                        "color": "#2a3f5f"
                      }
                    },
                    "ternary": {
                      "aaxis": {
                        "gridcolor": "white",
                        "linecolor": "white",
                        "ticks": ""
                      },
                      "baxis": {
                        "gridcolor": "white",
                        "linecolor": "white",
                        "ticks": ""
                      },
                      "bgcolor": "#E5ECF6",
                      "caxis": {
                        "gridcolor": "white",
                        "linecolor": "white",
                        "ticks": ""
                      }
                    },
                    "title": {
                      "x": 0.05
                    },
                    "xaxis": {
                      "automargin": true,
                      "gridcolor": "white",
                      "linecolor": "white",
                      "ticks": "",
                      "title": {
                        "standoff": 15
                      },
                      "zerolinecolor": "white",
                      "zerolinewidth": 2
                    },
                    "yaxis": {
                      "automargin": true,
                      "gridcolor": "white",
                      "linecolor": "white",
                      "ticks": "",
                      "title": {
                        "standoff": 15
                      },
                      "zerolinecolor": "white",
                      "zerolinewidth": 2
                    }
                  }
                },
                "title": {
                  "text": "Affordability vs Population (by Income Difference Sign)"
                },
                "xaxis": {
                  "ticklen": 10,
                  "title": {
                    "text": "Population (log)"
                  },
                  "type": "log",
                  "zeroline": false
                },
                "yaxis": {
                  "ticklen": 5,
                  "title": {
                    "text": "Average Affordability"
                  },
                  "zeroline": false
                }
              },
              "config": {
                "showLink": false,
                "linkText": "Export to plot.ly",
                "plotlyServerURL": "https://plot.ly"
              }
            },
            "text/html": [
              "<div>                            <div id=\"116da959-ed01-4090-99fe-2c8f87fe71f8\" class=\"plotly-graph-div\" style=\"height:525px; width:100%;\"></div>            <script type=\"text/javascript\">                require([\"plotly\"], function(Plotly) {                    window.PLOTLYENV=window.PLOTLYENV || {};                                    if (document.getElementById(\"116da959-ed01-4090-99fe-2c8f87fe71f8\")) {                    Plotly.newPlot(                        \"116da959-ed01-4090-99fe-2c8f87fe71f8\",                        [{\"customdata\":[[\"Birmingham\",\"Alabama\",0.2278312076,196818.0],[\"Tuscaloosa\",\"Alabama\",0.2857250772,113016.0],[\"Tucson\",\"Arizona\",0.25665728,549932.0],[\"Prescott Valley\",\"Arizona\",0.3198163276,50156.0],[\"Flagstaff\",\"Arizona\",0.3588439512,76819.0],[\"Los Angeles\",\"California\",0.3671763918,3847428.0],[\"Riverside\",\"California\",0.3283894869,321560.0],[\"San Diego\",\"California\",0.3395727961,1394555.0],[\"Sacramento\",\"California\",0.2756229248,529792.0],[\"Fresno\",\"California\",0.3235736326,547260.0],[\"Oxnard\",\"California\",0.318484372,199764.0],[\"Stockton\",\"California\",0.3194362629,322581.0],[\"Santa Rosa\",\"California\",0.302835871,176440.0],[\"Vallejo\",\"California\",0.2844633463,123292.0],[\"Santa Maria\",\"California\",0.4007922683,110641.0],[\"Salinas\",\"California\",0.3435701438,160548.0],[\"San Luis Obispo\",\"California\",0.3348625172,49110.0],[\"Merced\",\"California\",0.3817176734,94190.0],[\"Santa Cruz\",\"California\",0.3888062475,62857.0],[\"El Centro\",\"California\",0.2930216046,44160.0],[\"Yuba City\",\"California\",0.2975406323,69116.0],[\"Madera\",\"California\",0.3379844443,68399.0],[\"Napa\",\"California\",0.329572817,77542.0],[\"Boulder\",\"Colorado\",0.2798842186,106634.0],[\"Greeley\",\"Colorado\",0.2327818375,112647.0],[\"Hartford\",\"Connecticut\",0.2276804877,121332.0],[\"Bridgeport\",\"Connecticut\",0.2799039374,149810.0],[\"New Haven\",\"Connecticut\",0.2736969555,136144.0],[\"Norwich\",\"Connecticut\",0.243343739,39908.0],[\"Dover\",\"Delaware\",0.2657265611,40049.0],[\"Miami\",\"Florida\",0.4102786374,470677.0],[\"Tampa\",\"Florida\",0.3289131801,409742.0],[\"Orlando\",\"Florida\",0.3068044523,327390.0],[\"Jacksonville\",\"Florida\",0.2629202038,993468.0],[\"North Port\",\"Florida\",0.3354170948,89452.0],[\"Cape Coral\",\"Florida\",0.3451115897,227022.0],[\"Lakeland\",\"Florida\",0.3318786696,123046.0],[\"Palm Bay\",\"Florida\",0.289481242,136084.0],[\"Port St. Lucie\",\"Florida\",0.4008562734,246695.0],[\"Tallahassee\",\"Florida\",0.2630860969,203665.0],[\"Ocala\",\"Florida\",0.324658952,68829.0],[\"Gainesville\",\"Florida\",0.3183111114,147524.0],[\"Crestview\",\"Florida\",0.2843289155,29453.0],[\"Punta Gorda\",\"Florida\",0.3362281867,20441.0],[\"Panama City\",\"Florida\",0.3126967466,35969.0],[\"Sebastian\",\"Florida\",0.3452410514,26953.0],[\"Sebring\",\"Florida\",0.3423595117,11621.0],[\"Augusta\",\"Georgia\",0.2388066416,201108.0],[\"Savannah\",\"Georgia\",0.2791774763,148333.0],[\"Athens\",\"Georgia\",0.2805753035,129026.0],[\"Gainesville\",\"Georgia\",0.2595182081,47149.0],[\"Valdosta\",\"Georgia\",0.2694082332,54989.0],[\"Brunswick\",\"Georgia\",0.2754054705,15431.0],[\"Hinesville\",\"Georgia\",0.3011740784,36331.0],[\"Urban Honolulu\",\"Hawaii\",0.3047282845,343531.0],[\"Chicago\",\"Illinois\",0.2655652052,2699144.0],[\"Kankakee\",\"Illinois\",0.2084589155,23571.0],[\"Bloomington\",\"Indiana\",0.2993625805,80262.0],[\"Bowling Green\",\"Kentucky\",0.2549507023,77069.0],[\"New Orleans\",\"Louisiana\",0.3090488576,365167.0],[\"Baton Rouge\",\"Louisiana\",0.2455086278,220773.0],[\"Shreveport\",\"Louisiana\",0.2728371942,178017.0],[\"Monroe\",\"Louisiana\",0.2194667322,46670.0],[\"Hammond\",\"Louisiana\",0.2766562039,22515.0],[\"Portland\",\"Maine\",0.2838996712,69367.0],[\"Baltimore\",\"Maryland\",0.2316566694,567517.0],[\"Hagerstown\",\"Maryland\",0.2301449549,43637.0],[\"Boston\",\"Massachusetts\",0.3070416082,664603.0],[\"Worcester\",\"Massachusetts\",0.2419433688,209211.0],[\"Springfield\",\"Massachusetts\",0.295037869,154220.0],[\"Detroit\",\"Michigan\",0.2317273657,638914.0],[\"Flint\",\"Michigan\",0.1957965402,79669.0],[\"Niles\",\"Michigan\",0.2872069817,11691.0],[\"Traverse City\",\"Michigan\",0.2965238351,15718.0],[\"Jackson\",\"Mississippi\",0.2760478333,143485.0],[\"Gulfport\",\"Mississippi\",0.2545486523,73095.0],[\"Hattiesburg\",\"Mississippi\",0.2652240293,48601.0],[\"Bozeman\",\"Montana\",0.2879715732,57106.0],[\"Carson City\",\"Nevada\",0.3101182689,58226.0],[\"Manchester\",\"New Hampshire\",0.2327672583,115692.0],[\"Trenton\",\"New Jersey\",0.2965357238,90383.0],[\"Atlantic City\",\"New Jersey\",0.2572818207,38701.0],[\"Santa Fe\",\"New Mexico\",0.2948949757,89506.0],[\"New York\",\"New York\",0.4125964659,8390888.0],[\"Buffalo\",\"New York\",0.2185629851,276376.0],[\"Rochester\",\"New York\",0.2205935737,207235.0],[\"Syracuse\",\"New York\",0.2337910662,146067.0],[\"Utica\",\"New York\",0.2557331596,63676.0],[\"Binghamton\",\"New York\",0.2750122947,46765.0],[\"Kingston\",\"New York\",0.2657294896,23816.0],[\"Watertown\",\"New York\",0.2539903883,24196.0],[\"Ithaca\",\"New York\",0.3549130777,33630.0],[\"Winston\",\"North Carolina\",0.2735173339,253332.0],[\"Fayetteville\",\"North Carolina\",0.2764923182,209873.0],[\"Asheville\",\"North Carolina\",0.3104172667,95235.0],[\"Wilmington\",\"North Carolina\",0.2708001246,123599.0],[\"Jacksonville\",\"North Carolina\",0.2525632159,71126.0],[\"Greenville\",\"North Carolina\",0.2838217045,93793.0],[\"Goldsboro\",\"North Carolina\",0.272727343,34505.0],[\"Cincinnati\",\"Ohio\",0.2169957965,312703.0],[\"Cleveland\",\"Ohio\",0.2262562633,364276.0],[\"Dayton\",\"Ohio\",0.2211808182,135936.0],[\"Youngstown\",\"Ohio\",0.2100853851,59195.0],[\"Canton\",\"Ohio\",0.188127096,69230.0],[\"Eugene\",\"Oregon\",0.2885473416,178686.0],[\"Corvallis\",\"Oregon\",0.2803398329,61627.0],[\"Grants Pass\",\"Oregon\",0.3062221994,39325.0],[\"Philadelphia\",\"Pennsylvania\",0.2432089352,1563349.0],[\"Allentown\",\"Pennsylvania\",0.2499254294,125919.0],[\"Harrisburg\",\"Pennsylvania\",0.2117322191,50292.0],[\"York\",\"Pennsylvania\",0.1826374976,45009.0],[\"Reading\",\"Pennsylvania\",0.2075296329,95353.0],[\"East Stroudsburg\",\"Pennsylvania\",0.2954195234,9461.0],[\"State College\",\"Pennsylvania\",0.282600763,41267.0],[\"Lebanon\",\"Pennsylvania\",0.1819227037,26421.0],[\"Providence\",\"Rhode Island\",0.2796118518,192606.0],[\"Myrtle Beach\",\"South Carolina\",0.292984952,39779.0],[\"Spartanburg\",\"South Carolina\",0.2663534615,39280.0],[\"Memphis\",\"Tennessee\",0.2627771003,614587.0],[\"Knoxville\",\"Tennessee\",0.2819297425,197463.0],[\"Morristown\",\"Tennessee\",0.2933096542,32222.0],[\"Dallas\",\"Texas\",0.2380278258,1317163.0],[\"Houston\",\"Texas\",0.247132188,2346908.0],[\"Brownsville\",\"Texas\",0.3167154822,190572.0],[\"Waco\",\"Texas\",0.2844600009,144943.0],[\"College Station\",\"Texas\",0.3018371782,126838.0],[\"Provo\",\"Utah\",0.2110644155,114276.0],[\"Burlington\",\"Vermont\",0.2629385888,44666.0],[\"Richmond\",\"Virginia\",0.2233639381,230383.0],[\"Charlottesville\",\"Virginia\",0.2403720764,45047.0],[\"Blacksburg\",\"Virginia\",0.2878987451,45663.0],[\"Winchester\",\"Virginia\",0.2499403762,27754.0],[\"Harrisonburg\",\"Virginia\",0.243433374,51378.0],[\"Olympia\",\"Washington\",0.2560564383,55907.0],[\"Bremerton\",\"Washington\",0.2258162669,44827.0],[\"Bellingham\",\"Washington\",0.296562469,95026.0],[\"Mount Vernon\",\"Washington\",0.2730257334,35294.0],[\"Wenatchee\",\"Washington\",0.285519921,35328.0],[\"Morgantown\",\"West Virginia\",0.2789323262,30315.0],[\"Milwaukee\",\"Wisconsin\",0.2100156488,563052.0]],\"hovertemplate\":\"\\u003cb\\u003e%{customdata[0]}, %{customdata[1]}\\u003c\\u002fb\\u003e\\u003cbr\\u003eAffordability: %{customdata[2]:.2f}\\u003cbr\\u003ePopulation: %{customdata[3]:,}\\u003cbr\\u003e\\u003cextra\\u003e\\u003c\\u002fextra\\u003e\",\"marker\":{\"color\":\"rgba(31, 237, 108, 0.8)\",\"size\":9},\"mode\":\"markers\",\"name\":\"Positive\",\"opacity\":0.7,\"x\":[196818.0,113016.0,549932.0,50156.0,76819.0,3847428.0,321560.0,1394555.0,529792.0,547260.0,199764.0,322581.0,176440.0,123292.0,110641.0,160548.0,49110.0,94190.0,62857.0,44160.0,69116.0,68399.0,77542.0,106634.0,112647.0,121332.0,149810.0,136144.0,39908.0,40049.0,470677.0,409742.0,327390.0,993468.0,89452.0,227022.0,123046.0,136084.0,246695.0,203665.0,68829.0,147524.0,29453.0,20441.0,35969.0,26953.0,11621.0,201108.0,148333.0,129026.0,47149.0,54989.0,15431.0,36331.0,343531.0,2699144.0,23571.0,80262.0,77069.0,365167.0,220773.0,178017.0,46670.0,22515.0,69367.0,567517.0,43637.0,664603.0,209211.0,154220.0,638914.0,79669.0,11691.0,15718.0,143485.0,73095.0,48601.0,57106.0,58226.0,115692.0,90383.0,38701.0,89506.0,8390888.0,276376.0,207235.0,146067.0,63676.0,46765.0,23816.0,24196.0,33630.0,253332.0,209873.0,95235.0,123599.0,71126.0,93793.0,34505.0,312703.0,364276.0,135936.0,59195.0,69230.0,178686.0,61627.0,39325.0,1563349.0,125919.0,50292.0,45009.0,95353.0,9461.0,41267.0,26421.0,192606.0,39779.0,39280.0,614587.0,197463.0,32222.0,1317163.0,2346908.0,190572.0,144943.0,126838.0,114276.0,44666.0,230383.0,45047.0,45663.0,27754.0,51378.0,55907.0,44827.0,95026.0,35294.0,35328.0,30315.0,563052.0],\"y\":[0.2278312076,0.2857250772,0.25665728,0.3198163276,0.3588439512,0.3671763918,0.3283894869,0.3395727961,0.2756229248,0.3235736326,0.318484372,0.3194362629,0.302835871,0.2844633463,0.4007922683,0.3435701438,0.3348625172,0.3817176734,0.3888062475,0.2930216046,0.2975406323,0.3379844443,0.329572817,0.2798842186,0.2327818375,0.2276804877,0.2799039374,0.2736969555,0.243343739,0.2657265611,0.4102786374,0.3289131801,0.3068044523,0.2629202038,0.3354170948,0.3451115897,0.3318786696,0.289481242,0.4008562734,0.2630860969,0.324658952,0.3183111114,0.2843289155,0.3362281867,0.3126967466,0.3452410514,0.3423595117,0.2388066416,0.2791774763,0.2805753035,0.2595182081,0.2694082332,0.2754054705,0.3011740784,0.3047282845,0.2655652052,0.2084589155,0.2993625805,0.2549507023,0.3090488576,0.2455086278,0.2728371942,0.2194667322,0.2766562039,0.2838996712,0.2316566694,0.2301449549,0.3070416082,0.2419433688,0.295037869,0.2317273657,0.1957965402,0.2872069817,0.2965238351,0.2760478333,0.2545486523,0.2652240293,0.2879715732,0.3101182689,0.2327672583,0.2965357238,0.2572818207,0.2948949757,0.4125964659,0.2185629851,0.2205935737,0.2337910662,0.2557331596,0.2750122947,0.2657294896,0.2539903883,0.3549130777,0.2735173339,0.2764923182,0.3104172667,0.2708001246,0.2525632159,0.2838217045,0.272727343,0.2169957965,0.2262562633,0.2211808182,0.2100853851,0.188127096,0.2885473416,0.2803398329,0.3062221994,0.2432089352,0.2499254294,0.2117322191,0.1826374976,0.2075296329,0.2954195234,0.282600763,0.1819227037,0.2796118518,0.292984952,0.2663534615,0.2627771003,0.2819297425,0.2933096542,0.2380278258,0.247132188,0.3167154822,0.2844600009,0.3018371782,0.2110644155,0.2629385888,0.2233639381,0.2403720764,0.2878987451,0.2499403762,0.243433374,0.2560564383,0.2258162669,0.296562469,0.2730257334,0.285519921,0.2789323262,0.2100156488],\"type\":\"scatter\"},{\"customdata\":[[\"Huntsville\",\"Alabama\",0.1955756618,226228.0],[\"Mobile\",\"Alabama\",0.2587133121,201920.0],[\"Montgomery\",\"Alabama\",0.2378276256,196107.0],[\"Daphne\",\"Alabama\",0.2675923535,30391.0],[\"Auburn\",\"Alabama\",0.3245176327,82447.0],[\"Decatur\",\"Alabama\",0.1943700495,57776.0],[\"Florence\",\"Alabama\",0.1968572529,42442.0],[\"Dothan\",\"Alabama\",0.2426074536,71317.0],[\"Anniston\",\"Alabama\",0.213341745,21182.0],[\"Anchorage\",\"Alaska\",0.2064164939,287932.0],[\"Fairbanks\",\"Alaska\",0.2239117731,32007.0],[\"Phoenix\",\"Arizona\",0.2508242241,1656231.0],[\"Lake Havasu City\",\"Arizona\",0.314900202,58802.0],[\"Yuma\",\"Arizona\",0.2578235427,101635.0],[\"Sierra Vista\",\"Arizona\",0.2920729519,44575.0],[\"Little Rock\",\"Arkansas\",0.2090205138,204235.0],[\"Fayetteville\",\"Arkansas\",0.2259753461,101511.0],[\"Fort Smith\",\"Arkansas\",0.2018204685,89859.0],[\"Jonesboro\",\"Arkansas\",0.236965638,80976.0],[\"Hot Springs\",\"Arkansas\",0.2548975967,37906.0],[\"San Francisco\",\"California\",0.2767569818,819151.0],[\"San Jose\",\"California\",0.2591314953,983734.0],[\"Bakersfield\",\"California\",0.2953706167,414626.0],[\"Modesto\",\"California\",0.2770151864,219432.0],[\"Visalia\",\"California\",0.2709072214,145111.0],[\"Chico\",\"California\",0.2811357899,102146.0],[\"Redding\",\"California\",0.2294106092,93013.0],[\"Hanford\",\"California\",0.3225327324,60006.0],[\"Denver\",\"Colorado\",0.2299716953,721367.0],[\"Colorado Springs\",\"Colorado\",0.2376694464,491301.0],[\"Fort Collins\",\"Colorado\",0.2525293313,170730.0],[\"Pueblo\",\"Colorado\",0.2426519523,111295.0],[\"Grand Junction\",\"Colorado\",0.2772832043,69448.0],[\"Deltona\",\"Florida\",0.3230655436,99157.0],[\"Pensacola\",\"Florida\",0.2601319298,53840.0],[\"Naples\",\"Florida\",0.3686043095,19987.0],[\"Atlanta\",\"Georgia\",0.2540930563,513184.0],[\"Columbus\",\"Georgia\",0.2654701993,201959.0],[\"Macon\",\"Georgia\",0.2333411128,156676.0],[\"Warner Robins\",\"Georgia\",0.2370126292,84645.0],[\"Albany\",\"Georgia\",0.2396375827,66871.0],[\"Dalton\",\"Georgia\",0.24708051,34655.0],[\"Rome\",\"Georgia\",0.2286674223,38411.0],[\"Boise City\",\"Idaho\",0.2489570278,236433.0],[\"Coeur d'Alene\",\"Idaho\",0.2847994082,56984.0],[\"Idaho Falls\",\"Idaho\",0.2110682885,68072.0],[\"Twin Falls\",\"Idaho\",0.2587946601,55114.0],[\"Pocatello\",\"Idaho\",0.1781617667,58176.0],[\"Peoria\",\"Illinois\",0.1766161904,111195.0],[\"Rockford\",\"Illinois\",0.1966801127,146799.0],[\"Champaign\",\"Illinois\",0.2132898043,90730.0],[\"Springfield\",\"Illinois\",0.1713571224,113003.0],[\"Bloomington\",\"Illinois\",0.1888506763,78952.0],[\"Carbondale\",\"Illinois\",0.1597581334,22102.0],[\"Decatur\",\"Illinois\",0.1889577648,68824.0],[\"Danville\",\"Illinois\",0.182248052,28161.0],[\"Indianapolis\",\"Indiana\",0.215274294,885839.0],[\"Fort Wayne\",\"Indiana\",0.1992908904,270408.0],[\"South Bend\",\"Indiana\",0.2327063926,103713.0],[\"Evansville\",\"Indiana\",0.1792618065,115421.0],[\"Lafayette\",\"Indiana\",0.2507191954,71926.0],[\"Elkhart\",\"Indiana\",0.1674434904,53673.0],[\"Terre Haute\",\"Indiana\",0.2066209477,58455.0],[\"Muncie\",\"Indiana\",0.1735868695,65145.0],[\"Michigan City\",\"Indiana\",0.2192919531,31630.0],[\"Kokomo\",\"Indiana\",0.1736929299,59899.0],[\"Columbus\",\"Indiana\",0.1889330599,51682.0],[\"Des Moines\",\"Iowa\",0.1791310987,211088.0],[\"Cedar Rapids\",\"Iowa\",0.1612755932,136637.0],[\"Iowa City\",\"Iowa\",0.2050345791,76111.0],[\"Waterloo\",\"Iowa\",0.1661172996,66856.0],[\"Sioux City\",\"Iowa\",0.1734236403,86284.0],[\"Ames\",\"Iowa\",0.1604834556,68428.0],[\"Dubuque\",\"Iowa\",0.1485309761,58941.0],[\"Wichita\",\"Kansas\",0.187935107,397656.0],[\"Topeka\",\"Kansas\",0.2052098265,125354.0],[\"Manhattan\",\"Kansas\",0.2039139716,54016.0],[\"Lawrence\",\"Kansas\",0.2076159975,96708.0],[\"Louisville\",\"Kentucky\",0.2168985716,632162.0],[\"Lexington\",\"Kentucky\",0.2295198786,324624.0],[\"Elizabethtown\",\"Kentucky\",0.2279873347,33061.0],[\"Owensboro\",\"Kentucky\",0.2052662902,60394.0],[\"Lafayette\",\"Louisiana\",0.2683435727,121767.0],[\"Lake Charles\",\"Louisiana\",0.1845178653,79937.0],[\"Houma\",\"Louisiana\",0.250582142,31797.0],[\"Alexandria\",\"Louisiana\",0.2082341869,43551.0],[\"Bangor\",\"Maine\",0.2548150547,32400.0],[\"Lewiston\",\"Maine\",0.2630975245,38709.0],[\"Cumberland\",\"Maryland\",0.1681137873,18730.0],[\"Barnstable Town\",\"Massachusetts\",0.3168894728,49958.0],[\"Pittsfield\",\"Massachusetts\",0.2330324039,43193.0],[\"Grand Rapids\",\"Michigan\",0.2274860799,198270.0],[\"Lansing\",\"Michigan\",0.2173826138,113224.0],[\"Ann Arbor\",\"Michigan\",0.2820668326,122645.0],[\"Kalamazoo\",\"Michigan\",0.2096241192,73384.0],[\"Saginaw\",\"Michigan\",0.1879915441,43172.0],[\"Muskegon\",\"Michigan\",0.2143355912,37168.0],[\"Jackson\",\"Michigan\",0.1703060975,30930.0],[\"Monroe\",\"Michigan\",0.2029431199,20189.0],[\"Battle Creek\",\"Michigan\",0.2131890582,52264.0],[\"Bay City\",\"Michigan\",0.1982260968,32179.0],[\"Midland\",\"Michigan\",0.2178819164,42783.0],[\"Minneapolis\",\"Minnesota\",0.1999469733,426569.0],[\"Duluth\",\"Minnesota\",0.2019158887,87733.0],[\"Rochester\",\"Minnesota\",0.2151936982,122658.0],[\"St. Cloud\",\"Minnesota\",0.2001506069,71441.0],[\"Grand Forks\",\"Minnesota\",0.1634380119,8941.0],[\"Mankato\",\"Minnesota\",0.1786015478,46076.0],[\"St. Louis\",\"Missouri\",0.1986501912,282772.0],[\"Kansas City\",\"Missouri\",0.207224097,511300.0],[\"Springfield\",\"Missouri\",0.2180622002,170446.0],[\"Columbia\",\"Missouri\",0.1973610057,129780.0],[\"Joplin\",\"Missouri\",0.2266750143,53131.0],[\"Jefferson City\",\"Missouri\",0.1351019423,42573.0],[\"St. Joseph\",\"Missouri\",0.157323114,70853.0],[\"Cape Girardeau\",\"Missouri\",0.1552864684,40579.0],[\"Billings\",\"Montana\",0.2197846817,120797.0],[\"Missoula\",\"Montana\",0.2347286763,77647.0],[\"Great Falls\",\"Montana\",0.2106443256,60243.0],[\"Helena\",\"Montana\",0.2266845633,34369.0],[\"Omaha\",\"Nebraska\",0.193435559,486780.0],[\"Lincoln\",\"Nebraska\",0.1973899786,296810.0],[\"Las Vegas\",\"Nevada\",0.2761218873,666630.0],[\"Reno\",\"Nevada\",0.2639860126,276078.0],[\"Vineland\",\"New Jersey\",0.2892962945,61212.0],[\"Albuquerque\",\"New Mexico\",0.2627439648,561094.0],[\"Las Cruces\",\"New Mexico\",0.2846408741,115489.0],[\"Farmington\",\"New Mexico\",0.2249609274,46307.0],[\"Albany\",\"New York\",0.2137692766,101297.0],[\"Charlotte\",\"North Carolina\",0.2560437117,920053.0],[\"Raleigh\",\"North Carolina\",0.2148776445,491078.0],[\"Greensboro\",\"North Carolina\",0.2571360589,303889.0],[\"Durham\",\"North Carolina\",0.2366921329,296382.0],[\"Hickory\",\"North Carolina\",0.2933713047,44560.0],[\"Burlington\",\"North Carolina\",0.244097948,60350.0],[\"Rocky Mount\",\"North Carolina\",0.2055332945,54388.0],[\"New Bern\",\"North Carolina\",0.2632509643,33789.0],[\"Pinehurst\",\"North Carolina\",0.2756797624,18477.0],[\"Fargo\",\"North Dakota\",0.1750298864,134360.0],[\"Bismarck\",\"North Dakota\",0.1831005864,76389.0],[\"Minot\",\"North Dakota\",0.1627000794,47420.0],[\"Columbus\",\"Ohio\",0.2226392146,920569.0],[\"Akron\",\"Ohio\",0.2061164982,189142.0],[\"Toledo\",\"Ohio\",0.2079974852,265798.0],[\"Springfield\",\"Ohio\",0.1884606549,58041.0],[\"Mansfield\",\"Ohio\",0.1683728789,47676.0],[\"Oklahoma City\",\"Oklahoma\",0.2202565348,704567.0],[\"Tulsa\",\"Oklahoma\",0.2361764912,414035.0],[\"Lawton\",\"Oklahoma\",0.2096935205,90451.0],[\"Enid\",\"Oklahoma\",0.1833586541,50582.0],[\"Portland\",\"Oregon\",0.228822247,634314.0],[\"Salem\",\"Oregon\",0.2546972638,179519.0],[\"Medford\",\"Oregon\",0.2836772463,85667.0],[\"Bend\",\"Oregon\",0.290399527,104707.0],[\"Albany\",\"Oregon\",0.2618275217,56974.0],[\"Pittsburgh\",\"Pennsylvania\",0.2249114209,304766.0],[\"Scranton\",\"Pennsylvania\",0.2411001613,75940.0],[\"Lancaster\",\"Pennsylvania\",0.2030837576,57304.0],[\"Erie\",\"Pennsylvania\",0.1941706888,93236.0],[\"Chambersburg\",\"Pennsylvania\",0.1769908151,22315.0],[\"Johnstown\",\"Pennsylvania\",0.1723432966,17959.0],[\"Altoona\",\"Pennsylvania\",0.1879429165,42852.0],[\"Williamsport\",\"Pennsylvania\",0.1887239157,27671.0],[\"Gettysburg\",\"Pennsylvania\",0.1810228701,8607.0],[\"Bloomsburg\",\"Pennsylvania\",0.1988762326,13271.0],[\"Greenville\",\"South Carolina\",0.2568654372,73368.0],[\"Columbia\",\"South Carolina\",0.2588751067,142173.0],[\"Charleston\",\"South Carolina\",0.2701571223,156263.0],[\"Hilton Head Island\",\"South Carolina\",0.3078851004,38163.0],[\"Florence\",\"South Carolina\",0.2993762431,40675.0],[\"Sumter\",\"South Carolina\",0.2808199916,42877.0],[\"Sioux Falls\",\"South Dakota\",0.1944863255,205968.0],[\"Rapid City\",\"South Dakota\",0.2078228875,79376.0],[\"Nashville\",\"Tennessee\",0.2564853368,694294.0],[\"Chattanooga\",\"Tennessee\",0.2524456879,188080.0],[\"Clarksville\",\"Tennessee\",0.2318587088,181142.0],[\"Kingsport\",\"Tennessee\",0.2699287335,56761.0],[\"Johnson City\",\"Tennessee\",0.2726815455,73447.0],[\"Jackson\",\"Tennessee\",0.2458803455,68391.0],[\"Cleveland\",\"Tennessee\",0.2705023189,49328.0],[\"San Antonio\",\"Texas\",0.245261173,1502711.0],[\"Austin\",\"Texas\",0.2155354347,989583.0],[\"McAllen\",\"Texas\",0.2525582063,147264.0],[\"El Paso\",\"Texas\",0.2964601558,681573.0],[\"Killeen\",\"Texas\",0.2254522789,159953.0],[\"Corpus Christi\",\"Texas\",0.2607159385,316978.0],[\"Beaumont\",\"Texas\",0.219394163,112616.0],[\"Lubbock\",\"Texas\",0.2744009503,268053.0],[\"Longview\",\"Texas\",0.2111108284,83521.0],[\"Amarillo\",\"Texas\",0.2214227466,202734.0],[\"Laredo\",\"Texas\",0.2401080308,258922.0],[\"Tyler\",\"Texas\",0.2309462389,110731.0],[\"Abilene\",\"Texas\",0.2598704396,129443.0],[\"Midland\",\"Texas\",0.205949667,139488.0],[\"Odessa\",\"Texas\",0.2662565924,116402.0],[\"Wichita Falls\",\"Texas\",0.2292038864,102633.0],[\"Texarkana\",\"Texas\",0.2382596093,35757.0],[\"Sherman\",\"Texas\",0.2594223765,47452.0],[\"San Angelo\",\"Texas\",0.2720649311,99513.0],[\"Victoria\",\"Texas\",0.202202654,65920.0],[\"Salt Lake City\",\"Utah\",0.2096731431,211833.0],[\"Ogden\",\"Utah\",0.1948115705,87525.0],[\"St. George\",\"Utah\",0.2741497495,104732.0],[\"Logan\",\"Utah\",0.1966491029,55588.0],[\"Virginia Beach\",\"Virginia\",0.2523994576,453779.0],[\"Roanoke\",\"Virginia\",0.2366788138,97503.0],[\"Lynchburg\",\"Virginia\",0.2238131425,79775.0],[\"Staunton\",\"Virginia\",0.254973163,25936.0],[\"Seattle\",\"Washington\",0.2312879853,764182.0],[\"Spokane\",\"Washington\",0.2384736575,230193.0],[\"Kennewick\",\"Washington\",0.2488047551,85915.0],[\"Yakima\",\"Washington\",0.2299004437,96904.0],[\"Longview\",\"Washington\",0.2159354135,38172.0],[\"Walla Walla\",\"Washington\",0.2256185731,33749.0],[\"Charleston\",\"West Virginia\",0.2132059691,46787.0],[\"Parkersburg\",\"West Virginia\",0.176590173,28991.0],[\"Madison\",\"Wisconsin\",0.216902129,281162.0],[\"Green Bay\",\"Wisconsin\",0.1588196506,106210.0],[\"Appleton\",\"Wisconsin\",0.1549338191,75102.0],[\"Racine\",\"Wisconsin\",0.2028166211,77379.0],[\"Oshkosh\",\"Wisconsin\",0.1814057461,66866.0],[\"Eau Claire\",\"Wisconsin\",0.158169132,71469.0],[\"Wausau\",\"Wisconsin\",0.1429978894,40148.0],[\"Janesville\",\"Wisconsin\",0.1732350521,66130.0],[\"La Crosse\",\"Wisconsin\",0.1772103504,51283.0],[\"Sheboygan\",\"Wisconsin\",0.17305975,49614.0],[\"Fond du Lac\",\"Wisconsin\",0.1571134876,44381.0],[\"Cheyenne\",\"Wyoming\",0.1950650687,65287.0],[\"Casper\",\"Wyoming\",0.214590089,58748.0]],\"hovertemplate\":\"\\u003cb\\u003e%{customdata[0]}, %{customdata[1]}\\u003c\\u002fb\\u003e\\u003cbr\\u003eAffordability: %{customdata[2]:.2f}\\u003cbr\\u003ePopulation: %{customdata[3]:,}\\u003cbr\\u003e\\u003cextra\\u003e\\u003c\\u002fextra\\u003e\",\"marker\":{\"color\":\"rgba(245, 73, 197, 0.8)\",\"size\":9},\"mode\":\"markers\",\"name\":\"Negative\",\"opacity\":0.7,\"x\":[226228.0,201920.0,196107.0,30391.0,82447.0,57776.0,42442.0,71317.0,21182.0,287932.0,32007.0,1656231.0,58802.0,101635.0,44575.0,204235.0,101511.0,89859.0,80976.0,37906.0,819151.0,983734.0,414626.0,219432.0,145111.0,102146.0,93013.0,60006.0,721367.0,491301.0,170730.0,111295.0,69448.0,99157.0,53840.0,19987.0,513184.0,201959.0,156676.0,84645.0,66871.0,34655.0,38411.0,236433.0,56984.0,68072.0,55114.0,58176.0,111195.0,146799.0,90730.0,113003.0,78952.0,22102.0,68824.0,28161.0,885839.0,270408.0,103713.0,115421.0,71926.0,53673.0,58455.0,65145.0,31630.0,59899.0,51682.0,211088.0,136637.0,76111.0,66856.0,86284.0,68428.0,58941.0,397656.0,125354.0,54016.0,96708.0,632162.0,324624.0,33061.0,60394.0,121767.0,79937.0,31797.0,43551.0,32400.0,38709.0,18730.0,49958.0,43193.0,198270.0,113224.0,122645.0,73384.0,43172.0,37168.0,30930.0,20189.0,52264.0,32179.0,42783.0,426569.0,87733.0,122658.0,71441.0,8941.0,46076.0,282772.0,511300.0,170446.0,129780.0,53131.0,42573.0,70853.0,40579.0,120797.0,77647.0,60243.0,34369.0,486780.0,296810.0,666630.0,276078.0,61212.0,561094.0,115489.0,46307.0,101297.0,920053.0,491078.0,303889.0,296382.0,44560.0,60350.0,54388.0,33789.0,18477.0,134360.0,76389.0,47420.0,920569.0,189142.0,265798.0,58041.0,47676.0,704567.0,414035.0,90451.0,50582.0,634314.0,179519.0,85667.0,104707.0,56974.0,304766.0,75940.0,57304.0,93236.0,22315.0,17959.0,42852.0,27671.0,8607.0,13271.0,73368.0,142173.0,156263.0,38163.0,40675.0,42877.0,205968.0,79376.0,694294.0,188080.0,181142.0,56761.0,73447.0,68391.0,49328.0,1502711.0,989583.0,147264.0,681573.0,159953.0,316978.0,112616.0,268053.0,83521.0,202734.0,258922.0,110731.0,129443.0,139488.0,116402.0,102633.0,35757.0,47452.0,99513.0,65920.0,211833.0,87525.0,104732.0,55588.0,453779.0,97503.0,79775.0,25936.0,764182.0,230193.0,85915.0,96904.0,38172.0,33749.0,46787.0,28991.0,281162.0,106210.0,75102.0,77379.0,66866.0,71469.0,40148.0,66130.0,51283.0,49614.0,44381.0,65287.0,58748.0],\"y\":[0.1955756618,0.2587133121,0.2378276256,0.2675923535,0.3245176327,0.1943700495,0.1968572529,0.2426074536,0.213341745,0.2064164939,0.2239117731,0.2508242241,0.314900202,0.2578235427,0.2920729519,0.2090205138,0.2259753461,0.2018204685,0.236965638,0.2548975967,0.2767569818,0.2591314953,0.2953706167,0.2770151864,0.2709072214,0.2811357899,0.2294106092,0.3225327324,0.2299716953,0.2376694464,0.2525293313,0.2426519523,0.2772832043,0.3230655436,0.2601319298,0.3686043095,0.2540930563,0.2654701993,0.2333411128,0.2370126292,0.2396375827,0.24708051,0.2286674223,0.2489570278,0.2847994082,0.2110682885,0.2587946601,0.1781617667,0.1766161904,0.1966801127,0.2132898043,0.1713571224,0.1888506763,0.1597581334,0.1889577648,0.182248052,0.215274294,0.1992908904,0.2327063926,0.1792618065,0.2507191954,0.1674434904,0.2066209477,0.1735868695,0.2192919531,0.1736929299,0.1889330599,0.1791310987,0.1612755932,0.2050345791,0.1661172996,0.1734236403,0.1604834556,0.1485309761,0.187935107,0.2052098265,0.2039139716,0.2076159975,0.2168985716,0.2295198786,0.2279873347,0.2052662902,0.2683435727,0.1845178653,0.250582142,0.2082341869,0.2548150547,0.2630975245,0.1681137873,0.3168894728,0.2330324039,0.2274860799,0.2173826138,0.2820668326,0.2096241192,0.1879915441,0.2143355912,0.1703060975,0.2029431199,0.2131890582,0.1982260968,0.2178819164,0.1999469733,0.2019158887,0.2151936982,0.2001506069,0.1634380119,0.1786015478,0.1986501912,0.207224097,0.2180622002,0.1973610057,0.2266750143,0.1351019423,0.157323114,0.1552864684,0.2197846817,0.2347286763,0.2106443256,0.2266845633,0.193435559,0.1973899786,0.2761218873,0.2639860126,0.2892962945,0.2627439648,0.2846408741,0.2249609274,0.2137692766,0.2560437117,0.2148776445,0.2571360589,0.2366921329,0.2933713047,0.244097948,0.2055332945,0.2632509643,0.2756797624,0.1750298864,0.1831005864,0.1627000794,0.2226392146,0.2061164982,0.2079974852,0.1884606549,0.1683728789,0.2202565348,0.2361764912,0.2096935205,0.1833586541,0.228822247,0.2546972638,0.2836772463,0.290399527,0.2618275217,0.2249114209,0.2411001613,0.2030837576,0.1941706888,0.1769908151,0.1723432966,0.1879429165,0.1887239157,0.1810228701,0.1988762326,0.2568654372,0.2588751067,0.2701571223,0.3078851004,0.2993762431,0.2808199916,0.1944863255,0.2078228875,0.2564853368,0.2524456879,0.2318587088,0.2699287335,0.2726815455,0.2458803455,0.2705023189,0.245261173,0.2155354347,0.2525582063,0.2964601558,0.2254522789,0.2607159385,0.219394163,0.2744009503,0.2111108284,0.2214227466,0.2401080308,0.2309462389,0.2598704396,0.205949667,0.2662565924,0.2292038864,0.2382596093,0.2594223765,0.2720649311,0.202202654,0.2096731431,0.1948115705,0.2741497495,0.1966491029,0.2523994576,0.2366788138,0.2238131425,0.254973163,0.2312879853,0.2384736575,0.2488047551,0.2299004437,0.2159354135,0.2256185731,0.2132059691,0.176590173,0.216902129,0.1588196506,0.1549338191,0.2028166211,0.1814057461,0.158169132,0.1429978894,0.1732350521,0.1772103504,0.17305975,0.1571134876,0.1950650687,0.214590089],\"type\":\"scatter\"}],                        {\"legend\":{\"title\":{\"text\":\"Income Difference\"}},\"template\":{\"data\":{\"barpolar\":[{\"marker\":{\"line\":{\"color\":\"#E5ECF6\",\"width\":0.5},\"pattern\":{\"fillmode\":\"overlay\",\"size\":10,\"solidity\":0.2}},\"type\":\"barpolar\"}],\"bar\":[{\"error_x\":{\"color\":\"#2a3f5f\"},\"error_y\":{\"color\":\"#2a3f5f\"},\"marker\":{\"line\":{\"color\":\"#E5ECF6\",\"width\":0.5},\"pattern\":{\"fillmode\":\"overlay\",\"size\":10,\"solidity\":0.2}},\"type\":\"bar\"}],\"carpet\":[{\"aaxis\":{\"endlinecolor\":\"#2a3f5f\",\"gridcolor\":\"white\",\"linecolor\":\"white\",\"minorgridcolor\":\"white\",\"startlinecolor\":\"#2a3f5f\"},\"baxis\":{\"endlinecolor\":\"#2a3f5f\",\"gridcolor\":\"white\",\"linecolor\":\"white\",\"minorgridcolor\":\"white\",\"startlinecolor\":\"#2a3f5f\"},\"type\":\"carpet\"}],\"choropleth\":[{\"colorbar\":{\"outlinewidth\":0,\"ticks\":\"\"},\"type\":\"choropleth\"}],\"contourcarpet\":[{\"colorbar\":{\"outlinewidth\":0,\"ticks\":\"\"},\"type\":\"contourcarpet\"}],\"contour\":[{\"colorbar\":{\"outlinewidth\":0,\"ticks\":\"\"},\"colorscale\":[[0.0,\"#0d0887\"],[0.1111111111111111,\"#46039f\"],[0.2222222222222222,\"#7201a8\"],[0.3333333333333333,\"#9c179e\"],[0.4444444444444444,\"#bd3786\"],[0.5555555555555556,\"#d8576b\"],[0.6666666666666666,\"#ed7953\"],[0.7777777777777778,\"#fb9f3a\"],[0.8888888888888888,\"#fdca26\"],[1.0,\"#f0f921\"]],\"type\":\"contour\"}],\"heatmapgl\":[{\"colorbar\":{\"outlinewidth\":0,\"ticks\":\"\"},\"colorscale\":[[0.0,\"#0d0887\"],[0.1111111111111111,\"#46039f\"],[0.2222222222222222,\"#7201a8\"],[0.3333333333333333,\"#9c179e\"],[0.4444444444444444,\"#bd3786\"],[0.5555555555555556,\"#d8576b\"],[0.6666666666666666,\"#ed7953\"],[0.7777777777777778,\"#fb9f3a\"],[0.8888888888888888,\"#fdca26\"],[1.0,\"#f0f921\"]],\"type\":\"heatmapgl\"}],\"heatmap\":[{\"colorbar\":{\"outlinewidth\":0,\"ticks\":\"\"},\"colorscale\":[[0.0,\"#0d0887\"],[0.1111111111111111,\"#46039f\"],[0.2222222222222222,\"#7201a8\"],[0.3333333333333333,\"#9c179e\"],[0.4444444444444444,\"#bd3786\"],[0.5555555555555556,\"#d8576b\"],[0.6666666666666666,\"#ed7953\"],[0.7777777777777778,\"#fb9f3a\"],[0.8888888888888888,\"#fdca26\"],[1.0,\"#f0f921\"]],\"type\":\"heatmap\"}],\"histogram2dcontour\":[{\"colorbar\":{\"outlinewidth\":0,\"ticks\":\"\"},\"colorscale\":[[0.0,\"#0d0887\"],[0.1111111111111111,\"#46039f\"],[0.2222222222222222,\"#7201a8\"],[0.3333333333333333,\"#9c179e\"],[0.4444444444444444,\"#bd3786\"],[0.5555555555555556,\"#d8576b\"],[0.6666666666666666,\"#ed7953\"],[0.7777777777777778,\"#fb9f3a\"],[0.8888888888888888,\"#fdca26\"],[1.0,\"#f0f921\"]],\"type\":\"histogram2dcontour\"}],\"histogram2d\":[{\"colorbar\":{\"outlinewidth\":0,\"ticks\":\"\"},\"colorscale\":[[0.0,\"#0d0887\"],[0.1111111111111111,\"#46039f\"],[0.2222222222222222,\"#7201a8\"],[0.3333333333333333,\"#9c179e\"],[0.4444444444444444,\"#bd3786\"],[0.5555555555555556,\"#d8576b\"],[0.6666666666666666,\"#ed7953\"],[0.7777777777777778,\"#fb9f3a\"],[0.8888888888888888,\"#fdca26\"],[1.0,\"#f0f921\"]],\"type\":\"histogram2d\"}],\"histogram\":[{\"marker\":{\"pattern\":{\"fillmode\":\"overlay\",\"size\":10,\"solidity\":0.2}},\"type\":\"histogram\"}],\"mesh3d\":[{\"colorbar\":{\"outlinewidth\":0,\"ticks\":\"\"},\"type\":\"mesh3d\"}],\"parcoords\":[{\"line\":{\"colorbar\":{\"outlinewidth\":0,\"ticks\":\"\"}},\"type\":\"parcoords\"}],\"pie\":[{\"automargin\":true,\"type\":\"pie\"}],\"scatter3d\":[{\"line\":{\"colorbar\":{\"outlinewidth\":0,\"ticks\":\"\"}},\"marker\":{\"colorbar\":{\"outlinewidth\":0,\"ticks\":\"\"}},\"type\":\"scatter3d\"}],\"scattercarpet\":[{\"marker\":{\"colorbar\":{\"outlinewidth\":0,\"ticks\":\"\"}},\"type\":\"scattercarpet\"}],\"scattergeo\":[{\"marker\":{\"colorbar\":{\"outlinewidth\":0,\"ticks\":\"\"}},\"type\":\"scattergeo\"}],\"scattergl\":[{\"marker\":{\"colorbar\":{\"outlinewidth\":0,\"ticks\":\"\"}},\"type\":\"scattergl\"}],\"scattermapbox\":[{\"marker\":{\"colorbar\":{\"outlinewidth\":0,\"ticks\":\"\"}},\"type\":\"scattermapbox\"}],\"scatterpolargl\":[{\"marker\":{\"colorbar\":{\"outlinewidth\":0,\"ticks\":\"\"}},\"type\":\"scatterpolargl\"}],\"scatterpolar\":[{\"marker\":{\"colorbar\":{\"outlinewidth\":0,\"ticks\":\"\"}},\"type\":\"scatterpolar\"}],\"scatter\":[{\"fillpattern\":{\"fillmode\":\"overlay\",\"size\":10,\"solidity\":0.2},\"type\":\"scatter\"}],\"scatterternary\":[{\"marker\":{\"colorbar\":{\"outlinewidth\":0,\"ticks\":\"\"}},\"type\":\"scatterternary\"}],\"surface\":[{\"colorbar\":{\"outlinewidth\":0,\"ticks\":\"\"},\"colorscale\":[[0.0,\"#0d0887\"],[0.1111111111111111,\"#46039f\"],[0.2222222222222222,\"#7201a8\"],[0.3333333333333333,\"#9c179e\"],[0.4444444444444444,\"#bd3786\"],[0.5555555555555556,\"#d8576b\"],[0.6666666666666666,\"#ed7953\"],[0.7777777777777778,\"#fb9f3a\"],[0.8888888888888888,\"#fdca26\"],[1.0,\"#f0f921\"]],\"type\":\"surface\"}],\"table\":[{\"cells\":{\"fill\":{\"color\":\"#EBF0F8\"},\"line\":{\"color\":\"white\"}},\"header\":{\"fill\":{\"color\":\"#C8D4E3\"},\"line\":{\"color\":\"white\"}},\"type\":\"table\"}]},\"layout\":{\"annotationdefaults\":{\"arrowcolor\":\"#2a3f5f\",\"arrowhead\":0,\"arrowwidth\":1},\"autotypenumbers\":\"strict\",\"coloraxis\":{\"colorbar\":{\"outlinewidth\":0,\"ticks\":\"\"}},\"colorscale\":{\"diverging\":[[0,\"#8e0152\"],[0.1,\"#c51b7d\"],[0.2,\"#de77ae\"],[0.3,\"#f1b6da\"],[0.4,\"#fde0ef\"],[0.5,\"#f7f7f7\"],[0.6,\"#e6f5d0\"],[0.7,\"#b8e186\"],[0.8,\"#7fbc41\"],[0.9,\"#4d9221\"],[1,\"#276419\"]],\"sequential\":[[0.0,\"#0d0887\"],[0.1111111111111111,\"#46039f\"],[0.2222222222222222,\"#7201a8\"],[0.3333333333333333,\"#9c179e\"],[0.4444444444444444,\"#bd3786\"],[0.5555555555555556,\"#d8576b\"],[0.6666666666666666,\"#ed7953\"],[0.7777777777777778,\"#fb9f3a\"],[0.8888888888888888,\"#fdca26\"],[1.0,\"#f0f921\"]],\"sequentialminus\":[[0.0,\"#0d0887\"],[0.1111111111111111,\"#46039f\"],[0.2222222222222222,\"#7201a8\"],[0.3333333333333333,\"#9c179e\"],[0.4444444444444444,\"#bd3786\"],[0.5555555555555556,\"#d8576b\"],[0.6666666666666666,\"#ed7953\"],[0.7777777777777778,\"#fb9f3a\"],[0.8888888888888888,\"#fdca26\"],[1.0,\"#f0f921\"]]},\"colorway\":[\"#636efa\",\"#EF553B\",\"#00cc96\",\"#ab63fa\",\"#FFA15A\",\"#19d3f3\",\"#FF6692\",\"#B6E880\",\"#FF97FF\",\"#FECB52\"],\"font\":{\"color\":\"#2a3f5f\"},\"geo\":{\"bgcolor\":\"white\",\"lakecolor\":\"white\",\"landcolor\":\"#E5ECF6\",\"showlakes\":true,\"showland\":true,\"subunitcolor\":\"white\"},\"hoverlabel\":{\"align\":\"left\"},\"hovermode\":\"closest\",\"mapbox\":{\"style\":\"light\"},\"paper_bgcolor\":\"white\",\"plot_bgcolor\":\"#E5ECF6\",\"polar\":{\"angularaxis\":{\"gridcolor\":\"white\",\"linecolor\":\"white\",\"ticks\":\"\"},\"bgcolor\":\"#E5ECF6\",\"radialaxis\":{\"gridcolor\":\"white\",\"linecolor\":\"white\",\"ticks\":\"\"}},\"scene\":{\"xaxis\":{\"backgroundcolor\":\"#E5ECF6\",\"gridcolor\":\"white\",\"gridwidth\":2,\"linecolor\":\"white\",\"showbackground\":true,\"ticks\":\"\",\"zerolinecolor\":\"white\"},\"yaxis\":{\"backgroundcolor\":\"#E5ECF6\",\"gridcolor\":\"white\",\"gridwidth\":2,\"linecolor\":\"white\",\"showbackground\":true,\"ticks\":\"\",\"zerolinecolor\":\"white\"},\"zaxis\":{\"backgroundcolor\":\"#E5ECF6\",\"gridcolor\":\"white\",\"gridwidth\":2,\"linecolor\":\"white\",\"showbackground\":true,\"ticks\":\"\",\"zerolinecolor\":\"white\"}},\"shapedefaults\":{\"line\":{\"color\":\"#2a3f5f\"}},\"ternary\":{\"aaxis\":{\"gridcolor\":\"white\",\"linecolor\":\"white\",\"ticks\":\"\"},\"baxis\":{\"gridcolor\":\"white\",\"linecolor\":\"white\",\"ticks\":\"\"},\"bgcolor\":\"#E5ECF6\",\"caxis\":{\"gridcolor\":\"white\",\"linecolor\":\"white\",\"ticks\":\"\"}},\"title\":{\"x\":0.05},\"xaxis\":{\"automargin\":true,\"gridcolor\":\"white\",\"linecolor\":\"white\",\"ticks\":\"\",\"title\":{\"standoff\":15},\"zerolinecolor\":\"white\",\"zerolinewidth\":2},\"yaxis\":{\"automargin\":true,\"gridcolor\":\"white\",\"linecolor\":\"white\",\"ticks\":\"\",\"title\":{\"standoff\":15},\"zerolinecolor\":\"white\",\"zerolinewidth\":2}}},\"title\":{\"text\":\"Affordability vs Population (by Income Difference Sign)\"},\"xaxis\":{\"ticklen\":10,\"title\":{\"text\":\"Population (log)\"},\"type\":\"log\",\"zeroline\":false},\"yaxis\":{\"ticklen\":5,\"title\":{\"text\":\"Average Affordability\"},\"zeroline\":false}},                        {\"responsive\": true}                    ).then(function(){\n",
              "                            \n",
              "var gd = document.getElementById('116da959-ed01-4090-99fe-2c8f87fe71f8');\n",
              "var x = new MutationObserver(function (mutations, observer) {{\n",
              "        var display = window.getComputedStyle(gd).display;\n",
              "        if (!display || display === 'none') {{\n",
              "            console.log([gd, 'removed!']);\n",
              "            Plotly.purge(gd);\n",
              "            observer.disconnect();\n",
              "        }}\n",
              "}});\n",
              "\n",
              "// Listen for the removal of the full notebook cells\n",
              "var notebookContainer = gd.closest('#notebook-container');\n",
              "if (notebookContainer) {{\n",
              "    x.observe(notebookContainer, {childList: true});\n",
              "}}\n",
              "\n",
              "// Listen for the clearing of the current output cell\n",
              "var outputEl = gd.closest('.output');\n",
              "if (outputEl) {{\n",
              "    x.observe(outputEl, {childList: true});\n",
              "}}\n",
              "\n",
              "                        })                };                });            </script>        </div>"
            ]
          },
          "metadata": {}
        }
      ]
    },
    {
      "cell_type": "markdown",
      "source": [
        "## Q5: Additional datasets and data processing\n",
        "For the questions below you do not need to do the plotting if you have not found another complementary dataset. However, write the psuedocode of how you could go about answering the questions and sketches of what your visualization might be. Answer the following:\n",
        "\n",
        "What additional datasets would you need to find or create to help strengthen your data?\n",
        "How would you combine the dataset?\n",
        "Do you need to reshape your data and how could you go about it?"
      ],
      "metadata": {
        "id": "INxqWvFUCapx"
      }
    },
    {
      "cell_type": "markdown",
      "source": [
        "Additional Datasets: Median Household value, Cost of living, job opportunity / employment reate, crime rate\n",
        "\n",
        "Psuedocode:\n",
        "\n",
        "# Step 1: Start with the main renter affordability dataset\n",
        "Load renter_affordability_data\n",
        "\n",
        "# Step 2: Load the additional complementary datasets\n",
        "Load median_house_value_data\n",
        "Load cost_of_living_data\n",
        "Load employment_rate_data\n",
        "Load crime_rate_data\n",
        "\n",
        "# Step 3: Clean and standardize each dataset\n",
        "- Make sure each dataset has the same column names for City and State\n",
        "- Remove any duplicate or irrelevant columns\n",
        "- Handle missing values (replace or remove if necessary)\n",
        "\n",
        "# Step 4: Merge datasets together using City and State as keys\n",
        "- Merge renter_affordability_data with median_house_value_data on City and State\n",
        "- Merge the result with cost_of_living_data on City and State\n",
        "- Merge the result with employment_rate_data on City and State\n",
        "- Merge the result with crime_rate_data on City and State\n",
        "\n",
        "# Step 5: Check the combined dataset\n",
        "- Verify that all cities and states are correctly aligned\n",
        "- Check for null values or mismatched rows after merging\n",
        "- If needed, fill missing data with averages or zeros\n",
        "\n",
        "# Step 6: Reshape or aggregate data if needed\n",
        "- If data includes multiple years, group or average by City and State\n",
        "- If data is in wide format, use melt or pivot to make it long format for visualization\n",
        "\n",
        "# Step 7: Save or visualize the merged dataset\n",
        "- Save the cleaned and merged dataset to a new CSV file\n",
        "- Use it to create new plots showing how affordability relates to\n",
        "  house value, cost of living, employment rate, and crime rate"
      ],
      "metadata": {
        "id": "RvuLDV60on3k"
      }
    },
    {
      "cell_type": "code",
      "source": [],
      "metadata": {
        "id": "HVYTqe5qxuYg"
      },
      "execution_count": null,
      "outputs": []
    }
  ],
  "metadata": {
    "kernelspec": {
      "display_name": "Python 3",
      "language": "python",
      "name": "python3"
    },
    "language_info": {
      "codemirror_mode": {
        "name": "ipython",
        "version": 3
      },
      "file_extension": ".py",
      "mimetype": "text/x-python",
      "name": "python",
      "nbconvert_exporter": "python",
      "pygments_lexer": "ipython3",
      "version": "3.7.6"
    },
    "colab": {
      "provenance": []
    }
  },
  "nbformat": 4,
  "nbformat_minor": 0
}